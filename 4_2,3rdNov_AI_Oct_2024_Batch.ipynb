{
  "cells": [
    {
      "cell_type": "markdown",
      "id": "ac73f05c",
      "metadata": {
        "id": "ac73f05c"
      },
      "source": [
        "# Histograms & Density Plots"
      ]
    },
    {
      "cell_type": "code",
      "execution_count": null,
      "id": "52d421fc",
      "metadata": {
        "id": "52d421fc",
        "outputId": "4c1efefa-c489-42cc-c31e-2746f5f4c722"
      },
      "outputs": [
        {
          "data": {
            "text/html": [
              "<div>\n",
              "<style scoped>\n",
              "    .dataframe tbody tr th:only-of-type {\n",
              "        vertical-align: middle;\n",
              "    }\n",
              "\n",
              "    .dataframe tbody tr th {\n",
              "        vertical-align: top;\n",
              "    }\n",
              "\n",
              "    .dataframe thead th {\n",
              "        text-align: right;\n",
              "    }\n",
              "</style>\n",
              "<table border=\"1\" class=\"dataframe\">\n",
              "  <thead>\n",
              "    <tr style=\"text-align: right;\">\n",
              "      <th></th>\n",
              "      <th>total_bill</th>\n",
              "      <th>tip</th>\n",
              "      <th>smoker</th>\n",
              "      <th>day</th>\n",
              "      <th>time</th>\n",
              "      <th>size</th>\n",
              "    </tr>\n",
              "  </thead>\n",
              "  <tbody>\n",
              "    <tr>\n",
              "      <th>0</th>\n",
              "      <td>16.99</td>\n",
              "      <td>1.01</td>\n",
              "      <td>No</td>\n",
              "      <td>Sun</td>\n",
              "      <td>Dinner</td>\n",
              "      <td>2</td>\n",
              "    </tr>\n",
              "    <tr>\n",
              "      <th>1</th>\n",
              "      <td>10.34</td>\n",
              "      <td>1.66</td>\n",
              "      <td>No</td>\n",
              "      <td>Sun</td>\n",
              "      <td>Dinner</td>\n",
              "      <td>3</td>\n",
              "    </tr>\n",
              "    <tr>\n",
              "      <th>2</th>\n",
              "      <td>21.01</td>\n",
              "      <td>3.50</td>\n",
              "      <td>No</td>\n",
              "      <td>Sun</td>\n",
              "      <td>Dinner</td>\n",
              "      <td>3</td>\n",
              "    </tr>\n",
              "    <tr>\n",
              "      <th>3</th>\n",
              "      <td>23.68</td>\n",
              "      <td>3.31</td>\n",
              "      <td>No</td>\n",
              "      <td>Sun</td>\n",
              "      <td>Dinner</td>\n",
              "      <td>2</td>\n",
              "    </tr>\n",
              "    <tr>\n",
              "      <th>4</th>\n",
              "      <td>24.59</td>\n",
              "      <td>3.61</td>\n",
              "      <td>No</td>\n",
              "      <td>Sun</td>\n",
              "      <td>Dinner</td>\n",
              "      <td>4</td>\n",
              "    </tr>\n",
              "  </tbody>\n",
              "</table>\n",
              "</div>"
            ],
            "text/plain": [
              "   total_bill   tip smoker  day    time  size\n",
              "0       16.99  1.01     No  Sun  Dinner     2\n",
              "1       10.34  1.66     No  Sun  Dinner     3\n",
              "2       21.01  3.50     No  Sun  Dinner     3\n",
              "3       23.68  3.31     No  Sun  Dinner     2\n",
              "4       24.59  3.61     No  Sun  Dinner     4"
            ]
          },
          "execution_count": 34,
          "metadata": {},
          "output_type": "execute_result"
        }
      ],
      "source": [
        "import pandas as pd\n",
        "\n",
        "tips= pd.read_csv(\"examples/tips.csv\")\n",
        "\n",
        "tips.head()"
      ]
    },
    {
      "cell_type": "code",
      "execution_count": null,
      "id": "fe844e23",
      "metadata": {
        "id": "fe844e23",
        "outputId": "2e39f6e0-c3df-4311-ef66-524a1ff882fe"
      },
      "outputs": [
        {
          "data": {
            "text/html": [
              "<div>\n",
              "<style scoped>\n",
              "    .dataframe tbody tr th:only-of-type {\n",
              "        vertical-align: middle;\n",
              "    }\n",
              "\n",
              "    .dataframe tbody tr th {\n",
              "        vertical-align: top;\n",
              "    }\n",
              "\n",
              "    .dataframe thead th {\n",
              "        text-align: right;\n",
              "    }\n",
              "</style>\n",
              "<table border=\"1\" class=\"dataframe\">\n",
              "  <thead>\n",
              "    <tr style=\"text-align: right;\">\n",
              "      <th></th>\n",
              "      <th>total_bill</th>\n",
              "      <th>tip</th>\n",
              "      <th>smoker</th>\n",
              "      <th>day</th>\n",
              "      <th>time</th>\n",
              "      <th>size</th>\n",
              "      <th>tip_pct</th>\n",
              "    </tr>\n",
              "  </thead>\n",
              "  <tbody>\n",
              "    <tr>\n",
              "      <th>0</th>\n",
              "      <td>16.99</td>\n",
              "      <td>1.01</td>\n",
              "      <td>No</td>\n",
              "      <td>Sun</td>\n",
              "      <td>Dinner</td>\n",
              "      <td>2</td>\n",
              "      <td>0.063204</td>\n",
              "    </tr>\n",
              "    <tr>\n",
              "      <th>1</th>\n",
              "      <td>10.34</td>\n",
              "      <td>1.66</td>\n",
              "      <td>No</td>\n",
              "      <td>Sun</td>\n",
              "      <td>Dinner</td>\n",
              "      <td>3</td>\n",
              "      <td>0.191244</td>\n",
              "    </tr>\n",
              "    <tr>\n",
              "      <th>2</th>\n",
              "      <td>21.01</td>\n",
              "      <td>3.50</td>\n",
              "      <td>No</td>\n",
              "      <td>Sun</td>\n",
              "      <td>Dinner</td>\n",
              "      <td>3</td>\n",
              "      <td>0.199886</td>\n",
              "    </tr>\n",
              "    <tr>\n",
              "      <th>3</th>\n",
              "      <td>23.68</td>\n",
              "      <td>3.31</td>\n",
              "      <td>No</td>\n",
              "      <td>Sun</td>\n",
              "      <td>Dinner</td>\n",
              "      <td>2</td>\n",
              "      <td>0.162494</td>\n",
              "    </tr>\n",
              "    <tr>\n",
              "      <th>4</th>\n",
              "      <td>24.59</td>\n",
              "      <td>3.61</td>\n",
              "      <td>No</td>\n",
              "      <td>Sun</td>\n",
              "      <td>Dinner</td>\n",
              "      <td>4</td>\n",
              "      <td>0.172069</td>\n",
              "    </tr>\n",
              "  </tbody>\n",
              "</table>\n",
              "</div>"
            ],
            "text/plain": [
              "   total_bill   tip smoker  day    time  size   tip_pct\n",
              "0       16.99  1.01     No  Sun  Dinner     2  0.063204\n",
              "1       10.34  1.66     No  Sun  Dinner     3  0.191244\n",
              "2       21.01  3.50     No  Sun  Dinner     3  0.199886\n",
              "3       23.68  3.31     No  Sun  Dinner     2  0.162494\n",
              "4       24.59  3.61     No  Sun  Dinner     4  0.172069"
            ]
          },
          "execution_count": 35,
          "metadata": {},
          "output_type": "execute_result"
        }
      ],
      "source": [
        "import seaborn as sns\n",
        "\n",
        "tips[\"tip_pct\"]=tips[\"tip\"]/(tips[\"total_bill\"]-tips[\"tip\"])\n",
        "\n",
        "tips.head()"
      ]
    },
    {
      "cell_type": "markdown",
      "id": "cce96b8d",
      "metadata": {
        "id": "cce96b8d"
      },
      "source": [
        "A histogram is a kind of bar plot that gives a discretized display of continuous data"
      ]
    },
    {
      "cell_type": "code",
      "execution_count": null,
      "id": "1893e8ff",
      "metadata": {
        "id": "1893e8ff",
        "outputId": "d9eda328-c204-4290-d522-b46f97fc4315"
      },
      "outputs": [
        {
          "data": {
            "text/plain": [
              "<AxesSubplot:ylabel='Frequency'>"
            ]
          },
          "execution_count": 36,
          "metadata": {},
          "output_type": "execute_result"
        },
        {
          "data": {
            "image/png": "[encoded data removed]",
            "text/plain": [
              "<Figure size 432x288 with 1 Axes>"
            ]
          },
          "metadata": {
            "needs_background": "light"
          },
          "output_type": "display_data"
        }
      ],
      "source": [
        "tips[\"tip_pct\"].plot.hist(bins=50)"
      ]
    },
    {
      "cell_type": "code",
      "execution_count": null,
      "id": "1e9a5f01",
      "metadata": {
        "id": "1e9a5f01",
        "outputId": "59bbf76a-11c1-448c-924a-90f168d07d5c"
      },
      "outputs": [
        {
          "data": {
            "text/plain": [
              "<AxesSubplot:ylabel='Density'>"
            ]
          },
          "execution_count": 37,
          "metadata": {},
          "output_type": "execute_result"
        },
        {
          "data": {
            "image/png": "[encoded data removed]",
            "text/plain": [
              "<Figure size 432x288 with 1 Axes>"
            ]
          },
          "metadata": {
            "needs_background": "light"
          },
          "output_type": "display_data"
        }
      ],
      "source": [
        "tips[\"tip_pct\"].plot.density()"
      ]
    },
    {
      "cell_type": "markdown",
      "id": "64ab58ed",
      "metadata": {
        "id": "64ab58ed"
      },
      "source": [
        "# Scatter or Point Plots"
      ]
    },
    {
      "cell_type": "code",
      "execution_count": null,
      "id": "04f895b7",
      "metadata": {
        "id": "04f895b7",
        "outputId": "5aea6890-5777-409e-eadb-83a872163ac8"
      },
      "outputs": [
        {
          "data": {
            "text/html": [
              "<div>\n",
              "<style scoped>\n",
              "    .dataframe tbody tr th:only-of-type {\n",
              "        vertical-align: middle;\n",
              "    }\n",
              "\n",
              "    .dataframe tbody tr th {\n",
              "        vertical-align: top;\n",
              "    }\n",
              "\n",
              "    .dataframe thead th {\n",
              "        text-align: right;\n",
              "    }\n",
              "</style>\n",
              "<table border=\"1\" class=\"dataframe\">\n",
              "  <thead>\n",
              "    <tr style=\"text-align: right;\">\n",
              "      <th></th>\n",
              "      <th>cpi</th>\n",
              "      <th>m1</th>\n",
              "      <th>tbilrate</th>\n",
              "      <th>unemp</th>\n",
              "    </tr>\n",
              "  </thead>\n",
              "  <tbody>\n",
              "    <tr>\n",
              "      <th>198</th>\n",
              "      <td>-0.007904</td>\n",
              "      <td>0.045361</td>\n",
              "      <td>-0.396881</td>\n",
              "      <td>0.105361</td>\n",
              "    </tr>\n",
              "    <tr>\n",
              "      <th>199</th>\n",
              "      <td>-0.021979</td>\n",
              "      <td>0.066753</td>\n",
              "      <td>-2.277267</td>\n",
              "      <td>0.139762</td>\n",
              "    </tr>\n",
              "    <tr>\n",
              "      <th>200</th>\n",
              "      <td>0.002340</td>\n",
              "      <td>0.010286</td>\n",
              "      <td>0.606136</td>\n",
              "      <td>0.160343</td>\n",
              "    </tr>\n",
              "    <tr>\n",
              "      <th>201</th>\n",
              "      <td>0.008419</td>\n",
              "      <td>0.037461</td>\n",
              "      <td>-0.200671</td>\n",
              "      <td>0.127339</td>\n",
              "    </tr>\n",
              "    <tr>\n",
              "      <th>202</th>\n",
              "      <td>0.008894</td>\n",
              "      <td>0.012202</td>\n",
              "      <td>-0.405465</td>\n",
              "      <td>0.042560</td>\n",
              "    </tr>\n",
              "  </tbody>\n",
              "</table>\n",
              "</div>"
            ],
            "text/plain": [
              "          cpi        m1  tbilrate     unemp\n",
              "198 -0.007904  0.045361 -0.396881  0.105361\n",
              "199 -0.021979  0.066753 -2.277267  0.139762\n",
              "200  0.002340  0.010286  0.606136  0.160343\n",
              "201  0.008419  0.037461 -0.200671  0.127339\n",
              "202  0.008894  0.012202 -0.405465  0.042560"
            ]
          },
          "execution_count": 38,
          "metadata": {},
          "output_type": "execute_result"
        }
      ],
      "source": [
        "import numpy as np\n",
        "\n",
        "macro= pd.read_csv(\"examples/macrodata.csv\")\n",
        "\n",
        "data=macro[[\"cpi\",\"m1\",\"tbilrate\",\"unemp\"]]\n",
        "\n",
        "trans_data= np.log(data).diff().dropna()\n",
        "\n",
        "trans_data.tail()"
      ]
    },
    {
      "cell_type": "code",
      "execution_count": null,
      "id": "be97c397",
      "metadata": {
        "id": "be97c397",
        "outputId": "8644ddfb-fc67-4303-d835-5dae39d8e25a"
      },
      "outputs": [
        {
          "data": {
            "image/png": "[encoded data removed]",
            "text/plain": [
              "<Figure size 432x288 with 1 Axes>"
            ]
          },
          "metadata": {
            "needs_background": "light"
          },
          "output_type": "display_data"
        }
      ],
      "source": [
        "ax= sns.regplot(x=\"m1\",y=\"unemp\",data=trans_data)"
      ]
    },
    {
      "cell_type": "markdown",
      "id": "82228f5c",
      "metadata": {
        "id": "82228f5c"
      },
      "source": [
        "# Pairplot"
      ]
    },
    {
      "cell_type": "code",
      "execution_count": null,
      "id": "6b7710a5",
      "metadata": {
        "id": "6b7710a5",
        "outputId": "2edc1c08-f72a-4f25-f32c-ffb3922f577e"
      },
      "outputs": [
        {
          "data": {
            "text/plain": [
              "<seaborn.axisgrid.PairGrid at 0x25ecbd7a580>"
            ]
          },
          "execution_count": 40,
          "metadata": {},
          "output_type": "execute_result"
        },
        {
          "data": {
            "image/png": "[encoded data removed]",
            "text/plain": [
              "<Figure size 720x720 with 20 Axes>"
            ]
          },
          "metadata": {
            "needs_background": "light"
          },
          "output_type": "display_data"
        }
      ],
      "source": [
        "sns.pairplot(trans_data,diag_kind=\"kde\",plot_kws={\"alpha\":0.5})"
      ]
    },
    {
      "cell_type": "code",
      "execution_count": null,
      "id": "d99bbbb5",
      "metadata": {
        "id": "d99bbbb5",
        "outputId": "89d37b68-bf0a-437f-f829-b476cf451a28"
      },
      "outputs": [
        {
          "data": {
            "text/plain": [
              "<seaborn.axisgrid.FacetGrid at 0x25ecc512a30>"
            ]
          },
          "execution_count": 41,
          "metadata": {},
          "output_type": "execute_result"
        },
        {
          "data": {
            "image/png": "[encoded data removed]",
            "text/plain": [
              "<Figure size 789.625x360 with 2 Axes>"
            ]
          },
          "metadata": {
            "needs_background": "light"
          },
          "output_type": "display_data"
        }
      ],
      "source": [
        "sns.catplot(x=\"day\",y=\"tip_pct\",hue=\"time\",col=\"smoker\",\n",
        "           kind=\"bar\",data=tips[tips.tip_pct<1])"
      ]
    },
    {
      "cell_type": "code",
      "execution_count": null,
      "id": "4256739a",
      "metadata": {
        "id": "4256739a",
        "outputId": "5bba65b0-62eb-413f-a74c-0fdeafd7d2f4"
      },
      "outputs": [
        {
          "data": {
            "text/plain": [
              "<seaborn.axisgrid.FacetGrid at 0x25ecc5128e0>"
            ]
          },
          "execution_count": 42,
          "metadata": {},
          "output_type": "execute_result"
        },
        {
          "data": {
            "image/png": "[encoded data removed]",
            "text/plain": [
              "<Figure size 720x720 with 4 Axes>"
            ]
          },
          "metadata": {
            "needs_background": "light"
          },
          "output_type": "display_data"
        }
      ],
      "source": [
        "sns.catplot(x=\"day\",y=\"tip_pct\",row=\"time\",\n",
        "           col=\"smoker\",\n",
        "           kind=\"bar\",data=tips[tips.tip_pct<1])"
      ]
    },
    {
      "cell_type": "markdown",
      "id": "1a02cae2",
      "metadata": {
        "id": "1a02cae2"
      },
      "source": [
        "Box Plot explains 5 number theory"
      ]
    },
    {
      "cell_type": "code",
      "execution_count": null,
      "id": "dde23787",
      "metadata": {
        "id": "dde23787",
        "outputId": "5afd8f6a-8222-49e6-bef7-3106d63ccdea"
      },
      "outputs": [
        {
          "data": {
            "text/plain": [
              "<seaborn.axisgrid.FacetGrid at 0x25ecc8a29d0>"
            ]
          },
          "execution_count": 43,
          "metadata": {},
          "output_type": "execute_result"
        },
        {
          "data": {
            "image/png": "[encoded data removed]",
            "text/plain": [
              "<Figure size 360x360 with 1 Axes>"
            ]
          },
          "metadata": {
            "needs_background": "light"
          },
          "output_type": "display_data"
        }
      ],
      "source": [
        "sns.catplot(x=\"tip_pct\",y=\"day\",kind=\"box\",\n",
        "           data=tips[tips.tip_pct<0.5])"
      ]
    },
    {
      "cell_type": "markdown",
      "id": "7f8201a7",
      "metadata": {
        "id": "7f8201a7"
      },
      "source": [
        "# Data Aggregation and Group Operations"
      ]
    },
    {
      "cell_type": "code",
      "execution_count": null,
      "id": "335af8b9",
      "metadata": {
        "id": "335af8b9",
        "outputId": "3c365668-eeb3-439a-dfe7-a5dbdacbb77d"
      },
      "outputs": [
        {
          "data": {
            "text/html": [
              "<div>\n",
              "<style scoped>\n",
              "    .dataframe tbody tr th:only-of-type {\n",
              "        vertical-align: middle;\n",
              "    }\n",
              "\n",
              "    .dataframe tbody tr th {\n",
              "        vertical-align: top;\n",
              "    }\n",
              "\n",
              "    .dataframe thead th {\n",
              "        text-align: right;\n",
              "    }\n",
              "</style>\n",
              "<table border=\"1\" class=\"dataframe\">\n",
              "  <thead>\n",
              "    <tr style=\"text-align: right;\">\n",
              "      <th></th>\n",
              "      <th>key1</th>\n",
              "      <th>key2</th>\n",
              "      <th>data1</th>\n",
              "      <th>data2</th>\n",
              "    </tr>\n",
              "  </thead>\n",
              "  <tbody>\n",
              "    <tr>\n",
              "      <th>0</th>\n",
              "      <td>a</td>\n",
              "      <td>1</td>\n",
              "      <td>-0.061262</td>\n",
              "      <td>-1.307427</td>\n",
              "    </tr>\n",
              "    <tr>\n",
              "      <th>1</th>\n",
              "      <td>a</td>\n",
              "      <td>2</td>\n",
              "      <td>-0.437937</td>\n",
              "      <td>-1.551648</td>\n",
              "    </tr>\n",
              "    <tr>\n",
              "      <th>2</th>\n",
              "      <td>None</td>\n",
              "      <td>1</td>\n",
              "      <td>-0.862067</td>\n",
              "      <td>0.290126</td>\n",
              "    </tr>\n",
              "    <tr>\n",
              "      <th>3</th>\n",
              "      <td>b</td>\n",
              "      <td>2</td>\n",
              "      <td>-1.118726</td>\n",
              "      <td>-1.735742</td>\n",
              "    </tr>\n",
              "    <tr>\n",
              "      <th>4</th>\n",
              "      <td>b</td>\n",
              "      <td>1</td>\n",
              "      <td>-0.512359</td>\n",
              "      <td>-0.454860</td>\n",
              "    </tr>\n",
              "    <tr>\n",
              "      <th>5</th>\n",
              "      <td>a</td>\n",
              "      <td>&lt;NA&gt;</td>\n",
              "      <td>-1.636354</td>\n",
              "      <td>1.019299</td>\n",
              "    </tr>\n",
              "    <tr>\n",
              "      <th>6</th>\n",
              "      <td>None</td>\n",
              "      <td>1</td>\n",
              "      <td>-1.270880</td>\n",
              "      <td>1.878699</td>\n",
              "    </tr>\n",
              "  </tbody>\n",
              "</table>\n",
              "</div>"
            ],
            "text/plain": [
              "   key1  key2     data1     data2\n",
              "0     a     1 -0.061262 -1.307427\n",
              "1     a     2 -0.437937 -1.551648\n",
              "2  None     1 -0.862067  0.290126\n",
              "3     b     2 -1.118726 -1.735742\n",
              "4     b     1 -0.512359 -0.454860\n",
              "5     a  <NA> -1.636354  1.019299\n",
              "6  None     1 -1.270880  1.878699"
            ]
          },
          "execution_count": 44,
          "metadata": {},
          "output_type": "execute_result"
        }
      ],
      "source": [
        "df= pd.DataFrame({\"key1\":[\"a\",\"a\",None,\"b\",\"b\",\"a\",None],\n",
        "                 \"key2\":pd.Series([1,2,1,2,1,None,1],dtype=\"Int64\"),\n",
        "                 \"data1\":np.random.standard_normal(7),\n",
        "                 \"data2\":np.random.standard_normal(7)})\n",
        "\n",
        "df"
      ]
    },
    {
      "cell_type": "code",
      "execution_count": null,
      "id": "6719aacc",
      "metadata": {
        "id": "6719aacc",
        "outputId": "0483bcc6-b6e1-47a8-afb1-1189a7bd9634"
      },
      "outputs": [
        {
          "data": {
            "text/plain": [
              "<pandas.core.groupby.generic.SeriesGroupBy object at 0x0000025ECD03EBB0>"
            ]
          },
          "execution_count": 45,
          "metadata": {},
          "output_type": "execute_result"
        }
      ],
      "source": [
        "grouped=df[\"data1\"].groupby(df[\"key1\"])\n",
        "\n",
        "grouped"
      ]
    },
    {
      "cell_type": "code",
      "execution_count": null,
      "id": "7cc5ec9c",
      "metadata": {
        "id": "7cc5ec9c",
        "outputId": "a488980e-7e0c-4ad0-f0ee-3d017b16162e"
      },
      "outputs": [
        {
          "data": {
            "text/plain": [
              "key1\n",
              "a   -0.711851\n",
              "b   -0.815542\n",
              "Name: data1, dtype: float64"
            ]
          },
          "execution_count": 46,
          "metadata": {},
          "output_type": "execute_result"
        }
      ],
      "source": [
        "grouped.mean()"
      ]
    },
    {
      "cell_type": "code",
      "execution_count": null,
      "id": "19de28ac",
      "metadata": {
        "id": "19de28ac",
        "outputId": "648ba4c9-2485-4967-b011-5f7893fdf46c"
      },
      "outputs": [
        {
          "data": {
            "text/plain": [
              "key1  key2\n",
              "a     1      -0.061262\n",
              "      2      -0.437937\n",
              "b     1      -0.512359\n",
              "      2      -1.118726\n",
              "Name: data1, dtype: float64"
            ]
          },
          "execution_count": 47,
          "metadata": {},
          "output_type": "execute_result"
        }
      ],
      "source": [
        "means= df[\"data1\"].groupby([df[\"key1\"],df[\"key2\"]]).mean()\n",
        "means"
      ]
    },
    {
      "cell_type": "code",
      "execution_count": null,
      "id": "ed4bc674",
      "metadata": {
        "id": "ed4bc674",
        "outputId": "476689df-bf46-406d-9ff1-83fa65c78e10"
      },
      "outputs": [
        {
          "data": {
            "text/plain": [
              "key1  key2\n",
              "a     1      -0.061262\n",
              "      2      -0.437937\n",
              "b     1      -0.512359\n",
              "      2      -1.118726\n",
              "Name: data1, dtype: float64"
            ]
          },
          "execution_count": 48,
          "metadata": {},
          "output_type": "execute_result"
        }
      ],
      "source": [
        "sums= df[\"data1\"].groupby([df[\"key1\"],df[\"key2\"]]).sum()\n",
        "sums"
      ]
    },
    {
      "cell_type": "code",
      "execution_count": null,
      "id": "11ab5b5b",
      "metadata": {
        "id": "11ab5b5b",
        "outputId": "718c6b7e-498e-4902-bf39-a16c756f4aaf"
      },
      "outputs": [
        {
          "data": {
            "text/html": [
              "<div>\n",
              "<style scoped>\n",
              "    .dataframe tbody tr th:only-of-type {\n",
              "        vertical-align: middle;\n",
              "    }\n",
              "\n",
              "    .dataframe tbody tr th {\n",
              "        vertical-align: top;\n",
              "    }\n",
              "\n",
              "    .dataframe thead th {\n",
              "        text-align: right;\n",
              "    }\n",
              "</style>\n",
              "<table border=\"1\" class=\"dataframe\">\n",
              "  <thead>\n",
              "    <tr style=\"text-align: right;\">\n",
              "      <th>key2</th>\n",
              "      <th>1</th>\n",
              "      <th>2</th>\n",
              "    </tr>\n",
              "    <tr>\n",
              "      <th>key1</th>\n",
              "      <th></th>\n",
              "      <th></th>\n",
              "    </tr>\n",
              "  </thead>\n",
              "  <tbody>\n",
              "    <tr>\n",
              "      <th>a</th>\n",
              "      <td>-0.061262</td>\n",
              "      <td>-0.437937</td>\n",
              "    </tr>\n",
              "    <tr>\n",
              "      <th>b</th>\n",
              "      <td>-0.512359</td>\n",
              "      <td>-1.118726</td>\n",
              "    </tr>\n",
              "  </tbody>\n",
              "</table>\n",
              "</div>"
            ],
            "text/plain": [
              "key2         1         2\n",
              "key1                    \n",
              "a    -0.061262 -0.437937\n",
              "b    -0.512359 -1.118726"
            ]
          },
          "execution_count": 49,
          "metadata": {},
          "output_type": "execute_result"
        }
      ],
      "source": [
        "sums.unstack()"
      ]
    },
    {
      "cell_type": "code",
      "execution_count": null,
      "id": "b6c3938b",
      "metadata": {
        "id": "b6c3938b",
        "outputId": "4af61ce1-d598-418f-f5da-422170915a67"
      },
      "outputs": [
        {
          "data": {
            "text/plain": [
              "CA  2005   -1.037145\n",
              "    2006   -0.862067\n",
              "OH  2005   -0.589994\n",
              "    2006   -0.891620\n",
              "Name: data1, dtype: float64"
            ]
          },
          "execution_count": 50,
          "metadata": {},
          "output_type": "execute_result"
        }
      ],
      "source": [
        "states=np.array([\"OH\",\"CA\",\"CA\",\"OH\",\"OH\",\"CA\",\"OH\"])\n",
        "\n",
        "years=[2005,2005,2006,2005,2006,2005,2006]\n",
        "\n",
        "df[\"data1\"].groupby([states,years]).mean()"
      ]
    },
    {
      "cell_type": "code",
      "execution_count": null,
      "id": "8a7f9284",
      "metadata": {
        "id": "8a7f9284",
        "outputId": "81e39112-8c73-4878-b5c8-d279aad67dc4"
      },
      "outputs": [
        {
          "data": {
            "text/html": [
              "<div>\n",
              "<style scoped>\n",
              "    .dataframe tbody tr th:only-of-type {\n",
              "        vertical-align: middle;\n",
              "    }\n",
              "\n",
              "    .dataframe tbody tr th {\n",
              "        vertical-align: top;\n",
              "    }\n",
              "\n",
              "    .dataframe thead th {\n",
              "        text-align: right;\n",
              "    }\n",
              "</style>\n",
              "<table border=\"1\" class=\"dataframe\">\n",
              "  <thead>\n",
              "    <tr style=\"text-align: right;\">\n",
              "      <th></th>\n",
              "      <th>key2</th>\n",
              "      <th>data1</th>\n",
              "      <th>data2</th>\n",
              "    </tr>\n",
              "    <tr>\n",
              "      <th>key1</th>\n",
              "      <th></th>\n",
              "      <th></th>\n",
              "      <th></th>\n",
              "    </tr>\n",
              "  </thead>\n",
              "  <tbody>\n",
              "    <tr>\n",
              "      <th>a</th>\n",
              "      <td>1.5</td>\n",
              "      <td>-0.711851</td>\n",
              "      <td>-0.613259</td>\n",
              "    </tr>\n",
              "    <tr>\n",
              "      <th>b</th>\n",
              "      <td>1.5</td>\n",
              "      <td>-0.815542</td>\n",
              "      <td>-1.095301</td>\n",
              "    </tr>\n",
              "  </tbody>\n",
              "</table>\n",
              "</div>"
            ],
            "text/plain": [
              "      key2     data1     data2\n",
              "key1                          \n",
              "a      1.5 -0.711851 -0.613259\n",
              "b      1.5 -0.815542 -1.095301"
            ]
          },
          "execution_count": 51,
          "metadata": {},
          "output_type": "execute_result"
        }
      ],
      "source": [
        "df.groupby(\"key1\").mean()"
      ]
    },
    {
      "cell_type": "code",
      "execution_count": null,
      "id": "1434cc7a",
      "metadata": {
        "id": "1434cc7a",
        "outputId": "676cd5df-6236-447a-e9c7-0d39d2050e83"
      },
      "outputs": [
        {
          "data": {
            "text/html": [
              "<div>\n",
              "<style scoped>\n",
              "    .dataframe tbody tr th:only-of-type {\n",
              "        vertical-align: middle;\n",
              "    }\n",
              "\n",
              "    .dataframe tbody tr th {\n",
              "        vertical-align: top;\n",
              "    }\n",
              "\n",
              "    .dataframe thead th {\n",
              "        text-align: right;\n",
              "    }\n",
              "</style>\n",
              "<table border=\"1\" class=\"dataframe\">\n",
              "  <thead>\n",
              "    <tr style=\"text-align: right;\">\n",
              "      <th></th>\n",
              "      <th>key1</th>\n",
              "      <th>data1</th>\n",
              "      <th>data2</th>\n",
              "    </tr>\n",
              "    <tr>\n",
              "      <th>key2</th>\n",
              "      <th></th>\n",
              "      <th></th>\n",
              "      <th></th>\n",
              "    </tr>\n",
              "  </thead>\n",
              "  <tbody>\n",
              "    <tr>\n",
              "      <th>1</th>\n",
              "      <td>2</td>\n",
              "      <td>4</td>\n",
              "      <td>4</td>\n",
              "    </tr>\n",
              "    <tr>\n",
              "      <th>2</th>\n",
              "      <td>2</td>\n",
              "      <td>2</td>\n",
              "      <td>2</td>\n",
              "    </tr>\n",
              "  </tbody>\n",
              "</table>\n",
              "</div>"
            ],
            "text/plain": [
              "      key1  data1  data2\n",
              "key2                    \n",
              "1        2      4      4\n",
              "2        2      2      2"
            ]
          },
          "execution_count": 52,
          "metadata": {},
          "output_type": "execute_result"
        }
      ],
      "source": [
        "df.groupby(\"key2\").count()"
      ]
    },
    {
      "cell_type": "code",
      "execution_count": null,
      "id": "fc777a36",
      "metadata": {
        "id": "fc777a36",
        "outputId": "f6c8a50a-39b8-4add-c777-d13a282d75d6"
      },
      "outputs": [
        {
          "data": {
            "text/html": [
              "<div>\n",
              "<style scoped>\n",
              "    .dataframe tbody tr th:only-of-type {\n",
              "        vertical-align: middle;\n",
              "    }\n",
              "\n",
              "    .dataframe tbody tr th {\n",
              "        vertical-align: top;\n",
              "    }\n",
              "\n",
              "    .dataframe thead th {\n",
              "        text-align: right;\n",
              "    }\n",
              "</style>\n",
              "<table border=\"1\" class=\"dataframe\">\n",
              "  <thead>\n",
              "    <tr style=\"text-align: right;\">\n",
              "      <th></th>\n",
              "      <th></th>\n",
              "      <th>data1</th>\n",
              "      <th>data2</th>\n",
              "    </tr>\n",
              "    <tr>\n",
              "      <th>key1</th>\n",
              "      <th>key2</th>\n",
              "      <th></th>\n",
              "      <th></th>\n",
              "    </tr>\n",
              "  </thead>\n",
              "  <tbody>\n",
              "    <tr>\n",
              "      <th rowspan=\"2\" valign=\"top\">a</th>\n",
              "      <th>1</th>\n",
              "      <td>-0.061262</td>\n",
              "      <td>-1.307427</td>\n",
              "    </tr>\n",
              "    <tr>\n",
              "      <th>2</th>\n",
              "      <td>-0.437937</td>\n",
              "      <td>-1.551648</td>\n",
              "    </tr>\n",
              "    <tr>\n",
              "      <th rowspan=\"2\" valign=\"top\">b</th>\n",
              "      <th>1</th>\n",
              "      <td>-0.512359</td>\n",
              "      <td>-0.454860</td>\n",
              "    </tr>\n",
              "    <tr>\n",
              "      <th>2</th>\n",
              "      <td>-1.118726</td>\n",
              "      <td>-1.735742</td>\n",
              "    </tr>\n",
              "  </tbody>\n",
              "</table>\n",
              "</div>"
            ],
            "text/plain": [
              "              data1     data2\n",
              "key1 key2                    \n",
              "a    1    -0.061262 -1.307427\n",
              "     2    -0.437937 -1.551648\n",
              "b    1    -0.512359 -0.454860\n",
              "     2    -1.118726 -1.735742"
            ]
          },
          "execution_count": 53,
          "metadata": {},
          "output_type": "execute_result"
        }
      ],
      "source": [
        "df.groupby([\"key1\",\"key2\"]).mean()"
      ]
    },
    {
      "cell_type": "code",
      "execution_count": null,
      "id": "a85d79d3",
      "metadata": {
        "id": "a85d79d3",
        "outputId": "0f37905f-1640-4d0e-b469-db66259981b9"
      },
      "outputs": [
        {
          "data": {
            "text/plain": [
              "key1\n",
              "a      3\n",
              "b      2\n",
              "NaN    2\n",
              "dtype: int64"
            ]
          },
          "execution_count": 54,
          "metadata": {},
          "output_type": "execute_result"
        }
      ],
      "source": [
        "df.groupby(\"key1\",dropna=False).size()"
      ]
    },
    {
      "cell_type": "code",
      "execution_count": null,
      "id": "b53692ab",
      "metadata": {
        "id": "b53692ab",
        "outputId": "67a3d0ac-16e1-48ee-ad0b-b0b19f10b53b"
      },
      "outputs": [
        {
          "data": {
            "text/plain": [
              "key1  key2\n",
              "a     1       1\n",
              "      2       1\n",
              "      <NA>    1\n",
              "b     1       1\n",
              "      2       1\n",
              "NaN   1       2\n",
              "dtype: int64"
            ]
          },
          "execution_count": 55,
          "metadata": {},
          "output_type": "execute_result"
        }
      ],
      "source": [
        "df.groupby([\"key1\",\"key2\"],dropna=False).size()"
      ]
    },
    {
      "cell_type": "code",
      "execution_count": null,
      "id": "29b32657",
      "metadata": {
        "id": "29b32657",
        "outputId": "21577e7d-328d-47f1-c748-9cb33ac72194"
      },
      "outputs": [
        {
          "data": {
            "text/html": [
              "<div>\n",
              "<style scoped>\n",
              "    .dataframe tbody tr th:only-of-type {\n",
              "        vertical-align: middle;\n",
              "    }\n",
              "\n",
              "    .dataframe tbody tr th {\n",
              "        vertical-align: top;\n",
              "    }\n",
              "\n",
              "    .dataframe thead th {\n",
              "        text-align: right;\n",
              "    }\n",
              "</style>\n",
              "<table border=\"1\" class=\"dataframe\">\n",
              "  <thead>\n",
              "    <tr style=\"text-align: right;\">\n",
              "      <th></th>\n",
              "      <th>key2</th>\n",
              "      <th>data1</th>\n",
              "      <th>data2</th>\n",
              "    </tr>\n",
              "    <tr>\n",
              "      <th>key1</th>\n",
              "      <th></th>\n",
              "      <th></th>\n",
              "      <th></th>\n",
              "    </tr>\n",
              "  </thead>\n",
              "  <tbody>\n",
              "    <tr>\n",
              "      <th>a</th>\n",
              "      <td>2</td>\n",
              "      <td>3</td>\n",
              "      <td>3</td>\n",
              "    </tr>\n",
              "    <tr>\n",
              "      <th>b</th>\n",
              "      <td>2</td>\n",
              "      <td>2</td>\n",
              "      <td>2</td>\n",
              "    </tr>\n",
              "  </tbody>\n",
              "</table>\n",
              "</div>"
            ],
            "text/plain": [
              "      key2  data1  data2\n",
              "key1                    \n",
              "a        2      3      3\n",
              "b        2      2      2"
            ]
          },
          "execution_count": 56,
          "metadata": {},
          "output_type": "execute_result"
        }
      ],
      "source": [
        "df.groupby(\"key1\").count()"
      ]
    },
    {
      "cell_type": "code",
      "execution_count": null,
      "id": "1da7e66a",
      "metadata": {
        "id": "1da7e66a",
        "outputId": "1b9f7678-f0e1-40b5-8c72-876b85f4019c"
      },
      "outputs": [
        {
          "name": "stdout",
          "output_type": "stream",
          "text": [
            "a\n",
            "  key1  key2     data1     data2\n",
            "0    a     1 -0.061262 -1.307427\n",
            "1    a     2 -0.437937 -1.551648\n",
            "5    a  <NA> -1.636354  1.019299\n",
            "b\n",
            "  key1  key2     data1     data2\n",
            "3    b     2 -1.118726 -1.735742\n",
            "4    b     1 -0.512359 -0.454860\n"
          ]
        }
      ],
      "source": [
        "for name, group in df.groupby(\"key1\"):\n",
        "    print(name)\n",
        "    print(group)"
      ]
    },
    {
      "cell_type": "code",
      "execution_count": null,
      "id": "4e6459d1",
      "metadata": {
        "id": "4e6459d1",
        "outputId": "cbb0b3f6-ab21-4714-c893-225e7fa952eb"
      },
      "outputs": [
        {
          "data": {
            "text/plain": [
              "key1\n",
              "a   -2.135553\n",
              "b   -1.631085\n",
              "Name: data1, dtype: float64"
            ]
          },
          "execution_count": 58,
          "metadata": {},
          "output_type": "execute_result"
        }
      ],
      "source": [
        "df.groupby(\"key1\")[\"data1\"].sum()"
      ]
    },
    {
      "cell_type": "code",
      "execution_count": null,
      "id": "5189ed12",
      "metadata": {
        "id": "5189ed12",
        "outputId": "18465730-2e1a-4ddd-cddc-32caf706f2c8"
      },
      "outputs": [
        {
          "data": {
            "text/plain": [
              "key1  key2\n",
              "a     1      -1.307427\n",
              "      2      -1.551648\n",
              "b     1      -0.454860\n",
              "      2      -1.735742\n",
              "Name: data2, dtype: float64"
            ]
          },
          "execution_count": 59,
          "metadata": {},
          "output_type": "execute_result"
        }
      ],
      "source": [
        "df.groupby([\"key1\",\"key2\"])[\"data2\"].mean()"
      ]
    },
    {
      "cell_type": "code",
      "execution_count": null,
      "id": "9bb71a23",
      "metadata": {
        "id": "9bb71a23",
        "outputId": "cad313bd-c87d-4f17-caa4-d9af966a9e18"
      },
      "outputs": [
        {
          "data": {
            "text/html": [
              "<div>\n",
              "<style scoped>\n",
              "    .dataframe tbody tr th:only-of-type {\n",
              "        vertical-align: middle;\n",
              "    }\n",
              "\n",
              "    .dataframe tbody tr th {\n",
              "        vertical-align: top;\n",
              "    }\n",
              "\n",
              "    .dataframe thead th {\n",
              "        text-align: right;\n",
              "    }\n",
              "</style>\n",
              "<table border=\"1\" class=\"dataframe\">\n",
              "  <thead>\n",
              "    <tr style=\"text-align: right;\">\n",
              "      <th></th>\n",
              "      <th>total_bill</th>\n",
              "      <th>tip</th>\n",
              "      <th>smoker</th>\n",
              "      <th>day</th>\n",
              "      <th>time</th>\n",
              "      <th>size</th>\n",
              "      <th>tip_pct</th>\n",
              "    </tr>\n",
              "  </thead>\n",
              "  <tbody>\n",
              "    <tr>\n",
              "      <th>0</th>\n",
              "      <td>16.99</td>\n",
              "      <td>1.01</td>\n",
              "      <td>No</td>\n",
              "      <td>Sun</td>\n",
              "      <td>Dinner</td>\n",
              "      <td>2</td>\n",
              "      <td>0.063204</td>\n",
              "    </tr>\n",
              "    <tr>\n",
              "      <th>1</th>\n",
              "      <td>10.34</td>\n",
              "      <td>1.66</td>\n",
              "      <td>No</td>\n",
              "      <td>Sun</td>\n",
              "      <td>Dinner</td>\n",
              "      <td>3</td>\n",
              "      <td>0.191244</td>\n",
              "    </tr>\n",
              "    <tr>\n",
              "      <th>2</th>\n",
              "      <td>21.01</td>\n",
              "      <td>3.50</td>\n",
              "      <td>No</td>\n",
              "      <td>Sun</td>\n",
              "      <td>Dinner</td>\n",
              "      <td>3</td>\n",
              "      <td>0.199886</td>\n",
              "    </tr>\n",
              "    <tr>\n",
              "      <th>3</th>\n",
              "      <td>23.68</td>\n",
              "      <td>3.31</td>\n",
              "      <td>No</td>\n",
              "      <td>Sun</td>\n",
              "      <td>Dinner</td>\n",
              "      <td>2</td>\n",
              "      <td>0.162494</td>\n",
              "    </tr>\n",
              "    <tr>\n",
              "      <th>4</th>\n",
              "      <td>24.59</td>\n",
              "      <td>3.61</td>\n",
              "      <td>No</td>\n",
              "      <td>Sun</td>\n",
              "      <td>Dinner</td>\n",
              "      <td>4</td>\n",
              "      <td>0.172069</td>\n",
              "    </tr>\n",
              "  </tbody>\n",
              "</table>\n",
              "</div>"
            ],
            "text/plain": [
              "   total_bill   tip smoker  day    time  size   tip_pct\n",
              "0       16.99  1.01     No  Sun  Dinner     2  0.063204\n",
              "1       10.34  1.66     No  Sun  Dinner     3  0.191244\n",
              "2       21.01  3.50     No  Sun  Dinner     3  0.199886\n",
              "3       23.68  3.31     No  Sun  Dinner     2  0.162494\n",
              "4       24.59  3.61     No  Sun  Dinner     4  0.172069"
            ]
          },
          "execution_count": 60,
          "metadata": {},
          "output_type": "execute_result"
        }
      ],
      "source": [
        "tips.head()"
      ]
    },
    {
      "cell_type": "code",
      "execution_count": null,
      "id": "bb411d4c",
      "metadata": {
        "id": "bb411d4c",
        "outputId": "b08e319d-740a-4249-d9e3-a55a9df989d9"
      },
      "outputs": [
        {
          "data": {
            "text/plain": [
              "day   smoker\n",
              "Fri   No        0.179740\n",
              "      Yes       0.216293\n",
              "Sat   No        0.190412\n",
              "      Yes       0.179833\n",
              "Sun   No        0.193617\n",
              "      Yes       0.322021\n",
              "Thur  No        0.193424\n",
              "      Yes       0.198508\n",
              "Name: tip_pct, dtype: float64"
            ]
          },
          "execution_count": 61,
          "metadata": {},
          "output_type": "execute_result"
        }
      ],
      "source": [
        "tips.groupby([\"day\",\"smoker\"])[\"tip_pct\"].mean()"
      ]
    },
    {
      "cell_type": "code",
      "execution_count": null,
      "id": "2cabf9f9",
      "metadata": {
        "id": "2cabf9f9",
        "outputId": "db6e5472-a3f0-40a9-fbf4-fa8341041f25"
      },
      "outputs": [
        {
          "data": {
            "text/plain": [
              "day   smoker\n",
              "Fri   No        0.179740\n",
              "      Yes       0.216293\n",
              "Sat   No        0.190412\n",
              "      Yes       0.179833\n",
              "Sun   No        0.193617\n",
              "      Yes       0.322021\n",
              "Thur  No        0.193424\n",
              "      Yes       0.198508\n",
              "Name: tip_pct, dtype: float64"
            ]
          },
          "execution_count": 62,
          "metadata": {},
          "output_type": "execute_result"
        }
      ],
      "source": [
        "tips.groupby([\"day\",\"smoker\"])[\"tip_pct\"].agg(\"mean\")"
      ]
    },
    {
      "cell_type": "code",
      "execution_count": null,
      "id": "2f6d973f",
      "metadata": {
        "id": "2f6d973f",
        "outputId": "87bf65dc-b100-4239-fe3f-cc690d305db8"
      },
      "outputs": [
        {
          "data": {
            "text/html": [
              "<div>\n",
              "<style scoped>\n",
              "    .dataframe tbody tr th:only-of-type {\n",
              "        vertical-align: middle;\n",
              "    }\n",
              "\n",
              "    .dataframe tbody tr th {\n",
              "        vertical-align: top;\n",
              "    }\n",
              "\n",
              "    .dataframe thead th {\n",
              "        text-align: right;\n",
              "    }\n",
              "</style>\n",
              "<table border=\"1\" class=\"dataframe\">\n",
              "  <thead>\n",
              "    <tr style=\"text-align: right;\">\n",
              "      <th></th>\n",
              "      <th></th>\n",
              "      <th>mean</th>\n",
              "      <th>std</th>\n",
              "      <th>count</th>\n",
              "    </tr>\n",
              "    <tr>\n",
              "      <th>day</th>\n",
              "      <th>smoker</th>\n",
              "      <th></th>\n",
              "      <th></th>\n",
              "      <th></th>\n",
              "    </tr>\n",
              "  </thead>\n",
              "  <tbody>\n",
              "    <tr>\n",
              "      <th rowspan=\"2\" valign=\"top\">Fri</th>\n",
              "      <th>No</th>\n",
              "      <td>0.179740</td>\n",
              "      <td>0.039458</td>\n",
              "      <td>4</td>\n",
              "    </tr>\n",
              "    <tr>\n",
              "      <th>Yes</th>\n",
              "      <td>0.216293</td>\n",
              "      <td>0.077530</td>\n",
              "      <td>15</td>\n",
              "    </tr>\n",
              "    <tr>\n",
              "      <th rowspan=\"2\" valign=\"top\">Sat</th>\n",
              "      <th>No</th>\n",
              "      <td>0.190412</td>\n",
              "      <td>0.058626</td>\n",
              "      <td>45</td>\n",
              "    </tr>\n",
              "    <tr>\n",
              "      <th>Yes</th>\n",
              "      <td>0.179833</td>\n",
              "      <td>0.089496</td>\n",
              "      <td>42</td>\n",
              "    </tr>\n",
              "    <tr>\n",
              "      <th rowspan=\"2\" valign=\"top\">Sun</th>\n",
              "      <th>No</th>\n",
              "      <td>0.193617</td>\n",
              "      <td>0.060302</td>\n",
              "      <td>57</td>\n",
              "    </tr>\n",
              "    <tr>\n",
              "      <th>Yes</th>\n",
              "      <td>0.322021</td>\n",
              "      <td>0.538061</td>\n",
              "      <td>19</td>\n",
              "    </tr>\n",
              "    <tr>\n",
              "      <th rowspan=\"2\" valign=\"top\">Thur</th>\n",
              "      <th>No</th>\n",
              "      <td>0.193424</td>\n",
              "      <td>0.056065</td>\n",
              "      <td>45</td>\n",
              "    </tr>\n",
              "    <tr>\n",
              "      <th>Yes</th>\n",
              "      <td>0.198508</td>\n",
              "      <td>0.057170</td>\n",
              "      <td>17</td>\n",
              "    </tr>\n",
              "  </tbody>\n",
              "</table>\n",
              "</div>"
            ],
            "text/plain": [
              "                 mean       std  count\n",
              "day  smoker                           \n",
              "Fri  No      0.179740  0.039458      4\n",
              "     Yes     0.216293  0.077530     15\n",
              "Sat  No      0.190412  0.058626     45\n",
              "     Yes     0.179833  0.089496     42\n",
              "Sun  No      0.193617  0.060302     57\n",
              "     Yes     0.322021  0.538061     19\n",
              "Thur No      0.193424  0.056065     45\n",
              "     Yes     0.198508  0.057170     17"
            ]
          },
          "execution_count": 63,
          "metadata": {},
          "output_type": "execute_result"
        }
      ],
      "source": [
        "tips.groupby([\"day\",\"smoker\"])[\"tip_pct\"].agg([\"mean\",\"std\",\"count\"])"
      ]
    },
    {
      "cell_type": "code",
      "execution_count": null,
      "id": "52167d06",
      "metadata": {
        "id": "52167d06",
        "outputId": "5e530fd0-e15f-49d4-c3d4-e0d978511993"
      },
      "outputs": [
        {
          "data": {
            "text/html": [
              "<div>\n",
              "<style scoped>\n",
              "    .dataframe tbody tr th:only-of-type {\n",
              "        vertical-align: middle;\n",
              "    }\n",
              "\n",
              "    .dataframe tbody tr th {\n",
              "        vertical-align: top;\n",
              "    }\n",
              "\n",
              "    .dataframe thead th {\n",
              "        text-align: right;\n",
              "    }\n",
              "</style>\n",
              "<table border=\"1\" class=\"dataframe\">\n",
              "  <thead>\n",
              "    <tr style=\"text-align: right;\">\n",
              "      <th></th>\n",
              "      <th></th>\n",
              "      <th>average</th>\n",
              "      <th>stddev</th>\n",
              "    </tr>\n",
              "    <tr>\n",
              "      <th>day</th>\n",
              "      <th>smoker</th>\n",
              "      <th></th>\n",
              "      <th></th>\n",
              "    </tr>\n",
              "  </thead>\n",
              "  <tbody>\n",
              "    <tr>\n",
              "      <th rowspan=\"2\" valign=\"top\">Fri</th>\n",
              "      <th>No</th>\n",
              "      <td>0.179740</td>\n",
              "      <td>0.039458</td>\n",
              "    </tr>\n",
              "    <tr>\n",
              "      <th>Yes</th>\n",
              "      <td>0.216293</td>\n",
              "      <td>0.077530</td>\n",
              "    </tr>\n",
              "    <tr>\n",
              "      <th rowspan=\"2\" valign=\"top\">Sat</th>\n",
              "      <th>No</th>\n",
              "      <td>0.190412</td>\n",
              "      <td>0.058626</td>\n",
              "    </tr>\n",
              "    <tr>\n",
              "      <th>Yes</th>\n",
              "      <td>0.179833</td>\n",
              "      <td>0.089496</td>\n",
              "    </tr>\n",
              "    <tr>\n",
              "      <th rowspan=\"2\" valign=\"top\">Sun</th>\n",
              "      <th>No</th>\n",
              "      <td>0.193617</td>\n",
              "      <td>0.060302</td>\n",
              "    </tr>\n",
              "    <tr>\n",
              "      <th>Yes</th>\n",
              "      <td>0.322021</td>\n",
              "      <td>0.538061</td>\n",
              "    </tr>\n",
              "    <tr>\n",
              "      <th rowspan=\"2\" valign=\"top\">Thur</th>\n",
              "      <th>No</th>\n",
              "      <td>0.193424</td>\n",
              "      <td>0.056065</td>\n",
              "    </tr>\n",
              "    <tr>\n",
              "      <th>Yes</th>\n",
              "      <td>0.198508</td>\n",
              "      <td>0.057170</td>\n",
              "    </tr>\n",
              "  </tbody>\n",
              "</table>\n",
              "</div>"
            ],
            "text/plain": [
              "              average    stddev\n",
              "day  smoker                    \n",
              "Fri  No      0.179740  0.039458\n",
              "     Yes     0.216293  0.077530\n",
              "Sat  No      0.190412  0.058626\n",
              "     Yes     0.179833  0.089496\n",
              "Sun  No      0.193617  0.060302\n",
              "     Yes     0.322021  0.538061\n",
              "Thur No      0.193424  0.056065\n",
              "     Yes     0.198508  0.057170"
            ]
          },
          "execution_count": 64,
          "metadata": {},
          "output_type": "execute_result"
        }
      ],
      "source": [
        "tips.groupby([\"day\",\"smoker\"])[\"tip_pct\"].agg([(\"average\",\"mean\"),(\"stddev\",np.std)])"
      ]
    },
    {
      "cell_type": "code",
      "execution_count": null,
      "id": "84503438",
      "metadata": {
        "id": "84503438",
        "outputId": "eaf8adc4-47ce-4af1-f454-dad44a6b65c4"
      },
      "outputs": [
        {
          "data": {
            "text/html": [
              "<div>\n",
              "<style scoped>\n",
              "    .dataframe tbody tr th:only-of-type {\n",
              "        vertical-align: middle;\n",
              "    }\n",
              "\n",
              "    .dataframe tbody tr th {\n",
              "        vertical-align: top;\n",
              "    }\n",
              "\n",
              "    .dataframe thead tr th {\n",
              "        text-align: left;\n",
              "    }\n",
              "\n",
              "    .dataframe thead tr:last-of-type th {\n",
              "        text-align: right;\n",
              "    }\n",
              "</style>\n",
              "<table border=\"1\" class=\"dataframe\">\n",
              "  <thead>\n",
              "    <tr>\n",
              "      <th></th>\n",
              "      <th></th>\n",
              "      <th colspan=\"3\" halign=\"left\">tip_pct</th>\n",
              "      <th colspan=\"3\" halign=\"left\">total_bill</th>\n",
              "    </tr>\n",
              "    <tr>\n",
              "      <th></th>\n",
              "      <th></th>\n",
              "      <th>count</th>\n",
              "      <th>mean</th>\n",
              "      <th>max</th>\n",
              "      <th>count</th>\n",
              "      <th>mean</th>\n",
              "      <th>max</th>\n",
              "    </tr>\n",
              "    <tr>\n",
              "      <th>day</th>\n",
              "      <th>smoker</th>\n",
              "      <th></th>\n",
              "      <th></th>\n",
              "      <th></th>\n",
              "      <th></th>\n",
              "      <th></th>\n",
              "      <th></th>\n",
              "    </tr>\n",
              "  </thead>\n",
              "  <tbody>\n",
              "    <tr>\n",
              "      <th rowspan=\"2\" valign=\"top\">Fri</th>\n",
              "      <th>No</th>\n",
              "      <td>4</td>\n",
              "      <td>0.179740</td>\n",
              "      <td>0.231125</td>\n",
              "      <td>4</td>\n",
              "      <td>18.420000</td>\n",
              "      <td>22.75</td>\n",
              "    </tr>\n",
              "    <tr>\n",
              "      <th>Yes</th>\n",
              "      <td>15</td>\n",
              "      <td>0.216293</td>\n",
              "      <td>0.357737</td>\n",
              "      <td>15</td>\n",
              "      <td>16.813333</td>\n",
              "      <td>40.17</td>\n",
              "    </tr>\n",
              "    <tr>\n",
              "      <th rowspan=\"2\" valign=\"top\">Sat</th>\n",
              "      <th>No</th>\n",
              "      <td>45</td>\n",
              "      <td>0.190412</td>\n",
              "      <td>0.412409</td>\n",
              "      <td>45</td>\n",
              "      <td>19.661778</td>\n",
              "      <td>48.33</td>\n",
              "    </tr>\n",
              "    <tr>\n",
              "      <th>Yes</th>\n",
              "      <td>42</td>\n",
              "      <td>0.179833</td>\n",
              "      <td>0.483092</td>\n",
              "      <td>42</td>\n",
              "      <td>21.276667</td>\n",
              "      <td>50.81</td>\n",
              "    </tr>\n",
              "    <tr>\n",
              "      <th rowspan=\"2\" valign=\"top\">Sun</th>\n",
              "      <th>No</th>\n",
              "      <td>57</td>\n",
              "      <td>0.193617</td>\n",
              "      <td>0.338101</td>\n",
              "      <td>57</td>\n",
              "      <td>20.506667</td>\n",
              "      <td>48.17</td>\n",
              "    </tr>\n",
              "    <tr>\n",
              "      <th>Yes</th>\n",
              "      <td>19</td>\n",
              "      <td>0.322021</td>\n",
              "      <td>2.452381</td>\n",
              "      <td>19</td>\n",
              "      <td>24.120000</td>\n",
              "      <td>45.35</td>\n",
              "    </tr>\n",
              "    <tr>\n",
              "      <th rowspan=\"2\" valign=\"top\">Thur</th>\n",
              "      <th>No</th>\n",
              "      <td>45</td>\n",
              "      <td>0.193424</td>\n",
              "      <td>0.362976</td>\n",
              "      <td>45</td>\n",
              "      <td>17.113111</td>\n",
              "      <td>41.19</td>\n",
              "    </tr>\n",
              "    <tr>\n",
              "      <th>Yes</th>\n",
              "      <td>17</td>\n",
              "      <td>0.198508</td>\n",
              "      <td>0.317965</td>\n",
              "      <td>17</td>\n",
              "      <td>19.190588</td>\n",
              "      <td>43.11</td>\n",
              "    </tr>\n",
              "  </tbody>\n",
              "</table>\n",
              "</div>"
            ],
            "text/plain": [
              "            tip_pct                     total_bill                  \n",
              "              count      mean       max      count       mean    max\n",
              "day  smoker                                                         \n",
              "Fri  No           4  0.179740  0.231125          4  18.420000  22.75\n",
              "     Yes         15  0.216293  0.357737         15  16.813333  40.17\n",
              "Sat  No          45  0.190412  0.412409         45  19.661778  48.33\n",
              "     Yes         42  0.179833  0.483092         42  21.276667  50.81\n",
              "Sun  No          57  0.193617  0.338101         57  20.506667  48.17\n",
              "     Yes         19  0.322021  2.452381         19  24.120000  45.35\n",
              "Thur No          45  0.193424  0.362976         45  17.113111  41.19\n",
              "     Yes         17  0.198508  0.317965         17  19.190588  43.11"
            ]
          },
          "execution_count": 65,
          "metadata": {},
          "output_type": "execute_result"
        }
      ],
      "source": [
        "functions=[\"count\",\"mean\",\"max\"]\n",
        "\n",
        "result=tips.groupby([\"day\",\"smoker\"])[[\"tip_pct\",\"total_bill\"]].agg(functions)\n",
        "\n",
        "result"
      ]
    },
    {
      "cell_type": "markdown",
      "id": "c9f036e4",
      "metadata": {
        "id": "c9f036e4"
      },
      "source": [
        "# Data Preprocesing"
      ]
    },
    {
      "cell_type": "markdown",
      "id": "bf054343",
      "metadata": {
        "id": "bf054343"
      },
      "source": [
        "Data Preprocessing invloves cleaning and engineering data in a way that it can be used as input to several important data science atsks such as data visualization, machine learning, deep learning and data analytics.\n",
        "\n",
        "Some of the most common data preparation tasks include feature scaling, handling missing values, categorical variable encoding, data discretization."
      ]
    },
    {
      "cell_type": "markdown",
      "id": "a01e4229",
      "metadata": {
        "id": "a01e4229"
      },
      "source": [
        "# Feature Scaling"
      ]
    },
    {
      "cell_type": "markdown",
      "id": "ca59f3c8",
      "metadata": {
        "id": "ca59f3c8"
      },
      "source": [
        "A dataset can have different attributes. The attributes can have different magnitudes, variances, standard deviation, mean value etc.\n",
        "\n",
        "For instance, salary can be in thousands, whereas age is normally a two-digit number.\n",
        "\n",
        "The difference in the scale or magnitude of attributes can actually affect statistical models.\n",
        "\n",
        "For instance, variables with bigger ranges dominate those woth smaller ranges for linear models."
      ]
    },
    {
      "cell_type": "markdown",
      "id": "233d39b9",
      "metadata": {
        "id": "233d39b9"
      },
      "source": [
        "# Standardization"
      ]
    },
    {
      "cell_type": "markdown",
      "id": "acc938d2",
      "metadata": {
        "id": "acc938d2"
      },
      "source": [
        "Standardization is the process of centering a variable at zero and standardizing the data variance to 1.\n",
        "\n",
        "To standardize a dataset, you simply have to subtract each data point from the mean of all the data points and divide the result by the standard deviation of the data.\n",
        "\n",
        "Feature Scaling is applied on numeric data only."
      ]
    },
    {
      "cell_type": "code",
      "execution_count": null,
      "id": "ea185928",
      "metadata": {
        "id": "ea185928"
      },
      "outputs": [],
      "source": [
        "import pandas as pd\n",
        "import matplotlib.pyplot as plt\n",
        "import numpy as np\n",
        "import seaborn as sns"
      ]
    },
    {
      "cell_type": "code",
      "execution_count": null,
      "id": "7a836185",
      "metadata": {
        "id": "7a836185",
        "outputId": "6855a016-05cc-40bd-9637-3d1e701980ac"
      },
      "outputs": [
        {
          "data": {
            "text/html": [
              "<div>\n",
              "<style scoped>\n",
              "    .dataframe tbody tr th:only-of-type {\n",
              "        vertical-align: middle;\n",
              "    }\n",
              "\n",
              "    .dataframe tbody tr th {\n",
              "        vertical-align: top;\n",
              "    }\n",
              "\n",
              "    .dataframe thead th {\n",
              "        text-align: right;\n",
              "    }\n",
              "</style>\n",
              "<table border=\"1\" class=\"dataframe\">\n",
              "  <thead>\n",
              "    <tr style=\"text-align: right;\">\n",
              "      <th></th>\n",
              "      <th>age</th>\n",
              "      <th>fare</th>\n",
              "      <th>pclass</th>\n",
              "    </tr>\n",
              "  </thead>\n",
              "  <tbody>\n",
              "    <tr>\n",
              "      <th>0</th>\n",
              "      <td>22.0</td>\n",
              "      <td>7.2500</td>\n",
              "      <td>3</td>\n",
              "    </tr>\n",
              "    <tr>\n",
              "      <th>1</th>\n",
              "      <td>38.0</td>\n",
              "      <td>71.2833</td>\n",
              "      <td>1</td>\n",
              "    </tr>\n",
              "    <tr>\n",
              "      <th>2</th>\n",
              "      <td>26.0</td>\n",
              "      <td>7.9250</td>\n",
              "      <td>3</td>\n",
              "    </tr>\n",
              "    <tr>\n",
              "      <th>3</th>\n",
              "      <td>35.0</td>\n",
              "      <td>53.1000</td>\n",
              "      <td>1</td>\n",
              "    </tr>\n",
              "    <tr>\n",
              "      <th>4</th>\n",
              "      <td>35.0</td>\n",
              "      <td>8.0500</td>\n",
              "      <td>3</td>\n",
              "    </tr>\n",
              "  </tbody>\n",
              "</table>\n",
              "</div>"
            ],
            "text/plain": [
              "    age     fare  pclass\n",
              "0  22.0   7.2500       3\n",
              "1  38.0  71.2833       1\n",
              "2  26.0   7.9250       3\n",
              "3  35.0  53.1000       1\n",
              "4  35.0   8.0500       3"
            ]
          },
          "execution_count": 67,
          "metadata": {},
          "output_type": "execute_result"
        }
      ],
      "source": [
        "titanic_data= sns.load_dataset(\"titanic\")\n",
        "\n",
        "titanic_data= titanic_data[[\"age\",\"fare\",\"pclass\"]]\n",
        "\n",
        "titanic_data.head()"
      ]
    },
    {
      "cell_type": "code",
      "execution_count": null,
      "id": "6aa0d22c",
      "metadata": {
        "id": "6aa0d22c"
      },
      "outputs": [],
      "source": [
        "from sklearn.preprocessing import StandardScaler\n",
        "\n",
        "scaler=StandardScaler()\n",
        "scaler.fit(titanic_data)\n",
        "\n",
        "titanic_data_scaled= scaler.transform(titanic_data)"
      ]
    },
    {
      "cell_type": "code",
      "execution_count": null,
      "id": "1a153c1c",
      "metadata": {
        "id": "1a153c1c",
        "outputId": "c573d052-89c6-448c-e6b9-fba7643f9b33"
      },
      "outputs": [
        {
          "data": {
            "text/html": [
              "<div>\n",
              "<style scoped>\n",
              "    .dataframe tbody tr th:only-of-type {\n",
              "        vertical-align: middle;\n",
              "    }\n",
              "\n",
              "    .dataframe tbody tr th {\n",
              "        vertical-align: top;\n",
              "    }\n",
              "\n",
              "    .dataframe thead th {\n",
              "        text-align: right;\n",
              "    }\n",
              "</style>\n",
              "<table border=\"1\" class=\"dataframe\">\n",
              "  <thead>\n",
              "    <tr style=\"text-align: right;\">\n",
              "      <th></th>\n",
              "      <th>age</th>\n",
              "      <th>fare</th>\n",
              "      <th>pclass</th>\n",
              "    </tr>\n",
              "  </thead>\n",
              "  <tbody>\n",
              "    <tr>\n",
              "      <th>0</th>\n",
              "      <td>-0.530377</td>\n",
              "      <td>-0.502445</td>\n",
              "      <td>0.827377</td>\n",
              "    </tr>\n",
              "    <tr>\n",
              "      <th>1</th>\n",
              "      <td>0.571831</td>\n",
              "      <td>0.786845</td>\n",
              "      <td>-1.566107</td>\n",
              "    </tr>\n",
              "    <tr>\n",
              "      <th>2</th>\n",
              "      <td>-0.254825</td>\n",
              "      <td>-0.488854</td>\n",
              "      <td>0.827377</td>\n",
              "    </tr>\n",
              "    <tr>\n",
              "      <th>3</th>\n",
              "      <td>0.365167</td>\n",
              "      <td>0.420730</td>\n",
              "      <td>-1.566107</td>\n",
              "    </tr>\n",
              "    <tr>\n",
              "      <th>4</th>\n",
              "      <td>0.365167</td>\n",
              "      <td>-0.486337</td>\n",
              "      <td>0.827377</td>\n",
              "    </tr>\n",
              "  </tbody>\n",
              "</table>\n",
              "</div>"
            ],
            "text/plain": [
              "        age      fare    pclass\n",
              "0 -0.530377 -0.502445  0.827377\n",
              "1  0.571831  0.786845 -1.566107\n",
              "2 -0.254825 -0.488854  0.827377\n",
              "3  0.365167  0.420730 -1.566107\n",
              "4  0.365167 -0.486337  0.827377"
            ]
          },
          "execution_count": 69,
          "metadata": {},
          "output_type": "execute_result"
        }
      ],
      "source": [
        "titanic_data_scaled= pd.DataFrame(titanic_data_scaled, columns=titanic_data.columns)\n",
        "\n",
        "titanic_data_scaled.head()"
      ]
    },
    {
      "cell_type": "code",
      "execution_count": null,
      "id": "8244b624",
      "metadata": {
        "id": "8244b624",
        "outputId": "bde21401-27b8-4c86-8d53-79ded7847715"
      },
      "outputs": [
        {
          "data": {
            "text/plain": [
              "<AxesSubplot:xlabel='age', ylabel='Density'>"
            ]
          },
          "execution_count": 70,
          "metadata": {},
          "output_type": "execute_result"
        },
        {
          "data": {
            "image/png": "[encoded data removed]",
            "text/plain": [
              "<Figure size 432x288 with 1 Axes>"
            ]
          },
          "metadata": {
            "needs_background": "light"
          },
          "output_type": "display_data"
        }
      ],
      "source": [
        "sns.kdeplot(titanic_data_scaled['age'])"
      ]
    },
    {
      "cell_type": "markdown",
      "id": "02a7591c",
      "metadata": {
        "id": "02a7591c"
      },
      "source": [
        "Min/Max Scaling\n",
        "\n",
        "In min/max scaling you subtract each value by the minimum value and then divide the result by the difference between minimum and maximum value in the dataset."
      ]
    },
    {
      "cell_type": "code",
      "execution_count": null,
      "id": "58e2c708",
      "metadata": {
        "id": "58e2c708"
      },
      "outputs": [],
      "source": [
        "from sklearn.preprocessing import MinMaxScaler\n",
        "\n",
        "scaler=MinMaxScaler()\n",
        "scaler.fit(titanic_data)\n",
        "\n",
        "titanic_data_scaled= scaler.transform(titanic_data)"
      ]
    },
    {
      "cell_type": "code",
      "execution_count": null,
      "id": "dd24c7a3",
      "metadata": {
        "id": "dd24c7a3",
        "outputId": "08b35594-c144-4f87-dc11-c3cc3e1901c8"
      },
      "outputs": [
        {
          "data": {
            "text/html": [
              "<div>\n",
              "<style scoped>\n",
              "    .dataframe tbody tr th:only-of-type {\n",
              "        vertical-align: middle;\n",
              "    }\n",
              "\n",
              "    .dataframe tbody tr th {\n",
              "        vertical-align: top;\n",
              "    }\n",
              "\n",
              "    .dataframe thead th {\n",
              "        text-align: right;\n",
              "    }\n",
              "</style>\n",
              "<table border=\"1\" class=\"dataframe\">\n",
              "  <thead>\n",
              "    <tr style=\"text-align: right;\">\n",
              "      <th></th>\n",
              "      <th>age</th>\n",
              "      <th>fare</th>\n",
              "      <th>pclass</th>\n",
              "    </tr>\n",
              "  </thead>\n",
              "  <tbody>\n",
              "    <tr>\n",
              "      <th>0</th>\n",
              "      <td>0.271174</td>\n",
              "      <td>0.014151</td>\n",
              "      <td>1.0</td>\n",
              "    </tr>\n",
              "    <tr>\n",
              "      <th>1</th>\n",
              "      <td>0.472229</td>\n",
              "      <td>0.139136</td>\n",
              "      <td>0.0</td>\n",
              "    </tr>\n",
              "    <tr>\n",
              "      <th>2</th>\n",
              "      <td>0.321438</td>\n",
              "      <td>0.015469</td>\n",
              "      <td>1.0</td>\n",
              "    </tr>\n",
              "    <tr>\n",
              "      <th>3</th>\n",
              "      <td>0.434531</td>\n",
              "      <td>0.103644</td>\n",
              "      <td>0.0</td>\n",
              "    </tr>\n",
              "    <tr>\n",
              "      <th>4</th>\n",
              "      <td>0.434531</td>\n",
              "      <td>0.015713</td>\n",
              "      <td>1.0</td>\n",
              "    </tr>\n",
              "  </tbody>\n",
              "</table>\n",
              "</div>"
            ],
            "text/plain": [
              "        age      fare  pclass\n",
              "0  0.271174  0.014151     1.0\n",
              "1  0.472229  0.139136     0.0\n",
              "2  0.321438  0.015469     1.0\n",
              "3  0.434531  0.103644     0.0\n",
              "4  0.434531  0.015713     1.0"
            ]
          },
          "execution_count": 72,
          "metadata": {},
          "output_type": "execute_result"
        }
      ],
      "source": [
        "titanic_data_scaled= pd.DataFrame(titanic_data_scaled, columns=titanic_data.columns)\n",
        "\n",
        "titanic_data_scaled.head()"
      ]
    },
    {
      "cell_type": "code",
      "execution_count": null,
      "id": "293edec6",
      "metadata": {
        "id": "293edec6",
        "outputId": "6d8494fa-a877-43ec-a2a2-964c6cd3fdb7"
      },
      "outputs": [
        {
          "data": {
            "text/plain": [
              "<AxesSubplot:xlabel='age', ylabel='Density'>"
            ]
          },
          "execution_count": 73,
          "metadata": {},
          "output_type": "execute_result"
        },
        {
          "data": {
            "image/png": "[encoded data removed]",
            "text/plain": [
              "<Figure size 432x288 with 1 Axes>"
            ]
          },
          "metadata": {
            "needs_background": "light"
          },
          "output_type": "display_data"
        }
      ],
      "source": [
        "sns.kdeplot(titanic_data_scaled[\"age\"])"
      ]
    },
    {
      "cell_type": "markdown",
      "id": "0abdaaa8",
      "metadata": {
        "id": "0abdaaa8"
      },
      "source": [
        "# Handling Missing Data"
      ]
    },
    {
      "cell_type": "markdown",
      "id": "f08fbf5e",
      "metadata": {
        "id": "f08fbf5e"
      },
      "source": [
        "Missing values are those observations in the dataset that do not contain any value.\n",
        "\n",
        "Missing values can totally change data patterns and therefore it is extremely important to understand why missing values occur in the dataset and how to handle them.\n",
        "\n",
        "Handling Missing Numerical Data\n",
        "\n",
        "To handle missing numerical data, we can use statistical techniques. The use of statistical techniques or algorithms to replace missing values with statistically generated values is called imputation."
      ]
    },
    {
      "cell_type": "code",
      "execution_count": null,
      "id": "66201a74",
      "metadata": {
        "id": "66201a74",
        "outputId": "6ce79e2c-83d1-4ca2-ad70-f7672693d878"
      },
      "outputs": [
        {
          "data": {
            "text/html": [
              "<div>\n",
              "<style scoped>\n",
              "    .dataframe tbody tr th:only-of-type {\n",
              "        vertical-align: middle;\n",
              "    }\n",
              "\n",
              "    .dataframe tbody tr th {\n",
              "        vertical-align: top;\n",
              "    }\n",
              "\n",
              "    .dataframe thead th {\n",
              "        text-align: right;\n",
              "    }\n",
              "</style>\n",
              "<table border=\"1\" class=\"dataframe\">\n",
              "  <thead>\n",
              "    <tr style=\"text-align: right;\">\n",
              "      <th></th>\n",
              "      <th>survived</th>\n",
              "      <th>pclass</th>\n",
              "      <th>sex</th>\n",
              "      <th>age</th>\n",
              "      <th>sibsp</th>\n",
              "      <th>parch</th>\n",
              "      <th>fare</th>\n",
              "      <th>embarked</th>\n",
              "      <th>class</th>\n",
              "      <th>who</th>\n",
              "      <th>adult_male</th>\n",
              "      <th>deck</th>\n",
              "      <th>embark_town</th>\n",
              "      <th>alive</th>\n",
              "      <th>alone</th>\n",
              "    </tr>\n",
              "  </thead>\n",
              "  <tbody>\n",
              "    <tr>\n",
              "      <th>0</th>\n",
              "      <td>0</td>\n",
              "      <td>3</td>\n",
              "      <td>male</td>\n",
              "      <td>22.0</td>\n",
              "      <td>1</td>\n",
              "      <td>0</td>\n",
              "      <td>7.2500</td>\n",
              "      <td>S</td>\n",
              "      <td>Third</td>\n",
              "      <td>man</td>\n",
              "      <td>True</td>\n",
              "      <td>NaN</td>\n",
              "      <td>Southampton</td>\n",
              "      <td>no</td>\n",
              "      <td>False</td>\n",
              "    </tr>\n",
              "    <tr>\n",
              "      <th>1</th>\n",
              "      <td>1</td>\n",
              "      <td>1</td>\n",
              "      <td>female</td>\n",
              "      <td>38.0</td>\n",
              "      <td>1</td>\n",
              "      <td>0</td>\n",
              "      <td>71.2833</td>\n",
              "      <td>C</td>\n",
              "      <td>First</td>\n",
              "      <td>woman</td>\n",
              "      <td>False</td>\n",
              "      <td>C</td>\n",
              "      <td>Cherbourg</td>\n",
              "      <td>yes</td>\n",
              "      <td>False</td>\n",
              "    </tr>\n",
              "    <tr>\n",
              "      <th>2</th>\n",
              "      <td>1</td>\n",
              "      <td>3</td>\n",
              "      <td>female</td>\n",
              "      <td>26.0</td>\n",
              "      <td>0</td>\n",
              "      <td>0</td>\n",
              "      <td>7.9250</td>\n",
              "      <td>S</td>\n",
              "      <td>Third</td>\n",
              "      <td>woman</td>\n",
              "      <td>False</td>\n",
              "      <td>NaN</td>\n",
              "      <td>Southampton</td>\n",
              "      <td>yes</td>\n",
              "      <td>True</td>\n",
              "    </tr>\n",
              "    <tr>\n",
              "      <th>3</th>\n",
              "      <td>1</td>\n",
              "      <td>1</td>\n",
              "      <td>female</td>\n",
              "      <td>35.0</td>\n",
              "      <td>1</td>\n",
              "      <td>0</td>\n",
              "      <td>53.1000</td>\n",
              "      <td>S</td>\n",
              "      <td>First</td>\n",
              "      <td>woman</td>\n",
              "      <td>False</td>\n",
              "      <td>C</td>\n",
              "      <td>Southampton</td>\n",
              "      <td>yes</td>\n",
              "      <td>False</td>\n",
              "    </tr>\n",
              "    <tr>\n",
              "      <th>4</th>\n",
              "      <td>0</td>\n",
              "      <td>3</td>\n",
              "      <td>male</td>\n",
              "      <td>35.0</td>\n",
              "      <td>0</td>\n",
              "      <td>0</td>\n",
              "      <td>8.0500</td>\n",
              "      <td>S</td>\n",
              "      <td>Third</td>\n",
              "      <td>man</td>\n",
              "      <td>True</td>\n",
              "      <td>NaN</td>\n",
              "      <td>Southampton</td>\n",
              "      <td>no</td>\n",
              "      <td>True</td>\n",
              "    </tr>\n",
              "  </tbody>\n",
              "</table>\n",
              "</div>"
            ],
            "text/plain": [
              "   survived  pclass     sex   age  sibsp  parch     fare embarked  class  \\\n",
              "0         0       3    male  22.0      1      0   7.2500        S  Third   \n",
              "1         1       1  female  38.0      1      0  71.2833        C  First   \n",
              "2         1       3  female  26.0      0      0   7.9250        S  Third   \n",
              "3         1       1  female  35.0      1      0  53.1000        S  First   \n",
              "4         0       3    male  35.0      0      0   8.0500        S  Third   \n",
              "\n",
              "     who  adult_male deck  embark_town alive  alone  \n",
              "0    man        True  NaN  Southampton    no  False  \n",
              "1  woman       False    C    Cherbourg   yes  False  \n",
              "2  woman       False  NaN  Southampton   yes   True  \n",
              "3  woman       False    C  Southampton   yes  False  \n",
              "4    man        True  NaN  Southampton    no   True  "
            ]
          },
          "execution_count": 74,
          "metadata": {},
          "output_type": "execute_result"
        }
      ],
      "source": [
        "titanic_data= sns.load_dataset(\"titanic\")\n",
        "\n",
        "titanic_data.head()"
      ]
    },
    {
      "cell_type": "code",
      "execution_count": null,
      "id": "0ca87ffe",
      "metadata": {
        "id": "0ca87ffe",
        "outputId": "1b746265-440a-4bdd-c634-9074bd50ad0a"
      },
      "outputs": [
        {
          "data": {
            "text/html": [
              "<div>\n",
              "<style scoped>\n",
              "    .dataframe tbody tr th:only-of-type {\n",
              "        vertical-align: middle;\n",
              "    }\n",
              "\n",
              "    .dataframe tbody tr th {\n",
              "        vertical-align: top;\n",
              "    }\n",
              "\n",
              "    .dataframe thead th {\n",
              "        text-align: right;\n",
              "    }\n",
              "</style>\n",
              "<table border=\"1\" class=\"dataframe\">\n",
              "  <thead>\n",
              "    <tr style=\"text-align: right;\">\n",
              "      <th></th>\n",
              "      <th>survived</th>\n",
              "      <th>pclass</th>\n",
              "      <th>age</th>\n",
              "      <th>fare</th>\n",
              "    </tr>\n",
              "  </thead>\n",
              "  <tbody>\n",
              "    <tr>\n",
              "      <th>0</th>\n",
              "      <td>0</td>\n",
              "      <td>3</td>\n",
              "      <td>22.0</td>\n",
              "      <td>7.2500</td>\n",
              "    </tr>\n",
              "    <tr>\n",
              "      <th>1</th>\n",
              "      <td>1</td>\n",
              "      <td>1</td>\n",
              "      <td>38.0</td>\n",
              "      <td>71.2833</td>\n",
              "    </tr>\n",
              "    <tr>\n",
              "      <th>2</th>\n",
              "      <td>1</td>\n",
              "      <td>3</td>\n",
              "      <td>26.0</td>\n",
              "      <td>7.9250</td>\n",
              "    </tr>\n",
              "    <tr>\n",
              "      <th>3</th>\n",
              "      <td>1</td>\n",
              "      <td>1</td>\n",
              "      <td>35.0</td>\n",
              "      <td>53.1000</td>\n",
              "    </tr>\n",
              "    <tr>\n",
              "      <th>4</th>\n",
              "      <td>0</td>\n",
              "      <td>3</td>\n",
              "      <td>35.0</td>\n",
              "      <td>8.0500</td>\n",
              "    </tr>\n",
              "  </tbody>\n",
              "</table>\n",
              "</div>"
            ],
            "text/plain": [
              "   survived  pclass   age     fare\n",
              "0         0       3  22.0   7.2500\n",
              "1         1       1  38.0  71.2833\n",
              "2         1       3  26.0   7.9250\n",
              "3         1       1  35.0  53.1000\n",
              "4         0       3  35.0   8.0500"
            ]
          },
          "execution_count": 75,
          "metadata": {},
          "output_type": "execute_result"
        }
      ],
      "source": [
        "titanic_data= titanic_data[[\"survived\",\"pclass\",\"age\",\"fare\"]]\n",
        "\n",
        "titanic_data.head()"
      ]
    },
    {
      "cell_type": "code",
      "execution_count": null,
      "id": "050aa020",
      "metadata": {
        "id": "050aa020",
        "outputId": "ea1e51d2-c27e-4b05-bb9d-62594ebc6e21"
      },
      "outputs": [
        {
          "data": {
            "text/plain": [
              "survived    0.000000\n",
              "pclass      0.000000\n",
              "age         0.198653\n",
              "fare        0.000000\n",
              "dtype: float64"
            ]
          },
          "execution_count": 76,
          "metadata": {},
          "output_type": "execute_result"
        }
      ],
      "source": [
        "titanic_data.isnull().mean()"
      ]
    },
    {
      "cell_type": "code",
      "execution_count": null,
      "id": "53e1d267",
      "metadata": {
        "id": "53e1d267",
        "outputId": "73bb52af-848b-42d0-ffa3-0cd831729717"
      },
      "outputs": [
        {
          "data": {
            "text/plain": [
              "survived      0\n",
              "pclass        0\n",
              "age         177\n",
              "fare          0\n",
              "dtype: int64"
            ]
          },
          "execution_count": 77,
          "metadata": {},
          "output_type": "execute_result"
        }
      ],
      "source": [
        "titanic_data.isnull().sum()"
      ]
    },
    {
      "cell_type": "code",
      "execution_count": null,
      "id": "2db83ed4",
      "metadata": {
        "id": "2db83ed4",
        "outputId": "762ecd07-ae3d-45cc-f0ce-ca5445754fe5"
      },
      "outputs": [
        {
          "name": "stdout",
          "output_type": "stream",
          "text": [
            "28.0\n",
            "29.69911764705882\n"
          ]
        }
      ],
      "source": [
        "median= titanic_data.age.median()\n",
        "print(median)\n",
        "\n",
        "mean=titanic_data.age.mean()\n",
        "print(mean)"
      ]
    },
    {
      "cell_type": "code",
      "execution_count": null,
      "id": "a2f8cb20",
      "metadata": {
        "id": "a2f8cb20",
        "outputId": "8de20117-daf9-4194-cdb2-4bb2669f85d0"
      },
      "outputs": [
        {
          "data": {
            "text/html": [
              "<div>\n",
              "<style scoped>\n",
              "    .dataframe tbody tr th:only-of-type {\n",
              "        vertical-align: middle;\n",
              "    }\n",
              "\n",
              "    .dataframe tbody tr th {\n",
              "        vertical-align: top;\n",
              "    }\n",
              "\n",
              "    .dataframe thead th {\n",
              "        text-align: right;\n",
              "    }\n",
              "</style>\n",
              "<table border=\"1\" class=\"dataframe\">\n",
              "  <thead>\n",
              "    <tr style=\"text-align: right;\">\n",
              "      <th></th>\n",
              "      <th>survived</th>\n",
              "      <th>pclass</th>\n",
              "      <th>age</th>\n",
              "      <th>fare</th>\n",
              "      <th>Median_Age</th>\n",
              "      <th>Mean_Age</th>\n",
              "    </tr>\n",
              "  </thead>\n",
              "  <tbody>\n",
              "    <tr>\n",
              "      <th>0</th>\n",
              "      <td>0</td>\n",
              "      <td>3</td>\n",
              "      <td>22.0</td>\n",
              "      <td>7.2500</td>\n",
              "      <td>22.0</td>\n",
              "      <td>22.0</td>\n",
              "    </tr>\n",
              "    <tr>\n",
              "      <th>1</th>\n",
              "      <td>1</td>\n",
              "      <td>1</td>\n",
              "      <td>38.0</td>\n",
              "      <td>71.2833</td>\n",
              "      <td>38.0</td>\n",
              "      <td>38.0</td>\n",
              "    </tr>\n",
              "    <tr>\n",
              "      <th>2</th>\n",
              "      <td>1</td>\n",
              "      <td>3</td>\n",
              "      <td>26.0</td>\n",
              "      <td>7.9250</td>\n",
              "      <td>26.0</td>\n",
              "      <td>26.0</td>\n",
              "    </tr>\n",
              "    <tr>\n",
              "      <th>3</th>\n",
              "      <td>1</td>\n",
              "      <td>1</td>\n",
              "      <td>35.0</td>\n",
              "      <td>53.1000</td>\n",
              "      <td>35.0</td>\n",
              "      <td>35.0</td>\n",
              "    </tr>\n",
              "    <tr>\n",
              "      <th>4</th>\n",
              "      <td>0</td>\n",
              "      <td>3</td>\n",
              "      <td>35.0</td>\n",
              "      <td>8.0500</td>\n",
              "      <td>35.0</td>\n",
              "      <td>35.0</td>\n",
              "    </tr>\n",
              "    <tr>\n",
              "      <th>5</th>\n",
              "      <td>0</td>\n",
              "      <td>3</td>\n",
              "      <td>NaN</td>\n",
              "      <td>8.4583</td>\n",
              "      <td>28.0</td>\n",
              "      <td>29.7</td>\n",
              "    </tr>\n",
              "    <tr>\n",
              "      <th>6</th>\n",
              "      <td>0</td>\n",
              "      <td>1</td>\n",
              "      <td>54.0</td>\n",
              "      <td>51.8625</td>\n",
              "      <td>54.0</td>\n",
              "      <td>54.0</td>\n",
              "    </tr>\n",
              "    <tr>\n",
              "      <th>7</th>\n",
              "      <td>0</td>\n",
              "      <td>3</td>\n",
              "      <td>2.0</td>\n",
              "      <td>21.0750</td>\n",
              "      <td>2.0</td>\n",
              "      <td>2.0</td>\n",
              "    </tr>\n",
              "    <tr>\n",
              "      <th>8</th>\n",
              "      <td>1</td>\n",
              "      <td>3</td>\n",
              "      <td>27.0</td>\n",
              "      <td>11.1333</td>\n",
              "      <td>27.0</td>\n",
              "      <td>27.0</td>\n",
              "    </tr>\n",
              "    <tr>\n",
              "      <th>9</th>\n",
              "      <td>1</td>\n",
              "      <td>2</td>\n",
              "      <td>14.0</td>\n",
              "      <td>30.0708</td>\n",
              "      <td>14.0</td>\n",
              "      <td>14.0</td>\n",
              "    </tr>\n",
              "    <tr>\n",
              "      <th>10</th>\n",
              "      <td>1</td>\n",
              "      <td>3</td>\n",
              "      <td>4.0</td>\n",
              "      <td>16.7000</td>\n",
              "      <td>4.0</td>\n",
              "      <td>4.0</td>\n",
              "    </tr>\n",
              "    <tr>\n",
              "      <th>11</th>\n",
              "      <td>1</td>\n",
              "      <td>1</td>\n",
              "      <td>58.0</td>\n",
              "      <td>26.5500</td>\n",
              "      <td>58.0</td>\n",
              "      <td>58.0</td>\n",
              "    </tr>\n",
              "    <tr>\n",
              "      <th>12</th>\n",
              "      <td>0</td>\n",
              "      <td>3</td>\n",
              "      <td>20.0</td>\n",
              "      <td>8.0500</td>\n",
              "      <td>20.0</td>\n",
              "      <td>20.0</td>\n",
              "    </tr>\n",
              "    <tr>\n",
              "      <th>13</th>\n",
              "      <td>0</td>\n",
              "      <td>3</td>\n",
              "      <td>39.0</td>\n",
              "      <td>31.2750</td>\n",
              "      <td>39.0</td>\n",
              "      <td>39.0</td>\n",
              "    </tr>\n",
              "    <tr>\n",
              "      <th>14</th>\n",
              "      <td>0</td>\n",
              "      <td>3</td>\n",
              "      <td>14.0</td>\n",
              "      <td>7.8542</td>\n",
              "      <td>14.0</td>\n",
              "      <td>14.0</td>\n",
              "    </tr>\n",
              "    <tr>\n",
              "      <th>15</th>\n",
              "      <td>1</td>\n",
              "      <td>2</td>\n",
              "      <td>55.0</td>\n",
              "      <td>16.0000</td>\n",
              "      <td>55.0</td>\n",
              "      <td>55.0</td>\n",
              "    </tr>\n",
              "    <tr>\n",
              "      <th>16</th>\n",
              "      <td>0</td>\n",
              "      <td>3</td>\n",
              "      <td>2.0</td>\n",
              "      <td>29.1250</td>\n",
              "      <td>2.0</td>\n",
              "      <td>2.0</td>\n",
              "    </tr>\n",
              "    <tr>\n",
              "      <th>17</th>\n",
              "      <td>1</td>\n",
              "      <td>2</td>\n",
              "      <td>NaN</td>\n",
              "      <td>13.0000</td>\n",
              "      <td>28.0</td>\n",
              "      <td>29.7</td>\n",
              "    </tr>\n",
              "    <tr>\n",
              "      <th>18</th>\n",
              "      <td>0</td>\n",
              "      <td>3</td>\n",
              "      <td>31.0</td>\n",
              "      <td>18.0000</td>\n",
              "      <td>31.0</td>\n",
              "      <td>31.0</td>\n",
              "    </tr>\n",
              "    <tr>\n",
              "      <th>19</th>\n",
              "      <td>1</td>\n",
              "      <td>3</td>\n",
              "      <td>NaN</td>\n",
              "      <td>7.2250</td>\n",
              "      <td>28.0</td>\n",
              "      <td>29.7</td>\n",
              "    </tr>\n",
              "  </tbody>\n",
              "</table>\n",
              "</div>"
            ],
            "text/plain": [
              "    survived  pclass   age     fare  Median_Age  Mean_Age\n",
              "0          0       3  22.0   7.2500        22.0      22.0\n",
              "1          1       1  38.0  71.2833        38.0      38.0\n",
              "2          1       3  26.0   7.9250        26.0      26.0\n",
              "3          1       1  35.0  53.1000        35.0      35.0\n",
              "4          0       3  35.0   8.0500        35.0      35.0\n",
              "5          0       3   NaN   8.4583        28.0      29.7\n",
              "6          0       1  54.0  51.8625        54.0      54.0\n",
              "7          0       3   2.0  21.0750         2.0       2.0\n",
              "8          1       3  27.0  11.1333        27.0      27.0\n",
              "9          1       2  14.0  30.0708        14.0      14.0\n",
              "10         1       3   4.0  16.7000         4.0       4.0\n",
              "11         1       1  58.0  26.5500        58.0      58.0\n",
              "12         0       3  20.0   8.0500        20.0      20.0\n",
              "13         0       3  39.0  31.2750        39.0      39.0\n",
              "14         0       3  14.0   7.8542        14.0      14.0\n",
              "15         1       2  55.0  16.0000        55.0      55.0\n",
              "16         0       3   2.0  29.1250         2.0       2.0\n",
              "17         1       2   NaN  13.0000        28.0      29.7\n",
              "18         0       3  31.0  18.0000        31.0      31.0\n",
              "19         1       3   NaN   7.2250        28.0      29.7"
            ]
          },
          "execution_count": 79,
          "metadata": {},
          "output_type": "execute_result"
        }
      ],
      "source": [
        "titanic_data[\"Median_Age\"]=titanic_data.age.fillna(median)\n",
        "\n",
        "titanic_data['Mean_Age']=titanic_data.age.fillna(mean)\n",
        "\n",
        "titanic_data['Mean_Age']=np.round(titanic_data['Mean_Age'],1)\n",
        "\n",
        "titanic_data.head(20)"
      ]
    },
    {
      "cell_type": "markdown",
      "id": "3dcfdbb3",
      "metadata": {
        "id": "3dcfdbb3"
      },
      "source": [
        "Frequent Category Imputation\n",
        "\n",
        "One of the most common ways of jandling missing values in a categorical column is to replace the missing values with the most frequenly occuring values i.e the mode of the column."
      ]
    },
    {
      "cell_type": "code",
      "execution_count": null,
      "id": "fd7e5d41",
      "metadata": {
        "id": "fd7e5d41",
        "outputId": "c2435790-ba68-4a21-a891-ad50c5fb3512"
      },
      "outputs": [
        {
          "data": {
            "text/html": [
              "<div>\n",
              "<style scoped>\n",
              "    .dataframe tbody tr th:only-of-type {\n",
              "        vertical-align: middle;\n",
              "    }\n",
              "\n",
              "    .dataframe tbody tr th {\n",
              "        vertical-align: top;\n",
              "    }\n",
              "\n",
              "    .dataframe thead th {\n",
              "        text-align: right;\n",
              "    }\n",
              "</style>\n",
              "<table border=\"1\" class=\"dataframe\">\n",
              "  <thead>\n",
              "    <tr style=\"text-align: right;\">\n",
              "      <th></th>\n",
              "      <th>embark_town</th>\n",
              "      <th>age</th>\n",
              "      <th>fare</th>\n",
              "    </tr>\n",
              "  </thead>\n",
              "  <tbody>\n",
              "    <tr>\n",
              "      <th>0</th>\n",
              "      <td>Southampton</td>\n",
              "      <td>22.0</td>\n",
              "      <td>7.2500</td>\n",
              "    </tr>\n",
              "    <tr>\n",
              "      <th>1</th>\n",
              "      <td>Cherbourg</td>\n",
              "      <td>38.0</td>\n",
              "      <td>71.2833</td>\n",
              "    </tr>\n",
              "    <tr>\n",
              "      <th>2</th>\n",
              "      <td>Southampton</td>\n",
              "      <td>26.0</td>\n",
              "      <td>7.9250</td>\n",
              "    </tr>\n",
              "    <tr>\n",
              "      <th>3</th>\n",
              "      <td>Southampton</td>\n",
              "      <td>35.0</td>\n",
              "      <td>53.1000</td>\n",
              "    </tr>\n",
              "    <tr>\n",
              "      <th>4</th>\n",
              "      <td>Southampton</td>\n",
              "      <td>35.0</td>\n",
              "      <td>8.0500</td>\n",
              "    </tr>\n",
              "  </tbody>\n",
              "</table>\n",
              "</div>"
            ],
            "text/plain": [
              "   embark_town   age     fare\n",
              "0  Southampton  22.0   7.2500\n",
              "1    Cherbourg  38.0  71.2833\n",
              "2  Southampton  26.0   7.9250\n",
              "3  Southampton  35.0  53.1000\n",
              "4  Southampton  35.0   8.0500"
            ]
          },
          "execution_count": 80,
          "metadata": {},
          "output_type": "execute_result"
        }
      ],
      "source": [
        "import matplotlib.pyplot as plt\n",
        "import seaborn as sns\n",
        "\n",
        "titanic_data= sns.load_dataset(\"titanic\")\n",
        "\n",
        "titanic_data= titanic_data[[\"embark_town\",\"age\",\"fare\"]]\n",
        "\n",
        "titanic_data.head()"
      ]
    },
    {
      "cell_type": "code",
      "execution_count": null,
      "id": "9031288c",
      "metadata": {
        "id": "9031288c",
        "outputId": "3e2962c5-52c4-4867-b268-a959167105d3"
      },
      "outputs": [
        {
          "data": {
            "text/plain": [
              "embark_town    0.002245\n",
              "age            0.198653\n",
              "fare           0.000000\n",
              "dtype: float64"
            ]
          },
          "execution_count": 81,
          "metadata": {},
          "output_type": "execute_result"
        }
      ],
      "source": [
        "titanic_data.isnull().mean()"
      ]
    },
    {
      "cell_type": "code",
      "execution_count": null,
      "id": "cff742cb",
      "metadata": {
        "id": "cff742cb",
        "outputId": "a73915a2-225b-4c1a-da0f-88a56964bfcf"
      },
      "outputs": [
        {
          "data": {
            "text/plain": [
              "Text(0, 0.5, 'Number of Passengers')"
            ]
          },
          "execution_count": 82,
          "metadata": {},
          "output_type": "execute_result"
        },
        {
          "data": {
            "image/png": "[encoded data removed]",
            "text/plain": [
              "<Figure size 432x288 with 1 Axes>"
            ]
          },
          "metadata": {
            "needs_background": "light"
          },
          "output_type": "display_data"
        }
      ],
      "source": [
        "titanic_data.embark_town.value_counts().sort_values(ascending=False).plot.bar()\n",
        "\n",
        "plt.xlabel(\"Embark Town\")\n",
        "\n",
        "plt.ylabel(\"Number of Passengers\")"
      ]
    },
    {
      "cell_type": "code",
      "execution_count": null,
      "id": "687fd0e9",
      "metadata": {
        "id": "687fd0e9",
        "outputId": "6f11d3d9-724e-4f3f-b40b-fa1aba1b18ae"
      },
      "outputs": [
        {
          "data": {
            "text/plain": [
              "0    Southampton\n",
              "Name: embark_town, dtype: object"
            ]
          },
          "execution_count": 83,
          "metadata": {},
          "output_type": "execute_result"
        }
      ],
      "source": [
        "titanic_data.embark_town.mode()"
      ]
    },
    {
      "cell_type": "code",
      "execution_count": null,
      "id": "463be711",
      "metadata": {
        "id": "463be711"
      },
      "outputs": [],
      "source": [
        "titanic_data.embark_town.fillna('Southampton',inplace=True)"
      ]
    },
    {
      "cell_type": "markdown",
      "id": "651e4274",
      "metadata": {
        "id": "651e4274"
      },
      "source": [
        "Categorical Data Encoding\n",
        "\n",
        "Models based on statistical algorithms such as machine learning and deep learning work with numbers.\n",
        "\n",
        "A dataset can contain numerical, categorical, datetime and mixed variables.\n",
        "\n",
        "A mechanism is needed to convert categorical data to its numeric counterpart so that the data can be used to build statistical models.\n",
        "\n",
        "The techniques used to convert numeric data into categorical data are called categorical data encoding schemes.\n",
        "\n",
        "One Hot Encoding\n",
        "\n",
        "One Hot Encoding is one of the most commonly used categorical encoding schemes.\n",
        "\n",
        "In one hot encoding for each unique value in the categorical column a new column is added.\n",
        "\n",
        "Integer 1 is added to the column that corresponds to original label and all the remaining column are filled with zeros."
      ]
    },
    {
      "cell_type": "code",
      "execution_count": null,
      "id": "f6e1a625",
      "metadata": {
        "id": "f6e1a625",
        "outputId": "6fe47a6b-cda4-4e19-cb9b-8b4939281f0f"
      },
      "outputs": [
        {
          "data": {
            "text/html": [
              "<div>\n",
              "<style scoped>\n",
              "    .dataframe tbody tr th:only-of-type {\n",
              "        vertical-align: middle;\n",
              "    }\n",
              "\n",
              "    .dataframe tbody tr th {\n",
              "        vertical-align: top;\n",
              "    }\n",
              "\n",
              "    .dataframe thead th {\n",
              "        text-align: right;\n",
              "    }\n",
              "</style>\n",
              "<table border=\"1\" class=\"dataframe\">\n",
              "  <thead>\n",
              "    <tr style=\"text-align: right;\">\n",
              "      <th></th>\n",
              "      <th>survived</th>\n",
              "      <th>pclass</th>\n",
              "      <th>sex</th>\n",
              "      <th>age</th>\n",
              "      <th>sibsp</th>\n",
              "      <th>parch</th>\n",
              "      <th>fare</th>\n",
              "      <th>embarked</th>\n",
              "      <th>class</th>\n",
              "      <th>who</th>\n",
              "      <th>adult_male</th>\n",
              "      <th>deck</th>\n",
              "      <th>embark_town</th>\n",
              "      <th>alive</th>\n",
              "      <th>alone</th>\n",
              "    </tr>\n",
              "  </thead>\n",
              "  <tbody>\n",
              "    <tr>\n",
              "      <th>0</th>\n",
              "      <td>0</td>\n",
              "      <td>3</td>\n",
              "      <td>male</td>\n",
              "      <td>22.0</td>\n",
              "      <td>1</td>\n",
              "      <td>0</td>\n",
              "      <td>7.2500</td>\n",
              "      <td>S</td>\n",
              "      <td>Third</td>\n",
              "      <td>man</td>\n",
              "      <td>True</td>\n",
              "      <td>NaN</td>\n",
              "      <td>Southampton</td>\n",
              "      <td>no</td>\n",
              "      <td>False</td>\n",
              "    </tr>\n",
              "    <tr>\n",
              "      <th>1</th>\n",
              "      <td>1</td>\n",
              "      <td>1</td>\n",
              "      <td>female</td>\n",
              "      <td>38.0</td>\n",
              "      <td>1</td>\n",
              "      <td>0</td>\n",
              "      <td>71.2833</td>\n",
              "      <td>C</td>\n",
              "      <td>First</td>\n",
              "      <td>woman</td>\n",
              "      <td>False</td>\n",
              "      <td>C</td>\n",
              "      <td>Cherbourg</td>\n",
              "      <td>yes</td>\n",
              "      <td>False</td>\n",
              "    </tr>\n",
              "    <tr>\n",
              "      <th>2</th>\n",
              "      <td>1</td>\n",
              "      <td>3</td>\n",
              "      <td>female</td>\n",
              "      <td>26.0</td>\n",
              "      <td>0</td>\n",
              "      <td>0</td>\n",
              "      <td>7.9250</td>\n",
              "      <td>S</td>\n",
              "      <td>Third</td>\n",
              "      <td>woman</td>\n",
              "      <td>False</td>\n",
              "      <td>NaN</td>\n",
              "      <td>Southampton</td>\n",
              "      <td>yes</td>\n",
              "      <td>True</td>\n",
              "    </tr>\n",
              "    <tr>\n",
              "      <th>3</th>\n",
              "      <td>1</td>\n",
              "      <td>1</td>\n",
              "      <td>female</td>\n",
              "      <td>35.0</td>\n",
              "      <td>1</td>\n",
              "      <td>0</td>\n",
              "      <td>53.1000</td>\n",
              "      <td>S</td>\n",
              "      <td>First</td>\n",
              "      <td>woman</td>\n",
              "      <td>False</td>\n",
              "      <td>C</td>\n",
              "      <td>Southampton</td>\n",
              "      <td>yes</td>\n",
              "      <td>False</td>\n",
              "    </tr>\n",
              "    <tr>\n",
              "      <th>4</th>\n",
              "      <td>0</td>\n",
              "      <td>3</td>\n",
              "      <td>male</td>\n",
              "      <td>35.0</td>\n",
              "      <td>0</td>\n",
              "      <td>0</td>\n",
              "      <td>8.0500</td>\n",
              "      <td>S</td>\n",
              "      <td>Third</td>\n",
              "      <td>man</td>\n",
              "      <td>True</td>\n",
              "      <td>NaN</td>\n",
              "      <td>Southampton</td>\n",
              "      <td>no</td>\n",
              "      <td>True</td>\n",
              "    </tr>\n",
              "  </tbody>\n",
              "</table>\n",
              "</div>"
            ],
            "text/plain": [
              "   survived  pclass     sex   age  sibsp  parch     fare embarked  class  \\\n",
              "0         0       3    male  22.0      1      0   7.2500        S  Third   \n",
              "1         1       1  female  38.0      1      0  71.2833        C  First   \n",
              "2         1       3  female  26.0      0      0   7.9250        S  Third   \n",
              "3         1       1  female  35.0      1      0  53.1000        S  First   \n",
              "4         0       3    male  35.0      0      0   8.0500        S  Third   \n",
              "\n",
              "     who  adult_male deck  embark_town alive  alone  \n",
              "0    man        True  NaN  Southampton    no  False  \n",
              "1  woman       False    C    Cherbourg   yes  False  \n",
              "2  woman       False  NaN  Southampton   yes   True  \n",
              "3  woman       False    C  Southampton   yes  False  \n",
              "4    man        True  NaN  Southampton    no   True  "
            ]
          },
          "execution_count": 85,
          "metadata": {},
          "output_type": "execute_result"
        }
      ],
      "source": [
        "titanic_data=sns.load_dataset(\"titanic\")\n",
        "\n",
        "titanic_data.head()"
      ]
    },
    {
      "cell_type": "code",
      "execution_count": null,
      "id": "9e4665f9",
      "metadata": {
        "id": "9e4665f9",
        "outputId": "5a387501-d8c9-4853-e3dc-bcd1626137a2"
      },
      "outputs": [
        {
          "data": {
            "text/html": [
              "<div>\n",
              "<style scoped>\n",
              "    .dataframe tbody tr th:only-of-type {\n",
              "        vertical-align: middle;\n",
              "    }\n",
              "\n",
              "    .dataframe tbody tr th {\n",
              "        vertical-align: top;\n",
              "    }\n",
              "\n",
              "    .dataframe thead th {\n",
              "        text-align: right;\n",
              "    }\n",
              "</style>\n",
              "<table border=\"1\" class=\"dataframe\">\n",
              "  <thead>\n",
              "    <tr style=\"text-align: right;\">\n",
              "      <th></th>\n",
              "      <th>sex</th>\n",
              "      <th>class</th>\n",
              "      <th>embark_town</th>\n",
              "    </tr>\n",
              "  </thead>\n",
              "  <tbody>\n",
              "    <tr>\n",
              "      <th>0</th>\n",
              "      <td>male</td>\n",
              "      <td>Third</td>\n",
              "      <td>Southampton</td>\n",
              "    </tr>\n",
              "    <tr>\n",
              "      <th>1</th>\n",
              "      <td>female</td>\n",
              "      <td>First</td>\n",
              "      <td>Cherbourg</td>\n",
              "    </tr>\n",
              "    <tr>\n",
              "      <th>2</th>\n",
              "      <td>female</td>\n",
              "      <td>Third</td>\n",
              "      <td>Southampton</td>\n",
              "    </tr>\n",
              "    <tr>\n",
              "      <th>3</th>\n",
              "      <td>female</td>\n",
              "      <td>First</td>\n",
              "      <td>Southampton</td>\n",
              "    </tr>\n",
              "    <tr>\n",
              "      <th>4</th>\n",
              "      <td>male</td>\n",
              "      <td>Third</td>\n",
              "      <td>Southampton</td>\n",
              "    </tr>\n",
              "  </tbody>\n",
              "</table>\n",
              "</div>"
            ],
            "text/plain": [
              "      sex  class  embark_town\n",
              "0    male  Third  Southampton\n",
              "1  female  First    Cherbourg\n",
              "2  female  Third  Southampton\n",
              "3  female  First  Southampton\n",
              "4    male  Third  Southampton"
            ]
          },
          "execution_count": 86,
          "metadata": {},
          "output_type": "execute_result"
        }
      ],
      "source": [
        "titanic_data= titanic_data[[\"sex\",\"class\",\"embark_town\"]]\n",
        "\n",
        "titanic_data.head()"
      ]
    },
    {
      "cell_type": "code",
      "execution_count": null,
      "id": "ea9976d6",
      "metadata": {
        "id": "ea9976d6",
        "outputId": "3f138521-2862-4b48-bee7-e277c78f2f74"
      },
      "outputs": [
        {
          "data": {
            "text/html": [
              "<div>\n",
              "<style scoped>\n",
              "    .dataframe tbody tr th:only-of-type {\n",
              "        vertical-align: middle;\n",
              "    }\n",
              "\n",
              "    .dataframe tbody tr th {\n",
              "        vertical-align: top;\n",
              "    }\n",
              "\n",
              "    .dataframe thead th {\n",
              "        text-align: right;\n",
              "    }\n",
              "</style>\n",
              "<table border=\"1\" class=\"dataframe\">\n",
              "  <thead>\n",
              "    <tr style=\"text-align: right;\">\n",
              "      <th></th>\n",
              "      <th>female</th>\n",
              "      <th>male</th>\n",
              "    </tr>\n",
              "  </thead>\n",
              "  <tbody>\n",
              "    <tr>\n",
              "      <th>0</th>\n",
              "      <td>0</td>\n",
              "      <td>1</td>\n",
              "    </tr>\n",
              "    <tr>\n",
              "      <th>1</th>\n",
              "      <td>1</td>\n",
              "      <td>0</td>\n",
              "    </tr>\n",
              "    <tr>\n",
              "      <th>2</th>\n",
              "      <td>1</td>\n",
              "      <td>0</td>\n",
              "    </tr>\n",
              "    <tr>\n",
              "      <th>3</th>\n",
              "      <td>1</td>\n",
              "      <td>0</td>\n",
              "    </tr>\n",
              "    <tr>\n",
              "      <th>4</th>\n",
              "      <td>0</td>\n",
              "      <td>1</td>\n",
              "    </tr>\n",
              "  </tbody>\n",
              "</table>\n",
              "</div>"
            ],
            "text/plain": [
              "   female  male\n",
              "0       0     1\n",
              "1       1     0\n",
              "2       1     0\n",
              "3       1     0\n",
              "4       0     1"
            ]
          },
          "execution_count": 87,
          "metadata": {},
          "output_type": "execute_result"
        }
      ],
      "source": [
        "import pandas as pd\n",
        "\n",
        "temp= pd.get_dummies(titanic_data['sex'])\n",
        "\n",
        "temp.head()"
      ]
    },
    {
      "cell_type": "code",
      "execution_count": null,
      "id": "aca10968",
      "metadata": {
        "id": "aca10968",
        "outputId": "d584b75d-c640-41b1-dc8c-6ef19b51632f"
      },
      "outputs": [
        {
          "data": {
            "text/html": [
              "<div>\n",
              "<style scoped>\n",
              "    .dataframe tbody tr th:only-of-type {\n",
              "        vertical-align: middle;\n",
              "    }\n",
              "\n",
              "    .dataframe tbody tr th {\n",
              "        vertical-align: top;\n",
              "    }\n",
              "\n",
              "    .dataframe thead th {\n",
              "        text-align: right;\n",
              "    }\n",
              "</style>\n",
              "<table border=\"1\" class=\"dataframe\">\n",
              "  <thead>\n",
              "    <tr style=\"text-align: right;\">\n",
              "      <th></th>\n",
              "      <th>sex</th>\n",
              "      <th>female</th>\n",
              "      <th>male</th>\n",
              "    </tr>\n",
              "  </thead>\n",
              "  <tbody>\n",
              "    <tr>\n",
              "      <th>0</th>\n",
              "      <td>male</td>\n",
              "      <td>0</td>\n",
              "      <td>1</td>\n",
              "    </tr>\n",
              "    <tr>\n",
              "      <th>1</th>\n",
              "      <td>female</td>\n",
              "      <td>1</td>\n",
              "      <td>0</td>\n",
              "    </tr>\n",
              "    <tr>\n",
              "      <th>2</th>\n",
              "      <td>female</td>\n",
              "      <td>1</td>\n",
              "      <td>0</td>\n",
              "    </tr>\n",
              "    <tr>\n",
              "      <th>3</th>\n",
              "      <td>female</td>\n",
              "      <td>1</td>\n",
              "      <td>0</td>\n",
              "    </tr>\n",
              "    <tr>\n",
              "      <th>4</th>\n",
              "      <td>male</td>\n",
              "      <td>0</td>\n",
              "      <td>1</td>\n",
              "    </tr>\n",
              "  </tbody>\n",
              "</table>\n",
              "</div>"
            ],
            "text/plain": [
              "      sex  female  male\n",
              "0    male       0     1\n",
              "1  female       1     0\n",
              "2  female       1     0\n",
              "3  female       1     0\n",
              "4    male       0     1"
            ]
          },
          "execution_count": 88,
          "metadata": {},
          "output_type": "execute_result"
        }
      ],
      "source": [
        "pd.concat([titanic_data[\"sex\"],pd.get_dummies(titanic_data['sex'])],axis=1).head()"
      ]
    },
    {
      "cell_type": "code",
      "execution_count": null,
      "id": "aec74ee3",
      "metadata": {
        "id": "aec74ee3",
        "outputId": "21014e88-8a21-4149-cf18-d17ef58813ec"
      },
      "outputs": [
        {
          "data": {
            "text/html": [
              "<div>\n",
              "<style scoped>\n",
              "    .dataframe tbody tr th:only-of-type {\n",
              "        vertical-align: middle;\n",
              "    }\n",
              "\n",
              "    .dataframe tbody tr th {\n",
              "        vertical-align: top;\n",
              "    }\n",
              "\n",
              "    .dataframe thead th {\n",
              "        text-align: right;\n",
              "    }\n",
              "</style>\n",
              "<table border=\"1\" class=\"dataframe\">\n",
              "  <thead>\n",
              "    <tr style=\"text-align: right;\">\n",
              "      <th></th>\n",
              "      <th>Cherbourg</th>\n",
              "      <th>Queenstown</th>\n",
              "      <th>Southampton</th>\n",
              "    </tr>\n",
              "  </thead>\n",
              "  <tbody>\n",
              "    <tr>\n",
              "      <th>0</th>\n",
              "      <td>0</td>\n",
              "      <td>0</td>\n",
              "      <td>1</td>\n",
              "    </tr>\n",
              "    <tr>\n",
              "      <th>1</th>\n",
              "      <td>1</td>\n",
              "      <td>0</td>\n",
              "      <td>0</td>\n",
              "    </tr>\n",
              "    <tr>\n",
              "      <th>2</th>\n",
              "      <td>0</td>\n",
              "      <td>0</td>\n",
              "      <td>1</td>\n",
              "    </tr>\n",
              "    <tr>\n",
              "      <th>3</th>\n",
              "      <td>0</td>\n",
              "      <td>0</td>\n",
              "      <td>1</td>\n",
              "    </tr>\n",
              "    <tr>\n",
              "      <th>4</th>\n",
              "      <td>0</td>\n",
              "      <td>0</td>\n",
              "      <td>1</td>\n",
              "    </tr>\n",
              "  </tbody>\n",
              "</table>\n",
              "</div>"
            ],
            "text/plain": [
              "   Cherbourg  Queenstown  Southampton\n",
              "0          0           0            1\n",
              "1          1           0            0\n",
              "2          0           0            1\n",
              "3          0           0            1\n",
              "4          0           0            1"
            ]
          },
          "execution_count": 89,
          "metadata": {},
          "output_type": "execute_result"
        }
      ],
      "source": [
        "temp=pd.get_dummies(titanic_data[\"embark_town\"])\n",
        "\n",
        "temp.head()"
      ]
    },
    {
      "cell_type": "markdown",
      "id": "e1081ccb",
      "metadata": {
        "id": "e1081ccb"
      },
      "source": [
        "Label Encoding\n",
        "\n",
        "In label encoding, labels are replaced by integers\n",
        "\n",
        "This is why label encoding is also called as integer encoding."
      ]
    },
    {
      "cell_type": "code",
      "execution_count": null,
      "id": "ebca0d61",
      "metadata": {
        "id": "ebca0d61",
        "outputId": "147b1b90-c785-4ffd-edfd-f5dc244e466e"
      },
      "outputs": [
        {
          "data": {
            "text/html": [
              "<div>\n",
              "<style scoped>\n",
              "    .dataframe tbody tr th:only-of-type {\n",
              "        vertical-align: middle;\n",
              "    }\n",
              "\n",
              "    .dataframe tbody tr th {\n",
              "        vertical-align: top;\n",
              "    }\n",
              "\n",
              "    .dataframe thead th {\n",
              "        text-align: right;\n",
              "    }\n",
              "</style>\n",
              "<table border=\"1\" class=\"dataframe\">\n",
              "  <thead>\n",
              "    <tr style=\"text-align: right;\">\n",
              "      <th></th>\n",
              "      <th>sex</th>\n",
              "      <th>class</th>\n",
              "      <th>embark_town</th>\n",
              "      <th>le_class</th>\n",
              "    </tr>\n",
              "  </thead>\n",
              "  <tbody>\n",
              "    <tr>\n",
              "      <th>0</th>\n",
              "      <td>male</td>\n",
              "      <td>Third</td>\n",
              "      <td>Southampton</td>\n",
              "      <td>2</td>\n",
              "    </tr>\n",
              "    <tr>\n",
              "      <th>1</th>\n",
              "      <td>female</td>\n",
              "      <td>First</td>\n",
              "      <td>Cherbourg</td>\n",
              "      <td>0</td>\n",
              "    </tr>\n",
              "    <tr>\n",
              "      <th>2</th>\n",
              "      <td>female</td>\n",
              "      <td>Third</td>\n",
              "      <td>Southampton</td>\n",
              "      <td>2</td>\n",
              "    </tr>\n",
              "    <tr>\n",
              "      <th>3</th>\n",
              "      <td>female</td>\n",
              "      <td>First</td>\n",
              "      <td>Southampton</td>\n",
              "      <td>0</td>\n",
              "    </tr>\n",
              "    <tr>\n",
              "      <th>4</th>\n",
              "      <td>male</td>\n",
              "      <td>Third</td>\n",
              "      <td>Southampton</td>\n",
              "      <td>2</td>\n",
              "    </tr>\n",
              "  </tbody>\n",
              "</table>\n",
              "</div>"
            ],
            "text/plain": [
              "      sex  class  embark_town  le_class\n",
              "0    male  Third  Southampton         2\n",
              "1  female  First    Cherbourg         0\n",
              "2  female  Third  Southampton         2\n",
              "3  female  First  Southampton         0\n",
              "4    male  Third  Southampton         2"
            ]
          },
          "execution_count": 90,
          "metadata": {},
          "output_type": "execute_result"
        }
      ],
      "source": [
        "from sklearn.preprocessing import LabelEncoder\n",
        "\n",
        "le=LabelEncoder()\n",
        "\n",
        "le.fit(titanic_data['class'])\n",
        "\n",
        "titanic_data['le_class']=le.transform(titanic_data['class'])\n",
        "\n",
        "titanic_data.head()"
      ]
    },
    {
      "cell_type": "markdown",
      "id": "7e1c0ae9",
      "metadata": {
        "id": "7e1c0ae9"
      },
      "source": [
        "Data Discretization\n",
        "\n",
        "The process of converting continuous numeric values such as price, age and weight into discrete intervals is called discretization or binning.\n",
        "\n",
        "Discretization is particularly helpful in cases where you have a skewed distribution of data.\n",
        "\n",
        "Equal Width Discretization\n",
        "\n",
        "The most common type of discretization approach is fixed width discretization."
      ]
    },
    {
      "cell_type": "code",
      "execution_count": null,
      "id": "26410ca7",
      "metadata": {
        "id": "26410ca7",
        "outputId": "ae5ab281-c9f0-4892-886e-1c348f5bd204"
      },
      "outputs": [
        {
          "data": {
            "text/html": [
              "<div>\n",
              "<style scoped>\n",
              "    .dataframe tbody tr th:only-of-type {\n",
              "        vertical-align: middle;\n",
              "    }\n",
              "\n",
              "    .dataframe tbody tr th {\n",
              "        vertical-align: top;\n",
              "    }\n",
              "\n",
              "    .dataframe thead th {\n",
              "        text-align: right;\n",
              "    }\n",
              "</style>\n",
              "<table border=\"1\" class=\"dataframe\">\n",
              "  <thead>\n",
              "    <tr style=\"text-align: right;\">\n",
              "      <th></th>\n",
              "      <th>carat</th>\n",
              "      <th>cut</th>\n",
              "      <th>color</th>\n",
              "      <th>clarity</th>\n",
              "      <th>depth</th>\n",
              "      <th>table</th>\n",
              "      <th>price</th>\n",
              "      <th>x</th>\n",
              "      <th>y</th>\n",
              "      <th>z</th>\n",
              "    </tr>\n",
              "  </thead>\n",
              "  <tbody>\n",
              "    <tr>\n",
              "      <th>0</th>\n",
              "      <td>0.23</td>\n",
              "      <td>Ideal</td>\n",
              "      <td>E</td>\n",
              "      <td>SI2</td>\n",
              "      <td>61.5</td>\n",
              "      <td>55.0</td>\n",
              "      <td>326</td>\n",
              "      <td>3.95</td>\n",
              "      <td>3.98</td>\n",
              "      <td>2.43</td>\n",
              "    </tr>\n",
              "    <tr>\n",
              "      <th>1</th>\n",
              "      <td>0.21</td>\n",
              "      <td>Premium</td>\n",
              "      <td>E</td>\n",
              "      <td>SI1</td>\n",
              "      <td>59.8</td>\n",
              "      <td>61.0</td>\n",
              "      <td>326</td>\n",
              "      <td>3.89</td>\n",
              "      <td>3.84</td>\n",
              "      <td>2.31</td>\n",
              "    </tr>\n",
              "    <tr>\n",
              "      <th>2</th>\n",
              "      <td>0.23</td>\n",
              "      <td>Good</td>\n",
              "      <td>E</td>\n",
              "      <td>VS1</td>\n",
              "      <td>56.9</td>\n",
              "      <td>65.0</td>\n",
              "      <td>327</td>\n",
              "      <td>4.05</td>\n",
              "      <td>4.07</td>\n",
              "      <td>2.31</td>\n",
              "    </tr>\n",
              "    <tr>\n",
              "      <th>3</th>\n",
              "      <td>0.29</td>\n",
              "      <td>Premium</td>\n",
              "      <td>I</td>\n",
              "      <td>VS2</td>\n",
              "      <td>62.4</td>\n",
              "      <td>58.0</td>\n",
              "      <td>334</td>\n",
              "      <td>4.20</td>\n",
              "      <td>4.23</td>\n",
              "      <td>2.63</td>\n",
              "    </tr>\n",
              "    <tr>\n",
              "      <th>4</th>\n",
              "      <td>0.31</td>\n",
              "      <td>Good</td>\n",
              "      <td>J</td>\n",
              "      <td>SI2</td>\n",
              "      <td>63.3</td>\n",
              "      <td>58.0</td>\n",
              "      <td>335</td>\n",
              "      <td>4.34</td>\n",
              "      <td>4.35</td>\n",
              "      <td>2.75</td>\n",
              "    </tr>\n",
              "  </tbody>\n",
              "</table>\n",
              "</div>"
            ],
            "text/plain": [
              "   carat      cut color clarity  depth  table  price     x     y     z\n",
              "0   0.23    Ideal     E     SI2   61.5   55.0    326  3.95  3.98  2.43\n",
              "1   0.21  Premium     E     SI1   59.8   61.0    326  3.89  3.84  2.31\n",
              "2   0.23     Good     E     VS1   56.9   65.0    327  4.05  4.07  2.31\n",
              "3   0.29  Premium     I     VS2   62.4   58.0    334  4.20  4.23  2.63\n",
              "4   0.31     Good     J     SI2   63.3   58.0    335  4.34  4.35  2.75"
            ]
          },
          "execution_count": 91,
          "metadata": {},
          "output_type": "execute_result"
        }
      ],
      "source": [
        "import matplotlib.pyplot as plt\n",
        "import seaborn as sns\n",
        "import pandas as pd\n",
        "import numpy as np\n",
        "\n",
        "import warnings\n",
        "warnings.filterwarnings(\"ignore\")\n",
        "\n",
        "diamond_data= sns.load_dataset(\"diamonds\")\n",
        "\n",
        "diamond_data.head()"
      ]
    },
    {
      "cell_type": "code",
      "execution_count": null,
      "id": "6cbcf611",
      "metadata": {
        "id": "6cbcf611",
        "outputId": "0b807395-9dcc-4960-b075-a80a2871ec44"
      },
      "outputs": [
        {
          "data": {
            "text/plain": [
              "<AxesSubplot:xlabel='price', ylabel='Density'>"
            ]
          },
          "execution_count": 92,
          "metadata": {},
          "output_type": "execute_result"
        },
        {
          "data": {
            "image/png": "[encoded data removed]",
            "text/plain": [
              "<Figure size 432x288 with 1 Axes>"
            ]
          },
          "metadata": {
            "needs_background": "light"
          },
          "output_type": "display_data"
        }
      ],
      "source": [
        "sns.distplot(diamond_data['price'])"
      ]
    },
    {
      "cell_type": "markdown",
      "id": "8912a5ad",
      "metadata": {
        "id": "8912a5ad"
      },
      "source": [
        "The histogram for price column shows that the data is positively skewed."
      ]
    },
    {
      "cell_type": "code",
      "execution_count": null,
      "id": "7d3ec734",
      "metadata": {
        "id": "7d3ec734",
        "outputId": "b0154f64-d1ad-4138-aada-beaead6e991c"
      },
      "outputs": [
        {
          "name": "stdout",
          "output_type": "stream",
          "text": [
            "18497\n"
          ]
        }
      ],
      "source": [
        "price_range=diamond_data['price'].max()-diamond_data['price'].min()\n",
        "\n",
        "print(price_range)"
      ]
    },
    {
      "cell_type": "code",
      "execution_count": null,
      "id": "f68699d0",
      "metadata": {
        "id": "f68699d0",
        "outputId": "39511179-55db-4a57-efe9-ddb7bad0fa2f"
      },
      "outputs": [
        {
          "data": {
            "text/plain": [
              "1849.7"
            ]
          },
          "execution_count": 94,
          "metadata": {},
          "output_type": "execute_result"
        }
      ],
      "source": [
        "price_range/10"
      ]
    },
    {
      "cell_type": "code",
      "execution_count": null,
      "id": "2eaf6de6",
      "metadata": {
        "id": "2eaf6de6",
        "outputId": "52164c50-728f-4fa9-9e16-b28011ccf6e9"
      },
      "outputs": [
        {
          "name": "stdout",
          "output_type": "stream",
          "text": [
            "326\n",
            "18823\n",
            "1850\n"
          ]
        }
      ],
      "source": [
        "lower_interval= int(np.floor(diamond_data['price'].min()))\n",
        "\n",
        "upper_interval= int(np.ceil(diamond_data['price'].max()))\n",
        "\n",
        "interval_length= int(np.round(price_range/10))\n",
        "\n",
        "print(lower_interval)\n",
        "print(upper_interval)\n",
        "print(interval_length)"
      ]
    },
    {
      "cell_type": "code",
      "execution_count": null,
      "id": "b9145c50",
      "metadata": {
        "id": "b9145c50",
        "outputId": "e270767f-f18a-420b-e8be-82d53d3f7285"
      },
      "outputs": [
        {
          "name": "stdout",
          "output_type": "stream",
          "text": [
            "[326, 2176, 4026, 5876, 7726, 9576, 11426, 13276, 15126, 16976, 18826]\n"
          ]
        }
      ],
      "source": [
        "total_bins=[i for i in range(lower_interval, upper_interval+interval_length, interval_length)]\n",
        "\n",
        "print(total_bins)"
      ]
    },
    {
      "cell_type": "code",
      "execution_count": null,
      "id": "b012f5af",
      "metadata": {
        "id": "b012f5af",
        "outputId": "fed7eeac-a1c1-4db4-b42a-6a1cc027c00e"
      },
      "outputs": [
        {
          "name": "stdout",
          "output_type": "stream",
          "text": [
            "['Bin_no_1', 'Bin_no_2', 'Bin_no_3', 'Bin_no_4', 'Bin_no_5', 'Bin_no_6', 'Bin_no_7', 'Bin_no_8', 'Bin_no_9', 'Bin_no_10']\n"
          ]
        }
      ],
      "source": [
        "bin_labels= ['Bin_no_'+str(i) for i in range(1,len(total_bins))]\n",
        "\n",
        "print(bin_labels)"
      ]
    },
    {
      "cell_type": "code",
      "execution_count": null,
      "id": "ce0a69a7",
      "metadata": {
        "id": "ce0a69a7",
        "outputId": "c74b0ec6-274e-48f8-ad68-5ec01ef708de"
      },
      "outputs": [
        {
          "data": {
            "text/html": [
              "<div>\n",
              "<style scoped>\n",
              "    .dataframe tbody tr th:only-of-type {\n",
              "        vertical-align: middle;\n",
              "    }\n",
              "\n",
              "    .dataframe tbody tr th {\n",
              "        vertical-align: top;\n",
              "    }\n",
              "\n",
              "    .dataframe thead th {\n",
              "        text-align: right;\n",
              "    }\n",
              "</style>\n",
              "<table border=\"1\" class=\"dataframe\">\n",
              "  <thead>\n",
              "    <tr style=\"text-align: right;\">\n",
              "      <th></th>\n",
              "      <th>carat</th>\n",
              "      <th>cut</th>\n",
              "      <th>color</th>\n",
              "      <th>clarity</th>\n",
              "      <th>depth</th>\n",
              "      <th>table</th>\n",
              "      <th>price</th>\n",
              "      <th>x</th>\n",
              "      <th>y</th>\n",
              "      <th>z</th>\n",
              "      <th>price_bins</th>\n",
              "    </tr>\n",
              "  </thead>\n",
              "  <tbody>\n",
              "    <tr>\n",
              "      <th>0</th>\n",
              "      <td>0.23</td>\n",
              "      <td>Ideal</td>\n",
              "      <td>E</td>\n",
              "      <td>SI2</td>\n",
              "      <td>61.5</td>\n",
              "      <td>55.0</td>\n",
              "      <td>326</td>\n",
              "      <td>3.95</td>\n",
              "      <td>3.98</td>\n",
              "      <td>2.43</td>\n",
              "      <td>Bin_no_1</td>\n",
              "    </tr>\n",
              "    <tr>\n",
              "      <th>1</th>\n",
              "      <td>0.21</td>\n",
              "      <td>Premium</td>\n",
              "      <td>E</td>\n",
              "      <td>SI1</td>\n",
              "      <td>59.8</td>\n",
              "      <td>61.0</td>\n",
              "      <td>326</td>\n",
              "      <td>3.89</td>\n",
              "      <td>3.84</td>\n",
              "      <td>2.31</td>\n",
              "      <td>Bin_no_1</td>\n",
              "    </tr>\n",
              "    <tr>\n",
              "      <th>2</th>\n",
              "      <td>0.23</td>\n",
              "      <td>Good</td>\n",
              "      <td>E</td>\n",
              "      <td>VS1</td>\n",
              "      <td>56.9</td>\n",
              "      <td>65.0</td>\n",
              "      <td>327</td>\n",
              "      <td>4.05</td>\n",
              "      <td>4.07</td>\n",
              "      <td>2.31</td>\n",
              "      <td>Bin_no_1</td>\n",
              "    </tr>\n",
              "    <tr>\n",
              "      <th>3</th>\n",
              "      <td>0.29</td>\n",
              "      <td>Premium</td>\n",
              "      <td>I</td>\n",
              "      <td>VS2</td>\n",
              "      <td>62.4</td>\n",
              "      <td>58.0</td>\n",
              "      <td>334</td>\n",
              "      <td>4.20</td>\n",
              "      <td>4.23</td>\n",
              "      <td>2.63</td>\n",
              "      <td>Bin_no_1</td>\n",
              "    </tr>\n",
              "    <tr>\n",
              "      <th>4</th>\n",
              "      <td>0.31</td>\n",
              "      <td>Good</td>\n",
              "      <td>J</td>\n",
              "      <td>SI2</td>\n",
              "      <td>63.3</td>\n",
              "      <td>58.0</td>\n",
              "      <td>335</td>\n",
              "      <td>4.34</td>\n",
              "      <td>4.35</td>\n",
              "      <td>2.75</td>\n",
              "      <td>Bin_no_1</td>\n",
              "    </tr>\n",
              "  </tbody>\n",
              "</table>\n",
              "</div>"
            ],
            "text/plain": [
              "   carat      cut color clarity  depth  table  price     x     y     z  \\\n",
              "0   0.23    Ideal     E     SI2   61.5   55.0    326  3.95  3.98  2.43   \n",
              "1   0.21  Premium     E     SI1   59.8   61.0    326  3.89  3.84  2.31   \n",
              "2   0.23     Good     E     VS1   56.9   65.0    327  4.05  4.07  2.31   \n",
              "3   0.29  Premium     I     VS2   62.4   58.0    334  4.20  4.23  2.63   \n",
              "4   0.31     Good     J     SI2   63.3   58.0    335  4.34  4.35  2.75   \n",
              "\n",
              "  price_bins  \n",
              "0   Bin_no_1  \n",
              "1   Bin_no_1  \n",
              "2   Bin_no_1  \n",
              "3   Bin_no_1  \n",
              "4   Bin_no_1  "
            ]
          },
          "execution_count": 98,
          "metadata": {},
          "output_type": "execute_result"
        }
      ],
      "source": [
        "diamond_data['price_bins']=pd.cut(x=diamond_data['price'],bins=total_bins,\n",
        "                                labels=bin_labels, include_lowest=True)\n",
        "\n",
        "diamond_data.head()"
      ]
    },
    {
      "cell_type": "code",
      "execution_count": null,
      "id": "be8b9dfd",
      "metadata": {
        "id": "be8b9dfd",
        "outputId": "a75cc0b3-4c77-430d-b478-f08333feee3d"
      },
      "outputs": [
        {
          "data": {
            "text/plain": [
              "(array([0, 1, 2, 3, 4, 5, 6, 7, 8, 9]),\n",
              " [Text(0, 0, 'Bin_no_1'),\n",
              "  Text(1, 0, 'Bin_no_2'),\n",
              "  Text(2, 0, 'Bin_no_3'),\n",
              "  Text(3, 0, 'Bin_no_4'),\n",
              "  Text(4, 0, 'Bin_no_5'),\n",
              "  Text(5, 0, 'Bin_no_6'),\n",
              "  Text(6, 0, 'Bin_no_7'),\n",
              "  Text(7, 0, 'Bin_no_8'),\n",
              "  Text(8, 0, 'Bin_no_9'),\n",
              "  Text(9, 0, 'Bin_no_10')])"
            ]
          },
          "execution_count": 99,
          "metadata": {},
          "output_type": "execute_result"
        },
        {
          "data": {
            "image/png": "[encoded data removed]",
            "text/plain": [
              "<Figure size 432x288 with 1 Axes>"
            ]
          },
          "metadata": {
            "needs_background": "light"
          },
          "output_type": "display_data"
        }
      ],
      "source": [
        "diamond_data.groupby('price_bins')['price'].count().plot.bar()\n",
        "\n",
        "plt.xticks(rotation=45)"
      ]
    },
    {
      "cell_type": "markdown",
      "id": "4f720990",
      "metadata": {
        "id": "4f720990"
      },
      "source": [
        "The output shows that the price of most of the diamonds lies in the first bin or the first interval"
      ]
    },
    {
      "cell_type": "markdown",
      "id": "d90d112e",
      "metadata": {
        "id": "d90d112e"
      },
      "source": [
        "Handling Outliers\n",
        "\n",
        "Outliers are the values that are too far from the rest of the observations.\n",
        "\n",
        "Outlier Trimming\n",
        "\n",
        "As the name suggests it refers to simply removing the outliers beyond a certain threshold value.\n",
        "\n",
        "One of the main advantages of outlier trimming is that it is extremely quick and doesn't distort the data."
      ]
    },
    {
      "cell_type": "code",
      "execution_count": null,
      "id": "dc7197e5",
      "metadata": {
        "id": "dc7197e5",
        "outputId": "7dacc83c-b9e6-4afa-cadd-5ec82ed71bf7"
      },
      "outputs": [
        {
          "data": {
            "text/html": [
              "<div>\n",
              "<style scoped>\n",
              "    .dataframe tbody tr th:only-of-type {\n",
              "        vertical-align: middle;\n",
              "    }\n",
              "\n",
              "    .dataframe tbody tr th {\n",
              "        vertical-align: top;\n",
              "    }\n",
              "\n",
              "    .dataframe thead th {\n",
              "        text-align: right;\n",
              "    }\n",
              "</style>\n",
              "<table border=\"1\" class=\"dataframe\">\n",
              "  <thead>\n",
              "    <tr style=\"text-align: right;\">\n",
              "      <th></th>\n",
              "      <th>survived</th>\n",
              "      <th>pclass</th>\n",
              "      <th>sex</th>\n",
              "      <th>age</th>\n",
              "      <th>sibsp</th>\n",
              "      <th>parch</th>\n",
              "      <th>fare</th>\n",
              "      <th>embarked</th>\n",
              "      <th>class</th>\n",
              "      <th>who</th>\n",
              "      <th>adult_male</th>\n",
              "      <th>deck</th>\n",
              "      <th>embark_town</th>\n",
              "      <th>alive</th>\n",
              "      <th>alone</th>\n",
              "    </tr>\n",
              "  </thead>\n",
              "  <tbody>\n",
              "    <tr>\n",
              "      <th>0</th>\n",
              "      <td>0</td>\n",
              "      <td>3</td>\n",
              "      <td>male</td>\n",
              "      <td>22.0</td>\n",
              "      <td>1</td>\n",
              "      <td>0</td>\n",
              "      <td>7.2500</td>\n",
              "      <td>S</td>\n",
              "      <td>Third</td>\n",
              "      <td>man</td>\n",
              "      <td>True</td>\n",
              "      <td>NaN</td>\n",
              "      <td>Southampton</td>\n",
              "      <td>no</td>\n",
              "      <td>False</td>\n",
              "    </tr>\n",
              "    <tr>\n",
              "      <th>1</th>\n",
              "      <td>1</td>\n",
              "      <td>1</td>\n",
              "      <td>female</td>\n",
              "      <td>38.0</td>\n",
              "      <td>1</td>\n",
              "      <td>0</td>\n",
              "      <td>71.2833</td>\n",
              "      <td>C</td>\n",
              "      <td>First</td>\n",
              "      <td>woman</td>\n",
              "      <td>False</td>\n",
              "      <td>C</td>\n",
              "      <td>Cherbourg</td>\n",
              "      <td>yes</td>\n",
              "      <td>False</td>\n",
              "    </tr>\n",
              "    <tr>\n",
              "      <th>2</th>\n",
              "      <td>1</td>\n",
              "      <td>3</td>\n",
              "      <td>female</td>\n",
              "      <td>26.0</td>\n",
              "      <td>0</td>\n",
              "      <td>0</td>\n",
              "      <td>7.9250</td>\n",
              "      <td>S</td>\n",
              "      <td>Third</td>\n",
              "      <td>woman</td>\n",
              "      <td>False</td>\n",
              "      <td>NaN</td>\n",
              "      <td>Southampton</td>\n",
              "      <td>yes</td>\n",
              "      <td>True</td>\n",
              "    </tr>\n",
              "    <tr>\n",
              "      <th>3</th>\n",
              "      <td>1</td>\n",
              "      <td>1</td>\n",
              "      <td>female</td>\n",
              "      <td>35.0</td>\n",
              "      <td>1</td>\n",
              "      <td>0</td>\n",
              "      <td>53.1000</td>\n",
              "      <td>S</td>\n",
              "      <td>First</td>\n",
              "      <td>woman</td>\n",
              "      <td>False</td>\n",
              "      <td>C</td>\n",
              "      <td>Southampton</td>\n",
              "      <td>yes</td>\n",
              "      <td>False</td>\n",
              "    </tr>\n",
              "    <tr>\n",
              "      <th>4</th>\n",
              "      <td>0</td>\n",
              "      <td>3</td>\n",
              "      <td>male</td>\n",
              "      <td>35.0</td>\n",
              "      <td>0</td>\n",
              "      <td>0</td>\n",
              "      <td>8.0500</td>\n",
              "      <td>S</td>\n",
              "      <td>Third</td>\n",
              "      <td>man</td>\n",
              "      <td>True</td>\n",
              "      <td>NaN</td>\n",
              "      <td>Southampton</td>\n",
              "      <td>no</td>\n",
              "      <td>True</td>\n",
              "    </tr>\n",
              "  </tbody>\n",
              "</table>\n",
              "</div>"
            ],
            "text/plain": [
              "   survived  pclass     sex   age  sibsp  parch     fare embarked  class  \\\n",
              "0         0       3    male  22.0      1      0   7.2500        S  Third   \n",
              "1         1       1  female  38.0      1      0  71.2833        C  First   \n",
              "2         1       3  female  26.0      0      0   7.9250        S  Third   \n",
              "3         1       1  female  35.0      1      0  53.1000        S  First   \n",
              "4         0       3    male  35.0      0      0   8.0500        S  Third   \n",
              "\n",
              "     who  adult_male deck  embark_town alive  alone  \n",
              "0    man        True  NaN  Southampton    no  False  \n",
              "1  woman       False    C    Cherbourg   yes  False  \n",
              "2  woman       False  NaN  Southampton   yes   True  \n",
              "3  woman       False    C  Southampton   yes  False  \n",
              "4    man        True  NaN  Southampton    no   True  "
            ]
          },
          "execution_count": 100,
          "metadata": {},
          "output_type": "execute_result"
        }
      ],
      "source": [
        "titanic_data= sns.load_dataset(\"titanic\")\n",
        "\n",
        "titanic_data.head()"
      ]
    },
    {
      "cell_type": "code",
      "execution_count": null,
      "id": "52a8885f",
      "metadata": {
        "id": "52a8885f",
        "outputId": "0f48f548-4df3-4673-ac9d-5f5f7b1a5079"
      },
      "outputs": [
        {
          "data": {
            "text/plain": [
              "<AxesSubplot:ylabel='age'>"
            ]
          },
          "execution_count": 101,
          "metadata": {},
          "output_type": "execute_result"
        },
        {
          "data": {
            "image/png": "[encoded data removed]",
            "text/plain": [
              "<Figure size 432x288 with 1 Axes>"
            ]
          },
          "metadata": {
            "needs_background": "light"
          },
          "output_type": "display_data"
        }
      ],
      "source": [
        "sns.boxplot(y=\"age\",data=titanic_data)"
      ]
    },
    {
      "cell_type": "markdown",
      "id": "97f4793a",
      "metadata": {
        "id": "97f4793a"
      },
      "source": [
        "One of the most common ways to remove the outliers is to find the Inter Quartile Range (IQR), multiply it by 1.5 and then subtract it from the first quartile value(0.25 quantile).\n",
        "\n",
        "To find the upper limit, add the product of IQR and 1.5 to the 3rd quartile value (0.75 quantile)"
      ]
    },
    {
      "cell_type": "code",
      "execution_count": null,
      "id": "f8b190eb",
      "metadata": {
        "id": "f8b190eb",
        "outputId": "a41e8581-ca2d-4b17-98b3-645db1629081"
      },
      "outputs": [
        {
          "name": "stdout",
          "output_type": "stream",
          "text": [
            "-6.6875\n",
            "64.8125\n"
          ]
        }
      ],
      "source": [
        "IQR= titanic_data[\"age\"].quantile(0.75)-titanic_data[\"age\"].quantile(0.25)\n",
        "\n",
        "lower_age_limit= titanic_data[\"age\"].quantile(0.25)-(IQR*1.5)\n",
        "\n",
        "upper_age_limit= titanic_data[\"age\"].quantile(0.75)+(IQR*1.5)\n",
        "\n",
        "print(lower_age_limit)\n",
        "\n",
        "print(upper_age_limit)"
      ]
    },
    {
      "cell_type": "code",
      "execution_count": null,
      "id": "a00a71d5",
      "metadata": {
        "id": "a00a71d5"
      },
      "outputs": [],
      "source": [
        "age_outliers= np.where(titanic_data[\"age\"]>upper_age_limit,True,np.where(titanic_data[\"age\"]<lower_age_limit,True,False))"
      ]
    },
    {
      "cell_type": "code",
      "execution_count": null,
      "id": "f8f365d7",
      "metadata": {
        "id": "f8f365d7",
        "outputId": "9e7407e0-c00b-4368-bf4a-985d8b089ebb"
      },
      "outputs": [
        {
          "data": {
            "text/plain": [
              "((891, 15), (880, 15))"
            ]
          },
          "execution_count": 104,
          "metadata": {},
          "output_type": "execute_result"
        }
      ],
      "source": [
        "titanic_without_age_outliers= titanic_data.loc[~(age_outliers),]\n",
        "\n",
        "titanic_data.shape, titanic_without_age_outliers.shape"
      ]
    },
    {
      "cell_type": "code",
      "execution_count": null,
      "id": "11954537",
      "metadata": {
        "id": "11954537",
        "outputId": "7349e97f-50ff-4722-cf34-b9e262bc4d2e"
      },
      "outputs": [
        {
          "data": {
            "text/plain": [
              "<AxesSubplot:ylabel='age'>"
            ]
          },
          "execution_count": 105,
          "metadata": {},
          "output_type": "execute_result"
        },
        {
          "data": {
            "image/png": "[encoded data removed]",
            "text/plain": [
              "<Figure size 432x288 with 1 Axes>"
            ]
          },
          "metadata": {
            "needs_background": "light"
          },
          "output_type": "display_data"
        }
      ],
      "source": [
        "sns.boxplot(y='age',data=titanic_without_age_outliers)"
      ]
    },
    {
      "cell_type": "markdown",
      "id": "e6f34bff",
      "metadata": {
        "id": "e6f34bff"
      },
      "source": [
        "Feature Selection\n",
        "\n",
        "Machine Learning algorithms learn from datasets. A dataset consists of features.\n",
        "\n",
        "A feature refers to a single characteristic or dimension of data. Features are also known as attributes.\n",
        "\n",
        "For instance, a dataset of cars has features like car models, car color, seating capacity etc.\n",
        "\n",
        "Selecting the right featuresnot only improves the performance of your machine laerning model but it also speeds up the training time of your algorithm.\n",
        "\n",
        "Feature Selection based on Variance\n",
        "\n",
        "Features having constant or very similar values do not really play any sgnificant role in machine learning tasks such as classification and regression.\n",
        "\n",
        "Therefore, features that are very similar should be removed from the dataset. There are various ways to remove very similar features from the dataset.\n",
        "\n",
        "One of the ways is to find the variance for a particular feature and remove features having variance less than a certain threshold.\n",
        "\n",
        "A feature with low variance has a higher degree of similarity among its data points and vice-versa."
      ]
    },
    {
      "cell_type": "code",
      "execution_count": null,
      "id": "527239ea",
      "metadata": {
        "id": "527239ea",
        "outputId": "ad1929bd-71b0-4816-86b8-7d27026d8423"
      },
      "outputs": [
        {
          "data": {
            "text/html": [
              "<div>\n",
              "<style scoped>\n",
              "    .dataframe tbody tr th:only-of-type {\n",
              "        vertical-align: middle;\n",
              "    }\n",
              "\n",
              "    .dataframe tbody tr th {\n",
              "        vertical-align: top;\n",
              "    }\n",
              "\n",
              "    .dataframe thead th {\n",
              "        text-align: right;\n",
              "    }\n",
              "</style>\n",
              "<table border=\"1\" class=\"dataframe\">\n",
              "  <thead>\n",
              "    <tr style=\"text-align: right;\">\n",
              "      <th></th>\n",
              "      <th>fixed acidity</th>\n",
              "      <th>volatile acidity</th>\n",
              "      <th>citric acid</th>\n",
              "      <th>residual sugar</th>\n",
              "      <th>chlorides</th>\n",
              "      <th>free sulfur dioxide</th>\n",
              "      <th>total sulfur dioxide</th>\n",
              "      <th>density</th>\n",
              "      <th>pH</th>\n",
              "      <th>sulphates</th>\n",
              "      <th>alcohol</th>\n",
              "      <th>quality</th>\n",
              "    </tr>\n",
              "  </thead>\n",
              "  <tbody>\n",
              "    <tr>\n",
              "      <th>0</th>\n",
              "      <td>7.4</td>\n",
              "      <td>0.70</td>\n",
              "      <td>0.00</td>\n",
              "      <td>1.9</td>\n",
              "      <td>0.076</td>\n",
              "      <td>11.0</td>\n",
              "      <td>34.0</td>\n",
              "      <td>0.9978</td>\n",
              "      <td>3.51</td>\n",
              "      <td>0.56</td>\n",
              "      <td>9.4</td>\n",
              "      <td>5</td>\n",
              "    </tr>\n",
              "    <tr>\n",
              "      <th>1</th>\n",
              "      <td>7.8</td>\n",
              "      <td>0.88</td>\n",
              "      <td>0.00</td>\n",
              "      <td>2.6</td>\n",
              "      <td>0.098</td>\n",
              "      <td>25.0</td>\n",
              "      <td>67.0</td>\n",
              "      <td>0.9968</td>\n",
              "      <td>3.20</td>\n",
              "      <td>0.68</td>\n",
              "      <td>9.8</td>\n",
              "      <td>5</td>\n",
              "    </tr>\n",
              "    <tr>\n",
              "      <th>2</th>\n",
              "      <td>7.8</td>\n",
              "      <td>0.76</td>\n",
              "      <td>0.04</td>\n",
              "      <td>2.3</td>\n",
              "      <td>0.092</td>\n",
              "      <td>15.0</td>\n",
              "      <td>54.0</td>\n",
              "      <td>0.9970</td>\n",
              "      <td>3.26</td>\n",
              "      <td>0.65</td>\n",
              "      <td>9.8</td>\n",
              "      <td>5</td>\n",
              "    </tr>\n",
              "    <tr>\n",
              "      <th>3</th>\n",
              "      <td>11.2</td>\n",
              "      <td>0.28</td>\n",
              "      <td>0.56</td>\n",
              "      <td>1.9</td>\n",
              "      <td>0.075</td>\n",
              "      <td>17.0</td>\n",
              "      <td>60.0</td>\n",
              "      <td>0.9980</td>\n",
              "      <td>3.16</td>\n",
              "      <td>0.58</td>\n",
              "      <td>9.8</td>\n",
              "      <td>6</td>\n",
              "    </tr>\n",
              "    <tr>\n",
              "      <th>4</th>\n",
              "      <td>7.4</td>\n",
              "      <td>0.70</td>\n",
              "      <td>0.00</td>\n",
              "      <td>1.9</td>\n",
              "      <td>0.076</td>\n",
              "      <td>11.0</td>\n",
              "      <td>34.0</td>\n",
              "      <td>0.9978</td>\n",
              "      <td>3.51</td>\n",
              "      <td>0.56</td>\n",
              "      <td>9.4</td>\n",
              "      <td>5</td>\n",
              "    </tr>\n",
              "  </tbody>\n",
              "</table>\n",
              "</div>"
            ],
            "text/plain": [
              "   fixed acidity  volatile acidity  citric acid  residual sugar  chlorides  \\\n",
              "0            7.4              0.70         0.00             1.9      0.076   \n",
              "1            7.8              0.88         0.00             2.6      0.098   \n",
              "2            7.8              0.76         0.04             2.3      0.092   \n",
              "3           11.2              0.28         0.56             1.9      0.075   \n",
              "4            7.4              0.70         0.00             1.9      0.076   \n",
              "\n",
              "   free sulfur dioxide  total sulfur dioxide  density    pH  sulphates  \\\n",
              "0                 11.0                  34.0   0.9978  3.51       0.56   \n",
              "1                 25.0                  67.0   0.9968  3.20       0.68   \n",
              "2                 15.0                  54.0   0.9970  3.26       0.65   \n",
              "3                 17.0                  60.0   0.9980  3.16       0.58   \n",
              "4                 11.0                  34.0   0.9978  3.51       0.56   \n",
              "\n",
              "   alcohol  quality  \n",
              "0      9.4        5  \n",
              "1      9.8        5  \n",
              "2      9.8        5  \n",
              "3      9.8        6  \n",
              "4      9.4        5  "
            ]
          },
          "execution_count": 106,
          "metadata": {},
          "output_type": "execute_result"
        }
      ],
      "source": [
        "import pandas as pd\n",
        "import numpy as np\n",
        "\n",
        "wine_data=pd.read_csv(\"winequality-red.csv\")\n",
        "\n",
        "wine_data.head()"
      ]
    },
    {
      "cell_type": "markdown",
      "id": "1798d9e3",
      "metadata": {
        "id": "1798d9e3"
      },
      "source": [
        "Dividing data into features and labels"
      ]
    },
    {
      "cell_type": "code",
      "execution_count": null,
      "id": "6f668c16",
      "metadata": {
        "id": "6f668c16"
      },
      "outputs": [],
      "source": [
        "features=wine_data.drop([\"quality\"],axis=1)\n",
        "\n",
        "labels=wine_data.filter([\"quality\"],axis=1)"
      ]
    },
    {
      "cell_type": "code",
      "execution_count": null,
      "id": "af96dbfc",
      "metadata": {
        "id": "af96dbfc",
        "outputId": "408620c1-0bfc-4f4f-98f0-4a6fb42de8fe"
      },
      "outputs": [
        {
          "data": {
            "text/plain": [
              "fixed acidity              3.031416\n",
              "volatile acidity           0.032062\n",
              "citric acid                0.037947\n",
              "residual sugar             1.987897\n",
              "chlorides                  0.002215\n",
              "free sulfur dioxide      109.414884\n",
              "total sulfur dioxide    1082.102373\n",
              "density                    0.000004\n",
              "pH                         0.023835\n",
              "sulphates                  0.028733\n",
              "alcohol                    1.135647\n",
              "dtype: float64"
            ]
          },
          "execution_count": 108,
          "metadata": {},
          "output_type": "execute_result"
        }
      ],
      "source": [
        "features.var()"
      ]
    },
    {
      "cell_type": "markdown",
      "id": "77c1c77f",
      "metadata": {
        "id": "77c1c77f"
      },
      "source": [
        "Filtering features based on threshold"
      ]
    },
    {
      "cell_type": "code",
      "execution_count": null,
      "id": "83b4e696",
      "metadata": {
        "id": "83b4e696",
        "outputId": "c0e6dd7f-a63d-42b0-9b7a-bb57586cd7eb"
      },
      "outputs": [
        {
          "data": {
            "text/plain": [
              "VarianceThreshold(threshold=0.1)"
            ]
          },
          "execution_count": 109,
          "metadata": {},
          "output_type": "execute_result"
        }
      ],
      "source": [
        "from sklearn.feature_selection import VarianceThreshold\n",
        "\n",
        "var_sel= VarianceThreshold(threshold=(0.1))\n",
        "\n",
        "var_sel.fit(features)"
      ]
    },
    {
      "cell_type": "code",
      "execution_count": null,
      "id": "e8c9e823",
      "metadata": {
        "id": "e8c9e823",
        "outputId": "95242a96-4462-41e0-9508-6797404b27fc"
      },
      "outputs": [
        {
          "data": {
            "text/plain": [
              "Index(['fixed acidity', 'residual sugar', 'free sulfur dioxide',\n",
              "       'total sulfur dioxide', 'alcohol'],\n",
              "      dtype='object')"
            ]
          },
          "execution_count": 110,
          "metadata": {},
          "output_type": "execute_result"
        }
      ],
      "source": [
        "attributes_to_retain= features.columns[var_sel.get_support()]\n",
        "\n",
        "attributes_to_retain"
      ]
    },
    {
      "cell_type": "code",
      "execution_count": null,
      "id": "26e80e2e",
      "metadata": {
        "id": "26e80e2e",
        "outputId": "b926c720-6565-4fba-d4f3-5bd026931591"
      },
      "outputs": [
        {
          "data": {
            "text/plain": [
              "['volatile acidity', 'citric acid', 'chlorides', 'density', 'pH', 'sulphates']"
            ]
          },
          "execution_count": 111,
          "metadata": {},
          "output_type": "execute_result"
        }
      ],
      "source": [
        "attributes_to_filter=[attr for attr in features.columns\n",
        "                     if attr not in features.columns[var_sel.get_support()]]\n",
        "\n",
        "attributes_to_filter"
      ]
    },
    {
      "cell_type": "code",
      "execution_count": null,
      "id": "9e080584",
      "metadata": {
        "id": "9e080584",
        "outputId": "32213ee6-fe93-4ad0-bca7-a475e9d8df7f"
      },
      "outputs": [
        {
          "data": {
            "text/html": [
              "<div>\n",
              "<style scoped>\n",
              "    .dataframe tbody tr th:only-of-type {\n",
              "        vertical-align: middle;\n",
              "    }\n",
              "\n",
              "    .dataframe tbody tr th {\n",
              "        vertical-align: top;\n",
              "    }\n",
              "\n",
              "    .dataframe thead th {\n",
              "        text-align: right;\n",
              "    }\n",
              "</style>\n",
              "<table border=\"1\" class=\"dataframe\">\n",
              "  <thead>\n",
              "    <tr style=\"text-align: right;\">\n",
              "      <th></th>\n",
              "      <th>fixed acidity</th>\n",
              "      <th>residual sugar</th>\n",
              "      <th>free sulfur dioxide</th>\n",
              "      <th>total sulfur dioxide</th>\n",
              "      <th>alcohol</th>\n",
              "    </tr>\n",
              "  </thead>\n",
              "  <tbody>\n",
              "    <tr>\n",
              "      <th>0</th>\n",
              "      <td>7.4</td>\n",
              "      <td>1.9</td>\n",
              "      <td>11.0</td>\n",
              "      <td>34.0</td>\n",
              "      <td>9.4</td>\n",
              "    </tr>\n",
              "    <tr>\n",
              "      <th>1</th>\n",
              "      <td>7.8</td>\n",
              "      <td>2.6</td>\n",
              "      <td>25.0</td>\n",
              "      <td>67.0</td>\n",
              "      <td>9.8</td>\n",
              "    </tr>\n",
              "    <tr>\n",
              "      <th>2</th>\n",
              "      <td>7.8</td>\n",
              "      <td>2.3</td>\n",
              "      <td>15.0</td>\n",
              "      <td>54.0</td>\n",
              "      <td>9.8</td>\n",
              "    </tr>\n",
              "    <tr>\n",
              "      <th>3</th>\n",
              "      <td>11.2</td>\n",
              "      <td>1.9</td>\n",
              "      <td>17.0</td>\n",
              "      <td>60.0</td>\n",
              "      <td>9.8</td>\n",
              "    </tr>\n",
              "    <tr>\n",
              "      <th>4</th>\n",
              "      <td>7.4</td>\n",
              "      <td>1.9</td>\n",
              "      <td>11.0</td>\n",
              "      <td>34.0</td>\n",
              "      <td>9.4</td>\n",
              "    </tr>\n",
              "  </tbody>\n",
              "</table>\n",
              "</div>"
            ],
            "text/plain": [
              "   fixed acidity  residual sugar  free sulfur dioxide  total sulfur dioxide  \\\n",
              "0            7.4             1.9                 11.0                  34.0   \n",
              "1            7.8             2.6                 25.0                  67.0   \n",
              "2            7.8             2.3                 15.0                  54.0   \n",
              "3           11.2             1.9                 17.0                  60.0   \n",
              "4            7.4             1.9                 11.0                  34.0   \n",
              "\n",
              "   alcohol  \n",
              "0      9.4  \n",
              "1      9.8  \n",
              "2      9.8  \n",
              "3      9.8  \n",
              "4      9.4  "
            ]
          },
          "execution_count": 112,
          "metadata": {},
          "output_type": "execute_result"
        }
      ],
      "source": [
        "filtered_dataset= features.drop(attributes_to_filter, axis=1)\n",
        "\n",
        "filtered_dataset.head()"
      ]
    },
    {
      "cell_type": "markdown",
      "id": "b64ae222",
      "metadata": {
        "id": "b64ae222"
      },
      "source": [
        "Feature Selection based on correlation\n",
        "\n",
        "In feature selection based on correlation, the features are selected using the following steps\n",
        "\n",
        "1 Mutual correlation between all the features is calculated\n",
        "\n",
        "2 The correlation threshold is set\n",
        "\n",
        "3 Features having mutual correlation greater than the correlation threshold with any other feature are removed from the dataset."
      ]
    },
    {
      "cell_type": "code",
      "execution_count": null,
      "id": "5a9e836e",
      "metadata": {
        "id": "5a9e836e",
        "outputId": "8d54a8be-cf45-4cdc-b22c-a253a48e21d8"
      },
      "outputs": [
        {
          "data": {
            "text/html": [
              "<div>\n",
              "<style scoped>\n",
              "    .dataframe tbody tr th:only-of-type {\n",
              "        vertical-align: middle;\n",
              "    }\n",
              "\n",
              "    .dataframe tbody tr th {\n",
              "        vertical-align: top;\n",
              "    }\n",
              "\n",
              "    .dataframe thead th {\n",
              "        text-align: right;\n",
              "    }\n",
              "</style>\n",
              "<table border=\"1\" class=\"dataframe\">\n",
              "  <thead>\n",
              "    <tr style=\"text-align: right;\">\n",
              "      <th></th>\n",
              "      <th>fixed acidity</th>\n",
              "      <th>volatile acidity</th>\n",
              "      <th>citric acid</th>\n",
              "      <th>residual sugar</th>\n",
              "      <th>chlorides</th>\n",
              "      <th>free sulfur dioxide</th>\n",
              "      <th>total sulfur dioxide</th>\n",
              "      <th>density</th>\n",
              "      <th>pH</th>\n",
              "      <th>sulphates</th>\n",
              "      <th>alcohol</th>\n",
              "    </tr>\n",
              "  </thead>\n",
              "  <tbody>\n",
              "    <tr>\n",
              "      <th>fixed acidity</th>\n",
              "      <td>1.000000</td>\n",
              "      <td>-0.256131</td>\n",
              "      <td>0.671703</td>\n",
              "      <td>0.114777</td>\n",
              "      <td>0.093705</td>\n",
              "      <td>-0.153794</td>\n",
              "      <td>-0.113181</td>\n",
              "      <td>0.668047</td>\n",
              "      <td>-0.682978</td>\n",
              "      <td>0.183006</td>\n",
              "      <td>-0.061668</td>\n",
              "    </tr>\n",
              "    <tr>\n",
              "      <th>volatile acidity</th>\n",
              "      <td>-0.256131</td>\n",
              "      <td>1.000000</td>\n",
              "      <td>-0.552496</td>\n",
              "      <td>0.001918</td>\n",
              "      <td>0.061298</td>\n",
              "      <td>-0.010504</td>\n",
              "      <td>0.076470</td>\n",
              "      <td>0.022026</td>\n",
              "      <td>0.234937</td>\n",
              "      <td>-0.260987</td>\n",
              "      <td>-0.202288</td>\n",
              "    </tr>\n",
              "    <tr>\n",
              "      <th>citric acid</th>\n",
              "      <td>0.671703</td>\n",
              "      <td>-0.552496</td>\n",
              "      <td>1.000000</td>\n",
              "      <td>0.143577</td>\n",
              "      <td>0.203823</td>\n",
              "      <td>-0.060978</td>\n",
              "      <td>0.035533</td>\n",
              "      <td>0.364947</td>\n",
              "      <td>-0.541904</td>\n",
              "      <td>0.312770</td>\n",
              "      <td>0.109903</td>\n",
              "    </tr>\n",
              "    <tr>\n",
              "      <th>residual sugar</th>\n",
              "      <td>0.114777</td>\n",
              "      <td>0.001918</td>\n",
              "      <td>0.143577</td>\n",
              "      <td>1.000000</td>\n",
              "      <td>0.055610</td>\n",
              "      <td>0.187049</td>\n",
              "      <td>0.203028</td>\n",
              "      <td>0.355283</td>\n",
              "      <td>-0.085652</td>\n",
              "      <td>0.005527</td>\n",
              "      <td>0.042075</td>\n",
              "    </tr>\n",
              "    <tr>\n",
              "      <th>chlorides</th>\n",
              "      <td>0.093705</td>\n",
              "      <td>0.061298</td>\n",
              "      <td>0.203823</td>\n",
              "      <td>0.055610</td>\n",
              "      <td>1.000000</td>\n",
              "      <td>0.005562</td>\n",
              "      <td>0.047400</td>\n",
              "      <td>0.200632</td>\n",
              "      <td>-0.265026</td>\n",
              "      <td>0.371260</td>\n",
              "      <td>-0.221141</td>\n",
              "    </tr>\n",
              "    <tr>\n",
              "      <th>free sulfur dioxide</th>\n",
              "      <td>-0.153794</td>\n",
              "      <td>-0.010504</td>\n",
              "      <td>-0.060978</td>\n",
              "      <td>0.187049</td>\n",
              "      <td>0.005562</td>\n",
              "      <td>1.000000</td>\n",
              "      <td>0.667666</td>\n",
              "      <td>-0.021946</td>\n",
              "      <td>0.070377</td>\n",
              "      <td>0.051658</td>\n",
              "      <td>-0.069408</td>\n",
              "    </tr>\n",
              "    <tr>\n",
              "      <th>total sulfur dioxide</th>\n",
              "      <td>-0.113181</td>\n",
              "      <td>0.076470</td>\n",
              "      <td>0.035533</td>\n",
              "      <td>0.203028</td>\n",
              "      <td>0.047400</td>\n",
              "      <td>0.667666</td>\n",
              "      <td>1.000000</td>\n",
              "      <td>0.071269</td>\n",
              "      <td>-0.066495</td>\n",
              "      <td>0.042947</td>\n",
              "      <td>-0.205654</td>\n",
              "    </tr>\n",
              "    <tr>\n",
              "      <th>density</th>\n",
              "      <td>0.668047</td>\n",
              "      <td>0.022026</td>\n",
              "      <td>0.364947</td>\n",
              "      <td>0.355283</td>\n",
              "      <td>0.200632</td>\n",
              "      <td>-0.021946</td>\n",
              "      <td>0.071269</td>\n",
              "      <td>1.000000</td>\n",
              "      <td>-0.341699</td>\n",
              "      <td>0.148506</td>\n",
              "      <td>-0.496180</td>\n",
              "    </tr>\n",
              "    <tr>\n",
              "      <th>pH</th>\n",
              "      <td>-0.682978</td>\n",
              "      <td>0.234937</td>\n",
              "      <td>-0.541904</td>\n",
              "      <td>-0.085652</td>\n",
              "      <td>-0.265026</td>\n",
              "      <td>0.070377</td>\n",
              "      <td>-0.066495</td>\n",
              "      <td>-0.341699</td>\n",
              "      <td>1.000000</td>\n",
              "      <td>-0.196648</td>\n",
              "      <td>0.205633</td>\n",
              "    </tr>\n",
              "    <tr>\n",
              "      <th>sulphates</th>\n",
              "      <td>0.183006</td>\n",
              "      <td>-0.260987</td>\n",
              "      <td>0.312770</td>\n",
              "      <td>0.005527</td>\n",
              "      <td>0.371260</td>\n",
              "      <td>0.051658</td>\n",
              "      <td>0.042947</td>\n",
              "      <td>0.148506</td>\n",
              "      <td>-0.196648</td>\n",
              "      <td>1.000000</td>\n",
              "      <td>0.093595</td>\n",
              "    </tr>\n",
              "    <tr>\n",
              "      <th>alcohol</th>\n",
              "      <td>-0.061668</td>\n",
              "      <td>-0.202288</td>\n",
              "      <td>0.109903</td>\n",
              "      <td>0.042075</td>\n",
              "      <td>-0.221141</td>\n",
              "      <td>-0.069408</td>\n",
              "      <td>-0.205654</td>\n",
              "      <td>-0.496180</td>\n",
              "      <td>0.205633</td>\n",
              "      <td>0.093595</td>\n",
              "      <td>1.000000</td>\n",
              "    </tr>\n",
              "  </tbody>\n",
              "</table>\n",
              "</div>"
            ],
            "text/plain": [
              "                      fixed acidity  volatile acidity  citric acid  \\\n",
              "fixed acidity              1.000000         -0.256131     0.671703   \n",
              "volatile acidity          -0.256131          1.000000    -0.552496   \n",
              "citric acid                0.671703         -0.552496     1.000000   \n",
              "residual sugar             0.114777          0.001918     0.143577   \n",
              "chlorides                  0.093705          0.061298     0.203823   \n",
              "free sulfur dioxide       -0.153794         -0.010504    -0.060978   \n",
              "total sulfur dioxide      -0.113181          0.076470     0.035533   \n",
              "density                    0.668047          0.022026     0.364947   \n",
              "pH                        -0.682978          0.234937    -0.541904   \n",
              "sulphates                  0.183006         -0.260987     0.312770   \n",
              "alcohol                   -0.061668         -0.202288     0.109903   \n",
              "\n",
              "                      residual sugar  chlorides  free sulfur dioxide  \\\n",
              "fixed acidity               0.114777   0.093705            -0.153794   \n",
              "volatile acidity            0.001918   0.061298            -0.010504   \n",
              "citric acid                 0.143577   0.203823            -0.060978   \n",
              "residual sugar              1.000000   0.055610             0.187049   \n",
              "chlorides                   0.055610   1.000000             0.005562   \n",
              "free sulfur dioxide         0.187049   0.005562             1.000000   \n",
              "total sulfur dioxide        0.203028   0.047400             0.667666   \n",
              "density                     0.355283   0.200632            -0.021946   \n",
              "pH                         -0.085652  -0.265026             0.070377   \n",
              "sulphates                   0.005527   0.371260             0.051658   \n",
              "alcohol                     0.042075  -0.221141            -0.069408   \n",
              "\n",
              "                      total sulfur dioxide   density        pH  sulphates  \\\n",
              "fixed acidity                    -0.113181  0.668047 -0.682978   0.183006   \n",
              "volatile acidity                  0.076470  0.022026  0.234937  -0.260987   \n",
              "citric acid                       0.035533  0.364947 -0.541904   0.312770   \n",
              "residual sugar                    0.203028  0.355283 -0.085652   0.005527   \n",
              "chlorides                         0.047400  0.200632 -0.265026   0.371260   \n",
              "free sulfur dioxide               0.667666 -0.021946  0.070377   0.051658   \n",
              "total sulfur dioxide              1.000000  0.071269 -0.066495   0.042947   \n",
              "density                           0.071269  1.000000 -0.341699   0.148506   \n",
              "pH                               -0.066495 -0.341699  1.000000  -0.196648   \n",
              "sulphates                         0.042947  0.148506 -0.196648   1.000000   \n",
              "alcohol                          -0.205654 -0.496180  0.205633   0.093595   \n",
              "\n",
              "                       alcohol  \n",
              "fixed acidity        -0.061668  \n",
              "volatile acidity     -0.202288  \n",
              "citric acid           0.109903  \n",
              "residual sugar        0.042075  \n",
              "chlorides            -0.221141  \n",
              "free sulfur dioxide  -0.069408  \n",
              "total sulfur dioxide -0.205654  \n",
              "density              -0.496180  \n",
              "pH                    0.205633  \n",
              "sulphates             0.093595  \n",
              "alcohol               1.000000  "
            ]
          },
          "execution_count": 113,
          "metadata": {},
          "output_type": "execute_result"
        }
      ],
      "source": [
        "correlation_matrix= features.corr()\n",
        "correlation_matrix"
      ]
    },
    {
      "cell_type": "code",
      "execution_count": null,
      "id": "a6cd9024",
      "metadata": {
        "id": "a6cd9024",
        "outputId": "22cba2d0-cd6e-4048-b06d-99519cfd9868"
      },
      "outputs": [
        {
          "data": {
            "text/plain": [
              "<AxesSubplot:>"
            ]
          },
          "execution_count": 114,
          "metadata": {},
          "output_type": "execute_result"
        },
        {
          "data": {
            "image/png": "[encoded data removed]",
            "text/plain": [
              "<Figure size 432x288 with 2 Axes>"
            ]
          },
          "metadata": {
            "needs_background": "light"
          },
          "output_type": "display_data"
        }
      ],
      "source": [
        "import seaborn as sns\n",
        "\n",
        "sns.heatmap(correlation_matrix)"
      ]
    },
    {
      "cell_type": "code",
      "execution_count": null,
      "id": "195e2dd2",
      "metadata": {
        "id": "195e2dd2"
      },
      "outputs": [],
      "source": [
        "correlated_features_matrix=set()\n",
        "\n",
        "for i in range(len(correlation_matrix.columns)):\n",
        "    for j in range(i):\n",
        "        if abs(correlation_matrix.iloc[i,j])>0.6:\n",
        "            corr_col= correlation_matrix.columns[i]\n",
        "            correlated_features_matrix.add(corr_col)"
      ]
    },
    {
      "cell_type": "code",
      "execution_count": null,
      "id": "07ceb299",
      "metadata": {
        "id": "07ceb299",
        "outputId": "5f1a48f3-1d55-4871-8ef0-42af04b9b2f0"
      },
      "outputs": [
        {
          "data": {
            "text/plain": [
              "4"
            ]
          },
          "execution_count": 116,
          "metadata": {},
          "output_type": "execute_result"
        }
      ],
      "source": [
        "len(correlated_features_matrix)"
      ]
    },
    {
      "cell_type": "code",
      "execution_count": null,
      "id": "3a755f61",
      "metadata": {
        "id": "3a755f61",
        "outputId": "5879ab71-d287-490a-f6f9-7bf2f2c0777e"
      },
      "outputs": [
        {
          "name": "stdout",
          "output_type": "stream",
          "text": [
            "{'total sulfur dioxide', 'pH', 'citric acid', 'density'}\n"
          ]
        }
      ],
      "source": [
        "print(correlated_features_matrix)"
      ]
    },
    {
      "cell_type": "code",
      "execution_count": null,
      "id": "edd43e5b",
      "metadata": {
        "id": "edd43e5b",
        "outputId": "37ed6335-72fc-4b9b-89d1-4008fd792462"
      },
      "outputs": [
        {
          "data": {
            "text/html": [
              "<div>\n",
              "<style scoped>\n",
              "    .dataframe tbody tr th:only-of-type {\n",
              "        vertical-align: middle;\n",
              "    }\n",
              "\n",
              "    .dataframe tbody tr th {\n",
              "        vertical-align: top;\n",
              "    }\n",
              "\n",
              "    .dataframe thead th {\n",
              "        text-align: right;\n",
              "    }\n",
              "</style>\n",
              "<table border=\"1\" class=\"dataframe\">\n",
              "  <thead>\n",
              "    <tr style=\"text-align: right;\">\n",
              "      <th></th>\n",
              "      <th>fixed acidity</th>\n",
              "      <th>volatile acidity</th>\n",
              "      <th>residual sugar</th>\n",
              "      <th>chlorides</th>\n",
              "      <th>free sulfur dioxide</th>\n",
              "      <th>sulphates</th>\n",
              "      <th>alcohol</th>\n",
              "    </tr>\n",
              "  </thead>\n",
              "  <tbody>\n",
              "    <tr>\n",
              "      <th>0</th>\n",
              "      <td>7.4</td>\n",
              "      <td>0.70</td>\n",
              "      <td>1.9</td>\n",
              "      <td>0.076</td>\n",
              "      <td>11.0</td>\n",
              "      <td>0.56</td>\n",
              "      <td>9.4</td>\n",
              "    </tr>\n",
              "    <tr>\n",
              "      <th>1</th>\n",
              "      <td>7.8</td>\n",
              "      <td>0.88</td>\n",
              "      <td>2.6</td>\n",
              "      <td>0.098</td>\n",
              "      <td>25.0</td>\n",
              "      <td>0.68</td>\n",
              "      <td>9.8</td>\n",
              "    </tr>\n",
              "    <tr>\n",
              "      <th>2</th>\n",
              "      <td>7.8</td>\n",
              "      <td>0.76</td>\n",
              "      <td>2.3</td>\n",
              "      <td>0.092</td>\n",
              "      <td>15.0</td>\n",
              "      <td>0.65</td>\n",
              "      <td>9.8</td>\n",
              "    </tr>\n",
              "    <tr>\n",
              "      <th>3</th>\n",
              "      <td>11.2</td>\n",
              "      <td>0.28</td>\n",
              "      <td>1.9</td>\n",
              "      <td>0.075</td>\n",
              "      <td>17.0</td>\n",
              "      <td>0.58</td>\n",
              "      <td>9.8</td>\n",
              "    </tr>\n",
              "    <tr>\n",
              "      <th>4</th>\n",
              "      <td>7.4</td>\n",
              "      <td>0.70</td>\n",
              "      <td>1.9</td>\n",
              "      <td>0.076</td>\n",
              "      <td>11.0</td>\n",
              "      <td>0.56</td>\n",
              "      <td>9.4</td>\n",
              "    </tr>\n",
              "  </tbody>\n",
              "</table>\n",
              "</div>"
            ],
            "text/plain": [
              "   fixed acidity  volatile acidity  residual sugar  chlorides  \\\n",
              "0            7.4              0.70             1.9      0.076   \n",
              "1            7.8              0.88             2.6      0.098   \n",
              "2            7.8              0.76             2.3      0.092   \n",
              "3           11.2              0.28             1.9      0.075   \n",
              "4            7.4              0.70             1.9      0.076   \n",
              "\n",
              "   free sulfur dioxide  sulphates  alcohol  \n",
              "0                 11.0       0.56      9.4  \n",
              "1                 25.0       0.68      9.8  \n",
              "2                 15.0       0.65      9.8  \n",
              "3                 17.0       0.58      9.8  \n",
              "4                 11.0       0.56      9.4  "
            ]
          },
          "execution_count": 118,
          "metadata": {},
          "output_type": "execute_result"
        }
      ],
      "source": [
        "filtered_dataset= features.drop(correlated_features_matrix, axis=1)\n",
        "\n",
        "filtered_dataset.head()"
      ]
    },
    {
      "cell_type": "code",
      "execution_count": null,
      "id": "48eee05c",
      "metadata": {
        "id": "48eee05c"
      },
      "outputs": [],
      "source": []
    }
  ],
  "metadata": {
    "kernelspec": {
      "display_name": "Python 3 (ipykernel)",
      "language": "python",
      "name": "python3"
    },
    "language_info": {
      "codemirror_mode": {
        "name": "ipython",
        "version": 3
      },
      "file_extension": ".py",
      "mimetype": "text/x-python",
      "name": "python",
      "nbconvert_exporter": "python",
      "pygments_lexer": "ipython3",
      "version": "3.9.12"
    },
    "colab": {
      "provenance": []
    }
  },
  "nbformat": 4,
  "nbformat_minor": 5
}
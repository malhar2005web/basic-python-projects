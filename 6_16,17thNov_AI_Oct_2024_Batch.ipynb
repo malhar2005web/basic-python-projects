{
  "cells": [
    {
      "cell_type": "markdown",
      "id": "24721e12",
      "metadata": {
        "id": "24721e12"
      },
      "source": [
        "# Deep Learning Framework"
      ]
    },
    {
      "cell_type": "markdown",
      "id": "7babdc84",
      "metadata": {
        "id": "7babdc84"
      },
      "source": [
        "Deep Learning is a field within Machine Learning that deals with building and using Neural Network Models.\n",
        "\n",
        "Neural Networks mimic the functioning of a human brain.\n",
        "\n",
        "Neural Networks with more than three layers are typically categorised as Deep Learning Networks."
      ]
    },
    {
      "cell_type": "markdown",
      "id": "f8ece390",
      "metadata": {
        "id": "f8ece390"
      },
      "source": [
        "Perceptron\n",
        "\n",
        "The perceptron is the unit for learning in an artificial neural network, A perceptron resembles a human brain cell.\n",
        "\n",
        "A perceprton is a single cell or node in a neural network.\n",
        "\n",
        "In Deep Learning we replace slope of model with weights called as w and intercept with the bias called as b.\n",
        "\n",
        "Weights and Biases become the parameters for a neural network.\n",
        "\n",
        "The number of weights equals the number of inputs/features."
      ]
    },
    {
      "cell_type": "markdown",
      "id": "2f7a3dc8",
      "metadata": {
        "id": "2f7a3dc8"
      },
      "source": [
        "# Artifical Neural Network"
      ]
    },
    {
      "cell_type": "markdown",
      "id": "2b8f13ac",
      "metadata": {
        "id": "2b8f13ac"
      },
      "source": [
        "An ANN is a network of perceptrons. A deep neural network usually has three or more layers.\n",
        "\n",
        "Each node has its own weights, biases and activation function. Each node is connected to al the nodes in the next layer forming a dense network.\n",
        "\n",
        "Training an ANN means determining the right values for these parameters and hyperparameters such that it maximizes the accuracy of predictions for the given use case."
      ]
    },
    {
      "cell_type": "markdown",
      "id": "764aeeed",
      "metadata": {
        "id": "764aeeed"
      },
      "source": [
        "# Neural Network Architecture"
      ]
    },
    {
      "cell_type": "markdown",
      "id": "00388fae",
      "metadata": {
        "id": "00388fae"
      },
      "source": [
        "Input Layer\n",
        "\n",
        "The input to Deep Learning model is usually a vector of Numeric values.\n",
        "\n",
        "Vectors are usually defined using NumPy arrays. It represents the feature variables or independent variables that are used for prediction as well as training."
      ]
    },
    {
      "cell_type": "markdown",
      "id": "5e9ff3a8",
      "metadata": {
        "id": "5e9ff3a8"
      },
      "source": [
        "Hidden Layer\n",
        "\n",
        "An ANN can have one or more hidden layers. The more the layers are the deep the network is.\n",
        "\n",
        "Each hidden layer can have one or more nodes. Typically, the node count is configured in range of 2^n. Examples are 8,16,32,64,128 etc.\n",
        "\n",
        "A neural network is defined by the number of layers and nodes.\n",
        "\n",
        "The output of each node in previous layer will become the inout for every node in the current layers.\n",
        "\n",
        "When there are more nodes and layers it usually results in better accuracy. As a general practice, start with small number and keep adding until an acceptable accuracy levels are obtained."
      ]
    },
    {
      "cell_type": "markdown",
      "id": "4ff5c12c",
      "metadata": {
        "id": "4ff5c12c"
      },
      "source": [
        "Weights and Biases\n",
        "\n",
        "They form the basis for Deep Leaarning Algorithms. Weights and Biases are trainable parameters in a neural network model.\n",
        "\n",
        "Each input for each node will have an associated weight with it."
      ]
    },
    {
      "cell_type": "markdown",
      "id": "4f8e0062",
      "metadata": {
        "id": "4f8e0062"
      },
      "source": [
        "Activation Functions\n",
        "\n",
        "An activation function plays an important role in creating the output of the node in the neural network.\n",
        "\n",
        "An activation function takes the matrix output of the node and determines if and how the node will propagate information to the next layer.\n",
        "\n",
        "The main objective of activation function is that it converts the output to a non-linear value. They serve as a critical step in helping a neural network learn specific patterns in the data.\n",
        "\n",
        "TanH- A TanH function normalizes the output in the range of (-1 to +1)\n",
        "\n",
        "ReLu- Rectified Linear Unit- A ReLu produces a zero if the output is negative. Else, it will produce the same input verbatim.\n",
        "\n",
        "Softmax Function- This is used in the case of classification problems. It produces a vector of probabilities for each of the possible classes in the outcomes. The class with the highest probability will be considered as the final class.\n",
        "\n",
        "These all activation functions are added as hyperparameters in the model."
      ]
    },
    {
      "cell_type": "markdown",
      "id": "8737544b",
      "metadata": {
        "id": "8737544b"
      },
      "source": [
        "Ouput Layer\n",
        "\n",
        "The output layer is the final layer in the neural network where desired predictions are obtained."
      ]
    },
    {
      "cell_type": "markdown",
      "id": "ed07dd33",
      "metadata": {
        "id": "ed07dd33"
      },
      "source": [
        "Training a Neural Network Model\n",
        "\n",
        "Set up and initialisation- Converting data into numeric vectors. Splitting data into training, validation and test sets.\n",
        "\n",
        "Forward Propagation- Movement from input to hidden layer and then output layer\n",
        "\n",
        "Measure Accuracy and Error\n",
        "\n",
        "Backpropagation- If error is high then it adjusts weights and biases by the process of gradient descent to improve accuracy.\n",
        "\n",
        "Gradient Descent is the process of repeating the forward and backward ropagation in order to reduce error and move closer to the desired model.\n",
        "\n",
        "Batches and Epochs- 10000/10 (1000)\n",
        "\n",
        "Validation and Testing"
      ]
    },
    {
      "cell_type": "markdown",
      "id": "3711e675",
      "metadata": {
        "id": "3711e675"
      },
      "source": [
        "# Deep Learning Example- Iris Dataset"
      ]
    },
    {
      "cell_type": "code",
      "execution_count": null,
      "id": "a4b3b7bb",
      "metadata": {
        "id": "a4b3b7bb"
      },
      "outputs": [],
      "source": [
        "import pandas as pd\n",
        "import numpy as np\n",
        "import matplotlib.pyplot as plt\n",
        "import os\n",
        "import tensorflow as tf\n",
        "from sklearn.model_selection import train_test_split\n",
        "from sklearn.preprocessing import StandardScaler\n",
        "\n",
        "import warnings\n",
        "warnings.filterwarnings(\"ignore\")"
      ]
    },
    {
      "cell_type": "markdown",
      "id": "8105f415",
      "metadata": {
        "id": "8105f415"
      },
      "source": [
        "Prepare input data for deep learning\n",
        "\n",
        "Load data into pandas dataframe\n",
        "\n",
        "Convert the dataframe into anumy array\n",
        "\n",
        "Scale the feature dataset\n",
        "\n",
        "Use of onehot encoding for the target variable\n",
        "\n",
        "Split the dataset into training and test datasets."
      ]
    },
    {
      "cell_type": "markdown",
      "id": "edd05f4f",
      "metadata": {
        "id": "edd05f4f"
      },
      "source": [
        "Load Data and Review content"
      ]
    },
    {
      "cell_type": "code",
      "execution_count": null,
      "id": "84f5ad9f",
      "metadata": {
        "id": "84f5ad9f",
        "outputId": "0fb45bf0-2328-4ff1-ee83-efe72bcc2255"
      },
      "outputs": [
        {
          "name": "stdout",
          "output_type": "stream",
          "text": [
            "   Sepal.Length  Sepal.Width  Petal.Length  Petal.Width Species\n",
            "0           5.1          3.5           1.4          0.2  setosa\n",
            "1           4.9          3.0           1.4          0.2  setosa\n",
            "2           4.7          3.2           1.3          0.2  setosa\n",
            "3           4.6          3.1           1.5          0.2  setosa\n",
            "4           5.0          3.6           1.4          0.2  setosa\n"
          ]
        }
      ],
      "source": [
        "iris_data=pd.read_csv(\"iris.csv\")\n",
        "print(iris_data.head())"
      ]
    },
    {
      "cell_type": "markdown",
      "id": "ed75cf18",
      "metadata": {
        "id": "ed75cf18"
      },
      "source": [
        "Use label encoder to convert String to Numeric values for the target variable"
      ]
    },
    {
      "cell_type": "code",
      "execution_count": null,
      "id": "132fb202",
      "metadata": {
        "id": "132fb202",
        "outputId": "2ac020e7-2e35-4216-b1de-e9116f77a6dc"
      },
      "outputs": [
        {
          "name": "stdout",
          "output_type": "stream",
          "text": [
            "   Sepal.Length  Sepal.Width  Petal.Length  Petal.Width  Species\n",
            "0           5.1          3.5           1.4          0.2        0\n",
            "1           4.9          3.0           1.4          0.2        0\n",
            "2           4.7          3.2           1.3          0.2        0\n",
            "3           4.6          3.1           1.5          0.2        0\n",
            "4           5.0          3.6           1.4          0.2        0\n"
          ]
        }
      ],
      "source": [
        "from sklearn.preprocessing import LabelEncoder\n",
        "\n",
        "label_encoder=LabelEncoder()\n",
        "\n",
        "iris_data['Species']=label_encoder.fit_transform(iris_data['Species'])\n",
        "\n",
        "print(iris_data.head())"
      ]
    },
    {
      "cell_type": "markdown",
      "id": "0479f21c",
      "metadata": {
        "id": "0479f21c"
      },
      "source": [
        "Converting input to numpy array"
      ]
    },
    {
      "cell_type": "code",
      "execution_count": null,
      "id": "8c02979f",
      "metadata": {
        "id": "8c02979f",
        "outputId": "06936950-095a-41cd-b88b-f4ad50bf6624"
      },
      "outputs": [
        {
          "name": "stdout",
          "output_type": "stream",
          "text": [
            "(150, 5)\n"
          ]
        }
      ],
      "source": [
        "np_iris=iris_data.to_numpy()\n",
        "\n",
        "print(np_iris.shape)"
      ]
    },
    {
      "cell_type": "markdown",
      "id": "3e99c421",
      "metadata": {
        "id": "3e99c421"
      },
      "source": [
        "Separate features and target variables"
      ]
    },
    {
      "cell_type": "code",
      "execution_count": null,
      "id": "7cf0c5bc",
      "metadata": {
        "id": "7cf0c5bc",
        "outputId": "da178b46-7110-42ec-e83a-4b77d3fd4990"
      },
      "outputs": [
        {
          "name": "stdout",
          "output_type": "stream",
          "text": [
            "\n",
            " Features before Scaling : \n",
            "------------------------\n",
            "[[5.1 3.5 1.4 0.2]\n",
            " [4.9 3.  1.4 0.2]\n",
            " [4.7 3.2 1.3 0.2]\n",
            " [4.6 3.1 1.5 0.2]\n",
            " [5.  3.6 1.4 0.2]]\n",
            "\n",
            "target before one-hot encoding: \n",
            "-------------------\n",
            "[0. 0. 0. 0. 0.]\n"
          ]
        }
      ],
      "source": [
        "X_data=np_iris[:,0:4]\n",
        "\n",
        "Y_data=np_iris[:,4]\n",
        "\n",
        "print(\"\\n Features before Scaling : \\n------------------------\")\n",
        "\n",
        "print(X_data[:5,:])\n",
        "\n",
        "print(\"\\ntarget before one-hot encoding: \\n-------------------\")\n",
        "\n",
        "print(Y_data[:5])"
      ]
    },
    {
      "cell_type": "markdown",
      "id": "86f952cd",
      "metadata": {
        "id": "86f952cd"
      },
      "source": [
        "Create a standard scaler object that if fit on the input data"
      ]
    },
    {
      "cell_type": "code",
      "execution_count": null,
      "id": "ed366f4b",
      "metadata": {
        "id": "ed366f4b",
        "outputId": "29c1a2af-6bbc-4dd2-f5ec-b5cddd1064ce"
      },
      "outputs": [
        {
          "name": "stdout",
          "output_type": "stream",
          "text": [
            "\n",
            " Features after Scaling : \n",
            "------------------------\n",
            "[[-0.90068117  1.01900435 -1.34022653 -1.3154443 ]\n",
            " [-1.14301691 -0.13197948 -1.34022653 -1.3154443 ]\n",
            " [-1.38535265  0.32841405 -1.39706395 -1.3154443 ]\n",
            " [-1.50652052  0.09821729 -1.2833891  -1.3154443 ]\n",
            " [-1.02184904  1.24920112 -1.34022653 -1.3154443 ]]\n",
            "\n",
            "target after one-hot encoding: \n",
            "-------------------\n",
            "[[1. 0. 0.]\n",
            " [1. 0. 0.]\n",
            " [1. 0. 0.]\n",
            " [1. 0. 0.]\n",
            " [1. 0. 0.]]\n"
          ]
        }
      ],
      "source": [
        "scaler=StandardScaler().fit(X_data)\n",
        "\n",
        "# scale the numeric feature variable\n",
        "X_data=scaler.transform(X_data)\n",
        "\n",
        "# convert target variable as a one-hot encoded array\n",
        "Y_data=tf.keras.utils.to_categorical(Y_data,3)\n",
        "\n",
        "print(\"\\n Features after Scaling : \\n------------------------\")\n",
        "\n",
        "print(X_data[:5,:])\n",
        "\n",
        "print(\"\\ntarget after one-hot encoding: \\n-------------------\")\n",
        "\n",
        "print(Y_data[:5])"
      ]
    },
    {
      "cell_type": "markdown",
      "id": "08d3487b",
      "metadata": {
        "id": "08d3487b"
      },
      "source": [
        "Splitting data into training and test sets"
      ]
    },
    {
      "cell_type": "code",
      "execution_count": null,
      "id": "ede09cce",
      "metadata": {
        "id": "ede09cce",
        "outputId": "cb760185-7f9a-4574-8f1f-1692c6321474"
      },
      "outputs": [
        {
          "name": "stdout",
          "output_type": "stream",
          "text": [
            "\n",
            " Train test Dimensions: \n",
            "--------------\n",
            "(135, 4) (15, 4) (135, 3) (15, 3)\n"
          ]
        }
      ],
      "source": [
        "X_train, X_test, Y_train, Y_test=train_test_split(X_data, Y_data, test_size=0.10)\n",
        "\n",
        "print(\"\\n Train test Dimensions: \\n--------------\")\n",
        "\n",
        "print(X_train.shape, X_test.shape, Y_train.shape, Y_test.shape)"
      ]
    },
    {
      "cell_type": "markdown",
      "id": "f76d50d4",
      "metadata": {
        "id": "f76d50d4"
      },
      "source": [
        "Create a Model\n",
        "\n",
        "Number of hidden layers\n",
        "\n",
        "Number of nodes in each layer\n",
        "\n",
        "Activation functions\n",
        "\n",
        "Loss function and accuracy measurements."
      ]
    },
    {
      "cell_type": "code",
      "execution_count": null,
      "id": "d118865c",
      "metadata": {
        "id": "d118865c",
        "outputId": "bba92bb8-968f-4571-b8cb-c48e7c3d4a24"
      },
      "outputs": [
        {
          "name": "stdout",
          "output_type": "stream",
          "text": [
            "Model: \"sequential_1\"\n",
            "_________________________________________________________________\n",
            " Layer (type)                Output Shape              Param #   \n",
            "=================================================================\n",
            " Hidden-Layer-1 (Dense)      (None, 128)               640       \n",
            "                                                                 \n",
            " Hidden-Layer-2 (Dense)      (None, 128)               16512     \n",
            "                                                                 \n",
            " Output-Layer (Dense)        (None, 3)                 387       \n",
            "                                                                 \n",
            "=================================================================\n",
            "Total params: 17539 (68.51 KB)\n",
            "Trainable params: 17539 (68.51 KB)\n",
            "Non-trainable params: 0 (0.00 Byte)\n",
            "_________________________________________________________________\n"
          ]
        }
      ],
      "source": [
        "from tensorflow import keras\n",
        "\n",
        "# Number of classes in the target variable\n",
        "NB_CLASSES=3\n",
        "\n",
        "# Create a sequential model in keras\n",
        "model=tf.keras.models.Sequential()\n",
        "\n",
        "# add the first hidden layer\n",
        "model.add(keras.layers.Dense(128, # Number of nodes\n",
        "                            input_shape=(4,), # number of input variables\n",
        "                            name=\"Hidden-Layer-1\", # Logical name\n",
        "                            activation=\"relu\")) # activation function\n",
        "\n",
        "# add a second hidden layer\n",
        "model.add(keras.layers.Dense(128,\n",
        "                            name=\"Hidden-Layer-2\",\n",
        "                            activation=\"relu\"))\n",
        "\n",
        "# add an output layer with softmax function\n",
        "model.add(keras.layers.Dense(NB_CLASSES,\n",
        "                            name=\"Output-Layer\",\n",
        "                            activation=\"softmax\"))\n",
        "\n",
        "# compile the model with loss and metrics\n",
        "model.compile(loss=\"categorical_crossentropy\",\n",
        "             metrics=[\"accuracy\"])\n",
        "\n",
        "# print the model summary\n",
        "model.summary()"
      ]
    },
    {
      "cell_type": "markdown",
      "id": "2c96151c",
      "metadata": {
        "id": "2c96151c"
      },
      "source": [
        "Training and Evaluating the model"
      ]
    },
    {
      "cell_type": "code",
      "execution_count": null,
      "id": "bad4addc",
      "metadata": {
        "id": "bad4addc",
        "outputId": "704ab960-7c4f-4fc3-ec15-91b92aaf9216"
      },
      "outputs": [
        {
          "name": "stdout",
          "output_type": "stream",
          "text": [
            "\n",
            "Training Progress: \n",
            "------------------\n",
            "Epoch 1/20\n",
            "7/7 [==============================] - 1s 33ms/step - loss: 0.9247 - accuracy: 0.5556 - val_loss: 0.6670 - val_accuracy: 0.8519\n",
            "Epoch 2/20\n",
            "7/7 [==============================] - 0s 6ms/step - loss: 0.6171 - accuracy: 0.8148 - val_loss: 0.5017 - val_accuracy: 0.8148\n",
            "Epoch 3/20\n",
            "7/7 [==============================] - 0s 5ms/step - loss: 0.4937 - accuracy: 0.8148 - val_loss: 0.4135 - val_accuracy: 0.8519\n",
            "Epoch 4/20\n",
            "7/7 [==============================] - 0s 6ms/step - loss: 0.4252 - accuracy: 0.8241 - val_loss: 0.3537 - val_accuracy: 0.8889\n",
            "Epoch 5/20\n",
            "7/7 [==============================] - 0s 6ms/step - loss: 0.3793 - accuracy: 0.8333 - val_loss: 0.3191 - val_accuracy: 0.8889\n",
            "Epoch 6/20\n",
            "7/7 [==============================] - 0s 6ms/step - loss: 0.3398 - accuracy: 0.8333 - val_loss: 0.2841 - val_accuracy: 0.8889\n",
            "Epoch 7/20\n",
            "7/7 [==============================] - 0s 6ms/step - loss: 0.3118 - accuracy: 0.8704 - val_loss: 0.2581 - val_accuracy: 0.8889\n",
            "Epoch 8/20\n",
            "7/7 [==============================] - 0s 6ms/step - loss: 0.2836 - accuracy: 0.8889 - val_loss: 0.2324 - val_accuracy: 0.9630\n",
            "Epoch 9/20\n",
            "7/7 [==============================] - 0s 5ms/step - loss: 0.2580 - accuracy: 0.8981 - val_loss: 0.2176 - val_accuracy: 0.9259\n",
            "Epoch 10/20\n",
            "7/7 [==============================] - 0s 7ms/step - loss: 0.2392 - accuracy: 0.9074 - val_loss: 0.2013 - val_accuracy: 0.9259\n",
            "Epoch 11/20\n",
            "7/7 [==============================] - 0s 5ms/step - loss: 0.2210 - accuracy: 0.8981 - val_loss: 0.1828 - val_accuracy: 1.0000\n",
            "Epoch 12/20\n",
            "7/7 [==============================] - 0s 6ms/step - loss: 0.1996 - accuracy: 0.9259 - val_loss: 0.1703 - val_accuracy: 0.9630\n",
            "Epoch 13/20\n",
            "7/7 [==============================] - 0s 6ms/step - loss: 0.1858 - accuracy: 0.9444 - val_loss: 0.1591 - val_accuracy: 0.9630\n",
            "Epoch 14/20\n",
            "7/7 [==============================] - 0s 6ms/step - loss: 0.1639 - accuracy: 0.9444 - val_loss: 0.1471 - val_accuracy: 0.9630\n",
            "Epoch 15/20\n",
            "7/7 [==============================] - 0s 6ms/step - loss: 0.1613 - accuracy: 0.9537 - val_loss: 0.1377 - val_accuracy: 0.9630\n",
            "Epoch 16/20\n",
            "7/7 [==============================] - 0s 6ms/step - loss: 0.1513 - accuracy: 0.9630 - val_loss: 0.1287 - val_accuracy: 0.9630\n",
            "Epoch 17/20\n",
            "7/7 [==============================] - 0s 6ms/step - loss: 0.1347 - accuracy: 0.9630 - val_loss: 0.1179 - val_accuracy: 0.9630\n",
            "Epoch 18/20\n",
            "7/7 [==============================] - 0s 6ms/step - loss: 0.1237 - accuracy: 0.9630 - val_loss: 0.1135 - val_accuracy: 0.9630\n",
            "Epoch 19/20\n",
            "7/7 [==============================] - 0s 5ms/step - loss: 0.1208 - accuracy: 0.9630 - val_loss: 0.1040 - val_accuracy: 0.9630\n",
            "Epoch 20/20\n",
            "7/7 [==============================] - 0s 5ms/step - loss: 0.1116 - accuracy: 0.9537 - val_loss: 0.0988 - val_accuracy: 0.9630\n"
          ]
        }
      ],
      "source": [
        "# Make it verbose so we can see the process\n",
        "VERBOSE=1\n",
        "\n",
        "# Set hyperparameters for training\n",
        "\n",
        "# Set batch size\n",
        "BATCH_SIZE=16\n",
        "\n",
        "# Set the number of epochs\n",
        "EPOCHS=20\n",
        "\n",
        "# Set the validation split. 20% of the training dataset will be used for validation\n",
        "VALIDATION_SPLIT=0.2\n",
        "\n",
        "print(\"\\nTraining Progress: \\n------------------\")\n",
        "\n",
        "# Fitting the model. This will perform the enitre training cycle, including forward propagation, loss computation,\n",
        "# backward propagation and gradient descent.\n",
        "\n",
        "history=model.fit(X_train,\n",
        "                  Y_train,\n",
        "                  batch_size=BATCH_SIZE,\n",
        "                  epochs=EPOCHS,\n",
        "                  verbose=VERBOSE,\n",
        "                  validation_split=VALIDATION_SPLIT)\n",
        "\n"
      ]
    },
    {
      "cell_type": "code",
      "execution_count": null,
      "id": "f6e781d1",
      "metadata": {
        "id": "f6e781d1",
        "outputId": "5eb1fec4-c339-411b-ce1f-158446defa19"
      },
      "outputs": [
        {
          "name": "stdout",
          "output_type": "stream",
          "text": [
            "\n",
            "Accuracy During Training: \n",
            "-------------------------\n"
          ]
        },
        {
          "data": {
            "image/png": "[encoded data removed]",
            "text/plain": [
              "<Figure size 576x360 with 1 Axes>"
            ]
          },
          "metadata": {
            "needs_background": "light"
          },
          "output_type": "display_data"
        }
      ],
      "source": [
        "print(\"\\nAccuracy During Training: \\n-------------------------\")\n",
        "\n",
        "import matplotlib.pyplot as plt\n",
        "\n",
        "# Plot the accuracy of the model after each epoch\n",
        "\n",
        "pd.DataFrame(history.history)[\"accuracy\"].plot(figsize=(8,5))\n",
        "plt.title(\"Accuracy improvement after each epoch\")\n",
        "plt.show()"
      ]
    },
    {
      "cell_type": "markdown",
      "id": "bd0d3acc",
      "metadata": {
        "id": "bd0d3acc"
      },
      "source": [
        "Evaluate the model against the test dataset and print the result"
      ]
    },
    {
      "cell_type": "code",
      "execution_count": null,
      "id": "82539c5e",
      "metadata": {
        "id": "82539c5e",
        "outputId": "19761d2d-6531-457a-ced4-a978db93867b"
      },
      "outputs": [
        {
          "name": "stdout",
          "output_type": "stream",
          "text": [
            "\n",
            "Evaluate against test dataset: \n",
            "--------------------------\n",
            "1/1 [==============================] - 0s 36ms/step - loss: 0.1337 - accuracy: 1.0000\n"
          ]
        },
        {
          "data": {
            "text/plain": [
              "[0.133657768368721, 1.0]"
            ]
          },
          "execution_count": 23,
          "metadata": {},
          "output_type": "execute_result"
        }
      ],
      "source": [
        "print(\"\\nEvaluate against test dataset: \\n--------------------------\")\n",
        "\n",
        "model.evaluate(X_test, Y_test)"
      ]
    },
    {
      "cell_type": "code",
      "execution_count": null,
      "id": "d17a8873",
      "metadata": {
        "id": "d17a8873",
        "outputId": "0c15a178-23e2-478f-cbbb-19de85ae824c"
      },
      "outputs": [
        {
          "name": "stderr",
          "output_type": "stream",
          "text": [
            "WARNING:absl:`Hidden-Layer-1_input` is not a valid tf.function parameter name. Sanitizing to `Hidden_Layer_1_input`.\n",
            "WARNING:absl:`Hidden-Layer-1_input` is not a valid tf.function parameter name. Sanitizing to `Hidden_Layer_1_input`.\n",
            "WARNING:absl:`Hidden-Layer-1_input` is not a valid tf.function parameter name. Sanitizing to `Hidden_Layer_1_input`.\n"
          ]
        },
        {
          "name": "stdout",
          "output_type": "stream",
          "text": [
            "INFO:tensorflow:Assets written to: iris_save\\assets\n"
          ]
        },
        {
          "name": "stderr",
          "output_type": "stream",
          "text": [
            "INFO:tensorflow:Assets written to: iris_save\\assets\n"
          ]
        },
        {
          "name": "stdout",
          "output_type": "stream",
          "text": [
            "WARNING:tensorflow:From C:\\Users\\Mohit Tripathi\\AppData\\Roaming\\Python\\Python39\\site-packages\\keras\\src\\saving\\legacy\\saved_model\\load.py:107: The name tf.gfile.Exists is deprecated. Please use tf.io.gfile.exists instead.\n",
            "\n"
          ]
        },
        {
          "name": "stderr",
          "output_type": "stream",
          "text": [
            "WARNING:tensorflow:From C:\\Users\\Mohit Tripathi\\AppData\\Roaming\\Python\\Python39\\site-packages\\keras\\src\\saving\\legacy\\saved_model\\load.py:107: The name tf.gfile.Exists is deprecated. Please use tf.io.gfile.exists instead.\n",
            "\n"
          ]
        },
        {
          "name": "stdout",
          "output_type": "stream",
          "text": [
            "Model: \"sequential_1\"\n",
            "_________________________________________________________________\n",
            " Layer (type)                Output Shape              Param #   \n",
            "=================================================================\n",
            " Hidden-Layer-1 (Dense)      (None, 128)               640       \n",
            "                                                                 \n",
            " Hidden-Layer-2 (Dense)      (None, 128)               16512     \n",
            "                                                                 \n",
            " Output-Layer (Dense)        (None, 3)                 387       \n",
            "                                                                 \n",
            "=================================================================\n",
            "Total params: 17539 (68.51 KB)\n",
            "Trainable params: 17539 (68.51 KB)\n",
            "Non-trainable params: 0 (0.00 Byte)\n",
            "_________________________________________________________________\n"
          ]
        }
      ],
      "source": [
        "# Saving a model\n",
        "model.save(\"iris_save\")\n",
        "\n",
        "#load the model\n",
        "loaded_model=keras.models.load_model(\"iris_save\")\n",
        "\n",
        "#print the model summary\n",
        "loaded_model.summary()"
      ]
    },
    {
      "cell_type": "markdown",
      "id": "a31a34aa",
      "metadata": {
        "id": "a31a34aa"
      },
      "source": [
        "Predictions with Deep Learning Model"
      ]
    },
    {
      "cell_type": "code",
      "execution_count": null,
      "id": "52bae58f",
      "metadata": {
        "id": "52bae58f",
        "outputId": "f66130d5-91e4-4aeb-9863-8aa8b1ee8f98"
      },
      "outputs": [
        {
          "name": "stdout",
          "output_type": "stream",
          "text": [
            "1/1 [==============================] - 0s 222ms/step\n",
            "Raw Prediction Output (Probabilities): [[9.9997640e-01 2.3651950e-05 1.0189199e-18]]\n",
            "Prediction is ['setosa']\n"
          ]
        }
      ],
      "source": [
        "# raw prediction data\n",
        "prediction_input=[[2.6,12.,2.4,4.4]]\n",
        "\n",
        "# scale the prediction data with the same scaling object\n",
        "scaled_input=scaler.transform(prediction_input)\n",
        "\n",
        "# get the raw prediction probabilities\n",
        "raw_prediction=loaded_model.predict(scaled_input)\n",
        "print(\"Raw Prediction Output (Probabilities):\",raw_prediction)\n",
        "\n",
        "#Find Prediction\n",
        "prediction=np.argmax(raw_prediction)\n",
        "print(\"Prediction is\",label_encoder.inverse_transform([prediction]))"
      ]
    },
    {
      "cell_type": "markdown",
      "id": "1eab2680",
      "metadata": {
        "id": "1eab2680"
      },
      "source": [
        "# Convolutional Neural Network"
      ]
    },
    {
      "cell_type": "markdown",
      "id": "43f772cf",
      "metadata": {
        "id": "43f772cf"
      },
      "source": [
        "A Convolutional Neural Network (CNN) is a type of artificial neural network that is used in image recognition and processing that is specifically designed to process pixel data."
      ]
    },
    {
      "cell_type": "code",
      "execution_count": null,
      "id": "e701c45c",
      "metadata": {
        "id": "e701c45c"
      },
      "outputs": [],
      "source": [
        "# https://www.bing.com/images/search?view=detailV2&ccid=%2bxPK2X22&id=7F6EE107A48092A457BFD5436353A81DE81EE3E3&thid=OIP.-xPK2X22QAU7ssU8ErD0pwHaD9&mediaurl=https%3a%2f%2fcdn-images-1.medium.com%2fmax%2f1600%2f1*uAeANQIOQPqWZnnuH-VEyw.jpeg&exph=856&expw=1600&q=cnn+neural+network&simid=607988187849189153&FORM=IRPRST&ck=9B20908F0103F6CA825F53F009F50FF7&selectedIndex=0&ajaxhist=0&ajaxserp=0"
      ]
    },
    {
      "cell_type": "markdown",
      "id": "49b2fb87",
      "metadata": {
        "id": "49b2fb87"
      },
      "source": [
        "# CNN Model on MNIST Dataset for written digit classification"
      ]
    },
    {
      "cell_type": "markdown",
      "id": "8f07ea08",
      "metadata": {
        "id": "8f07ea08"
      },
      "source": [
        "MNIST Dataset is the handwritten numbers taken as images. All images are grey scale."
      ]
    },
    {
      "cell_type": "code",
      "execution_count": null,
      "id": "5f3641b7",
      "metadata": {
        "id": "5f3641b7"
      },
      "outputs": [],
      "source": [
        "from keras.datasets import mnist\n",
        "#from keras.preprocessing.image import load_img, array_to_img\n",
        "from tensorflow.keras.utils import to_categorical\n",
        "from keras.models import Sequential\n",
        "from keras.layers import Dense\n",
        "\n",
        "import numpy as np\n",
        "import matplotlib.pyplot as plt"
      ]
    },
    {
      "cell_type": "markdown",
      "id": "bd518265",
      "metadata": {
        "id": "bd518265"
      },
      "source": [
        "Load the data"
      ]
    },
    {
      "cell_type": "code",
      "execution_count": null,
      "id": "71a5a6b4",
      "metadata": {
        "id": "71a5a6b4"
      },
      "outputs": [],
      "source": [
        "(X_train, y_train),(X_test, y_test)=mnist.load_data()"
      ]
    },
    {
      "cell_type": "code",
      "execution_count": null,
      "id": "6c7e0863",
      "metadata": {
        "id": "6c7e0863",
        "outputId": "36a8b05c-600c-4969-ca24-edbaf139344e"
      },
      "outputs": [
        {
          "name": "stdout",
          "output_type": "stream",
          "text": [
            "(60000, 28, 28)\n",
            "(60000,)\n",
            "(10000, 28, 28)\n",
            "(10000,)\n"
          ]
        }
      ],
      "source": [
        "print(X_train.shape)\n",
        "print(y_train.shape)\n",
        "print(X_test.shape)\n",
        "print(y_test.shape)"
      ]
    },
    {
      "cell_type": "markdown",
      "id": "340feb69",
      "metadata": {
        "id": "340feb69"
      },
      "source": [
        "Understand the image format"
      ]
    },
    {
      "cell_type": "code",
      "execution_count": null,
      "id": "12e47c49",
      "metadata": {
        "id": "12e47c49",
        "outputId": "da812181-f7e2-45b0-fc6e-84b486dd75e9"
      },
      "outputs": [
        {
          "data": {
            "text/plain": [
              "(28, 28)"
            ]
          },
          "execution_count": 30,
          "metadata": {},
          "output_type": "execute_result"
        }
      ],
      "source": [
        "X_train[0].shape"
      ]
    },
    {
      "cell_type": "code",
      "execution_count": null,
      "id": "ece77322",
      "metadata": {
        "id": "ece77322",
        "outputId": "88273f15-4b12-4956-f58d-9c027092e536"
      },
      "outputs": [
        {
          "data": {
            "text/plain": [
              "<matplotlib.image.AxesImage at 0x13652f8ac70>"
            ]
          },
          "execution_count": 31,
          "metadata": {},
          "output_type": "execute_result"
        },
        {
          "data": {
            "image/png": "[encoded data removed]",
            "text/plain": [
              "<Figure size 432x288 with 1 Axes>"
            ]
          },
          "metadata": {
            "needs_background": "light"
          },
          "output_type": "display_data"
        }
      ],
      "source": [
        "plt.imshow(X_train[0],cmap=\"gray\")"
      ]
    },
    {
      "cell_type": "code",
      "execution_count": null,
      "id": "0105f4c7",
      "metadata": {
        "id": "0105f4c7",
        "outputId": "d8be28ca-8e3b-425c-cb09-014125c969a2"
      },
      "outputs": [
        {
          "data": {
            "text/plain": [
              "5"
            ]
          },
          "execution_count": 32,
          "metadata": {},
          "output_type": "execute_result"
        }
      ],
      "source": [
        "y_train[0]"
      ]
    },
    {
      "cell_type": "markdown",
      "id": "c06cd442",
      "metadata": {
        "id": "c06cd442"
      },
      "source": [
        "Preprocess the image data"
      ]
    },
    {
      "cell_type": "code",
      "execution_count": null,
      "id": "cdb28a2f",
      "metadata": {
        "id": "cdb28a2f"
      },
      "outputs": [],
      "source": [
        "image_height, image_width=28,28"
      ]
    },
    {
      "cell_type": "code",
      "execution_count": null,
      "id": "33dee293",
      "metadata": {
        "id": "33dee293",
        "outputId": "d674d8fb-3652-4bbc-bb3e-227341cfe902"
      },
      "outputs": [
        {
          "name": "stdout",
          "output_type": "stream",
          "text": [
            "(60000, 784)\n",
            "(10000, 784)\n"
          ]
        }
      ],
      "source": [
        "X_train=X_train.reshape(60000, image_height*image_width)\n",
        "X_test=X_test.reshape(10000, image_height*image_width)\n",
        "\n",
        "print(X_train.shape)\n",
        "print(X_test.shape)"
      ]
    },
    {
      "cell_type": "code",
      "execution_count": null,
      "id": "1513b397",
      "metadata": {
        "id": "1513b397",
        "outputId": "e934f142-3bfa-4d7a-988d-6075d428a84c"
      },
      "outputs": [
        {
          "name": "stdout",
          "output_type": "stream",
          "text": [
            "[  0   0   0   0   0   0   0   0   0   0   0   0   0   0   0   0   0   0\n",
            "   0   0   0   0   0   0   0   0   0   0   0   0   0   0   0   0   0   0\n",
            "   0   0   0   0   0   0   0   0   0   0   0   0   0   0   0   0   0   0\n",
            "   0   0   0   0   0   0   0   0   0   0   0   0   0   0   0   0   0   0\n",
            "   0   0   0   0   0   0   0   0   0   0   0   0   0   0   0   0   0   0\n",
            "   0   0   0   0   0   0   0   0   0   0   0   0   0   0   0   0   0   0\n",
            "   0   0   0   0   0   0   0   0   0   0   0   0   0   0   0   0   0   0\n",
            "   0   0   0   0   0   0   0   0   0   0   0   0   0   0   0   0   0   0\n",
            "   0   0   0   0   0   0   0   0   3  18  18  18 126 136 175  26 166 255\n",
            " 247 127   0   0   0   0   0   0   0   0   0   0   0   0  30  36  94 154\n",
            " 170 253 253 253 253 253 225 172 253 242 195  64   0   0   0   0   0   0\n",
            "   0   0   0   0   0  49 238 253 253 253 253 253 253 253 253 251  93  82\n",
            "  82  56  39   0   0   0   0   0   0   0   0   0   0   0   0  18 219 253\n",
            " 253 253 253 253 198 182 247 241   0   0   0   0   0   0   0   0   0   0\n",
            "   0   0   0   0   0   0   0   0  80 156 107 253 253 205  11   0  43 154\n",
            "   0   0   0   0   0   0   0   0   0   0   0   0   0   0   0   0   0   0\n",
            "   0  14   1 154 253  90   0   0   0   0   0   0   0   0   0   0   0   0\n",
            "   0   0   0   0   0   0   0   0   0   0   0   0   0 139 253 190   2   0\n",
            "   0   0   0   0   0   0   0   0   0   0   0   0   0   0   0   0   0   0\n",
            "   0   0   0   0   0  11 190 253  70   0   0   0   0   0   0   0   0   0\n",
            "   0   0   0   0   0   0   0   0   0   0   0   0   0   0   0   0  35 241\n",
            " 225 160 108   1   0   0   0   0   0   0   0   0   0   0   0   0   0   0\n",
            "   0   0   0   0   0   0   0   0   0  81 240 253 253 119  25   0   0   0\n",
            "   0   0   0   0   0   0   0   0   0   0   0   0   0   0   0   0   0   0\n",
            "   0   0  45 186 253 253 150  27   0   0   0   0   0   0   0   0   0   0\n",
            "   0   0   0   0   0   0   0   0   0   0   0   0   0  16  93 252 253 187\n",
            "   0   0   0   0   0   0   0   0   0   0   0   0   0   0   0   0   0   0\n",
            "   0   0   0   0   0   0   0 249 253 249  64   0   0   0   0   0   0   0\n",
            "   0   0   0   0   0   0   0   0   0   0   0   0   0   0  46 130 183 253\n",
            " 253 207   2   0   0   0   0   0   0   0   0   0   0   0   0   0   0   0\n",
            "   0   0   0   0  39 148 229 253 253 253 250 182   0   0   0   0   0   0\n",
            "   0   0   0   0   0   0   0   0   0   0   0   0  24 114 221 253 253 253\n",
            " 253 201  78   0   0   0   0   0   0   0   0   0   0   0   0   0   0   0\n",
            "   0   0  23  66 213 253 253 253 253 198  81   2   0   0   0   0   0   0\n",
            "   0   0   0   0   0   0   0   0   0   0  18 171 219 253 253 253 253 195\n",
            "  80   9   0   0   0   0   0   0   0   0   0   0   0   0   0   0   0   0\n",
            "  55 172 226 253 253 253 253 244 133  11   0   0   0   0   0   0   0   0\n",
            "   0   0   0   0   0   0   0   0   0   0 136 253 253 253 212 135 132  16\n",
            "   0   0   0   0   0   0   0   0   0   0   0   0   0   0   0   0   0   0\n",
            "   0   0   0   0   0   0   0   0   0   0   0   0   0   0   0   0   0   0\n",
            "   0   0   0   0   0   0   0   0   0   0   0   0   0   0   0   0   0   0\n",
            "   0   0   0   0   0   0   0   0   0   0   0   0   0   0   0   0   0   0\n",
            "   0   0   0   0   0   0   0   0   0   0   0   0   0   0   0   0   0   0\n",
            "   0   0   0   0   0   0   0   0   0   0]\n"
          ]
        }
      ],
      "source": [
        "print(X_train[0])"
      ]
    },
    {
      "cell_type": "code",
      "execution_count": null,
      "id": "5f286ded",
      "metadata": {
        "id": "5f286ded"
      },
      "outputs": [],
      "source": [
        "X_train=X_train.astype('float32')\n",
        "X_test=X_test.astype('float32')"
      ]
    },
    {
      "cell_type": "code",
      "execution_count": null,
      "id": "a1af5f1d",
      "metadata": {
        "id": "a1af5f1d"
      },
      "outputs": [],
      "source": [
        "X_train/=255.0\n",
        "X_test/=255.0"
      ]
    },
    {
      "cell_type": "code",
      "execution_count": null,
      "id": "866982ce",
      "metadata": {
        "id": "866982ce",
        "outputId": "83878a99-46c5-45bb-e4e8-ccd3fa7097f8"
      },
      "outputs": [
        {
          "name": "stdout",
          "output_type": "stream",
          "text": [
            "[0.         0.         0.         0.         0.         0.\n",
            " 0.         0.         0.         0.         0.         0.\n",
            " 0.         0.         0.         0.         0.         0.\n",
            " 0.         0.         0.         0.         0.         0.\n",
            " 0.         0.         0.         0.         0.         0.\n",
            " 0.         0.         0.         0.         0.         0.\n",
            " 0.         0.         0.         0.         0.         0.\n",
            " 0.         0.         0.         0.         0.         0.\n",
            " 0.         0.         0.         0.         0.         0.\n",
            " 0.         0.         0.         0.         0.         0.\n",
            " 0.         0.         0.         0.         0.         0.\n",
            " 0.         0.         0.         0.         0.         0.\n",
            " 0.         0.         0.         0.         0.         0.\n",
            " 0.         0.         0.         0.         0.         0.\n",
            " 0.         0.         0.         0.         0.         0.\n",
            " 0.         0.         0.         0.         0.         0.\n",
            " 0.         0.         0.         0.         0.         0.\n",
            " 0.         0.         0.         0.         0.         0.\n",
            " 0.         0.         0.         0.         0.         0.\n",
            " 0.         0.         0.         0.         0.         0.\n",
            " 0.         0.         0.         0.         0.         0.\n",
            " 0.         0.         0.         0.         0.         0.\n",
            " 0.         0.         0.         0.         0.         0.\n",
            " 0.         0.         0.         0.         0.         0.\n",
            " 0.         0.         0.         0.         0.         0.\n",
            " 0.         0.         0.01176471 0.07058824 0.07058824 0.07058824\n",
            " 0.49411765 0.53333336 0.6862745  0.10196079 0.6509804  1.\n",
            " 0.96862745 0.49803922 0.         0.         0.         0.\n",
            " 0.         0.         0.         0.         0.         0.\n",
            " 0.         0.         0.11764706 0.14117648 0.36862746 0.6039216\n",
            " 0.6666667  0.99215686 0.99215686 0.99215686 0.99215686 0.99215686\n",
            " 0.88235295 0.6745098  0.99215686 0.9490196  0.7647059  0.2509804\n",
            " 0.         0.         0.         0.         0.         0.\n",
            " 0.         0.         0.         0.         0.         0.19215687\n",
            " 0.93333334 0.99215686 0.99215686 0.99215686 0.99215686 0.99215686\n",
            " 0.99215686 0.99215686 0.99215686 0.9843137  0.3647059  0.32156864\n",
            " 0.32156864 0.21960784 0.15294118 0.         0.         0.\n",
            " 0.         0.         0.         0.         0.         0.\n",
            " 0.         0.         0.         0.07058824 0.85882354 0.99215686\n",
            " 0.99215686 0.99215686 0.99215686 0.99215686 0.7764706  0.7137255\n",
            " 0.96862745 0.94509804 0.         0.         0.         0.\n",
            " 0.         0.         0.         0.         0.         0.\n",
            " 0.         0.         0.         0.         0.         0.\n",
            " 0.         0.         0.3137255  0.6117647  0.41960785 0.99215686\n",
            " 0.99215686 0.8039216  0.04313726 0.         0.16862746 0.6039216\n",
            " 0.         0.         0.         0.         0.         0.\n",
            " 0.         0.         0.         0.         0.         0.\n",
            " 0.         0.         0.         0.         0.         0.\n",
            " 0.         0.05490196 0.00392157 0.6039216  0.99215686 0.3529412\n",
            " 0.         0.         0.         0.         0.         0.\n",
            " 0.         0.         0.         0.         0.         0.\n",
            " 0.         0.         0.         0.         0.         0.\n",
            " 0.         0.         0.         0.         0.         0.\n",
            " 0.         0.54509807 0.99215686 0.74509805 0.00784314 0.\n",
            " 0.         0.         0.         0.         0.         0.\n",
            " 0.         0.         0.         0.         0.         0.\n",
            " 0.         0.         0.         0.         0.         0.\n",
            " 0.         0.         0.         0.         0.         0.04313726\n",
            " 0.74509805 0.99215686 0.27450982 0.         0.         0.\n",
            " 0.         0.         0.         0.         0.         0.\n",
            " 0.         0.         0.         0.         0.         0.\n",
            " 0.         0.         0.         0.         0.         0.\n",
            " 0.         0.         0.         0.         0.13725491 0.94509804\n",
            " 0.88235295 0.627451   0.42352942 0.00392157 0.         0.\n",
            " 0.         0.         0.         0.         0.         0.\n",
            " 0.         0.         0.         0.         0.         0.\n",
            " 0.         0.         0.         0.         0.         0.\n",
            " 0.         0.         0.         0.31764707 0.9411765  0.99215686\n",
            " 0.99215686 0.46666667 0.09803922 0.         0.         0.\n",
            " 0.         0.         0.         0.         0.         0.\n",
            " 0.         0.         0.         0.         0.         0.\n",
            " 0.         0.         0.         0.         0.         0.\n",
            " 0.         0.         0.1764706  0.7294118  0.99215686 0.99215686\n",
            " 0.5882353  0.10588235 0.         0.         0.         0.\n",
            " 0.         0.         0.         0.         0.         0.\n",
            " 0.         0.         0.         0.         0.         0.\n",
            " 0.         0.         0.         0.         0.         0.\n",
            " 0.         0.0627451  0.3647059  0.9882353  0.99215686 0.73333335\n",
            " 0.         0.         0.         0.         0.         0.\n",
            " 0.         0.         0.         0.         0.         0.\n",
            " 0.         0.         0.         0.         0.         0.\n",
            " 0.         0.         0.         0.         0.         0.\n",
            " 0.         0.9764706  0.99215686 0.9764706  0.2509804  0.\n",
            " 0.         0.         0.         0.         0.         0.\n",
            " 0.         0.         0.         0.         0.         0.\n",
            " 0.         0.         0.         0.         0.         0.\n",
            " 0.         0.         0.18039216 0.50980395 0.7176471  0.99215686\n",
            " 0.99215686 0.8117647  0.00784314 0.         0.         0.\n",
            " 0.         0.         0.         0.         0.         0.\n",
            " 0.         0.         0.         0.         0.         0.\n",
            " 0.         0.         0.         0.         0.15294118 0.5803922\n",
            " 0.8980392  0.99215686 0.99215686 0.99215686 0.98039216 0.7137255\n",
            " 0.         0.         0.         0.         0.         0.\n",
            " 0.         0.         0.         0.         0.         0.\n",
            " 0.         0.         0.         0.         0.         0.\n",
            " 0.09411765 0.44705883 0.8666667  0.99215686 0.99215686 0.99215686\n",
            " 0.99215686 0.7882353  0.30588236 0.         0.         0.\n",
            " 0.         0.         0.         0.         0.         0.\n",
            " 0.         0.         0.         0.         0.         0.\n",
            " 0.         0.         0.09019608 0.25882354 0.8352941  0.99215686\n",
            " 0.99215686 0.99215686 0.99215686 0.7764706  0.31764707 0.00784314\n",
            " 0.         0.         0.         0.         0.         0.\n",
            " 0.         0.         0.         0.         0.         0.\n",
            " 0.         0.         0.         0.         0.07058824 0.67058825\n",
            " 0.85882354 0.99215686 0.99215686 0.99215686 0.99215686 0.7647059\n",
            " 0.3137255  0.03529412 0.         0.         0.         0.\n",
            " 0.         0.         0.         0.         0.         0.\n",
            " 0.         0.         0.         0.         0.         0.\n",
            " 0.21568628 0.6745098  0.8862745  0.99215686 0.99215686 0.99215686\n",
            " 0.99215686 0.95686275 0.52156866 0.04313726 0.         0.\n",
            " 0.         0.         0.         0.         0.         0.\n",
            " 0.         0.         0.         0.         0.         0.\n",
            " 0.         0.         0.         0.         0.53333336 0.99215686\n",
            " 0.99215686 0.99215686 0.83137256 0.5294118  0.5176471  0.0627451\n",
            " 0.         0.         0.         0.         0.         0.\n",
            " 0.         0.         0.         0.         0.         0.\n",
            " 0.         0.         0.         0.         0.         0.\n",
            " 0.         0.         0.         0.         0.         0.\n",
            " 0.         0.         0.         0.         0.         0.\n",
            " 0.         0.         0.         0.         0.         0.\n",
            " 0.         0.         0.         0.         0.         0.\n",
            " 0.         0.         0.         0.         0.         0.\n",
            " 0.         0.         0.         0.         0.         0.\n",
            " 0.         0.         0.         0.         0.         0.\n",
            " 0.         0.         0.         0.         0.         0.\n",
            " 0.         0.         0.         0.         0.         0.\n",
            " 0.         0.         0.         0.         0.         0.\n",
            " 0.         0.         0.         0.         0.         0.\n",
            " 0.         0.         0.         0.         0.         0.\n",
            " 0.         0.         0.         0.         0.         0.\n",
            " 0.         0.         0.         0.        ]\n"
          ]
        }
      ],
      "source": [
        "print(X_train[0])"
      ]
    },
    {
      "cell_type": "code",
      "execution_count": null,
      "id": "9c5bcd1c",
      "metadata": {
        "id": "9c5bcd1c",
        "outputId": "d1f3ad54-a621-449e-9901-e51bbf8f053c"
      },
      "outputs": [
        {
          "name": "stdout",
          "output_type": "stream",
          "text": [
            "(60000,)\n",
            "(10000,)\n"
          ]
        }
      ],
      "source": [
        "print(y_train.shape)\n",
        "print(y_test.shape)"
      ]
    },
    {
      "cell_type": "markdown",
      "id": "740231e3",
      "metadata": {
        "id": "740231e3"
      },
      "source": [
        "Converting the target value into 10 bins. So, we will see that the output from a model will then go into one of these bins."
      ]
    },
    {
      "cell_type": "code",
      "execution_count": null,
      "id": "ff093c42",
      "metadata": {
        "id": "ff093c42",
        "outputId": "9be80799-3092-408d-b687-8e7a9356921c"
      },
      "outputs": [
        {
          "name": "stdout",
          "output_type": "stream",
          "text": [
            "(60000, 10)\n",
            "(10000, 10)\n"
          ]
        }
      ],
      "source": [
        "y_train=to_categorical(y_train,10)\n",
        "y_test=to_categorical(y_test,10)\n",
        "\n",
        "print(y_train.shape)\n",
        "print(y_test.shape)"
      ]
    },
    {
      "cell_type": "code",
      "execution_count": null,
      "id": "8c8848b2",
      "metadata": {
        "id": "8c8848b2",
        "outputId": "7fa16e12-ca45-4730-b1b6-f77f709b52fc"
      },
      "outputs": [
        {
          "data": {
            "text/plain": [
              "array([0., 0., 0., 0., 0., 1., 0., 0., 0., 0.], dtype=float32)"
            ]
          },
          "execution_count": 41,
          "metadata": {},
          "output_type": "execute_result"
        }
      ],
      "source": [
        "y_train[0]"
      ]
    },
    {
      "cell_type": "markdown",
      "id": "7022d0c0",
      "metadata": {
        "id": "7022d0c0"
      },
      "source": [
        "Building the model"
      ]
    },
    {
      "cell_type": "code",
      "execution_count": null,
      "id": "375c5496",
      "metadata": {
        "id": "375c5496"
      },
      "outputs": [],
      "source": [
        "model=Sequential()\n",
        "\n",
        "model.add(Dense(512, activation='relu',input_shape=(784,)))\n",
        "model.add(Dense(512,activation='relu'))\n",
        "model.add(Dense(10,activation=\"softmax\"))"
      ]
    },
    {
      "cell_type": "markdown",
      "id": "b05bace3",
      "metadata": {
        "id": "b05bace3"
      },
      "source": [
        "Compile the model"
      ]
    },
    {
      "cell_type": "code",
      "execution_count": null,
      "id": "2b5d7016",
      "metadata": {
        "id": "2b5d7016",
        "outputId": "93c77e83-6b7e-4fe6-d8fd-a7ba33ab5df7"
      },
      "outputs": [
        {
          "name": "stdout",
          "output_type": "stream",
          "text": [
            "Model: \"sequential_2\"\n",
            "_________________________________________________________________\n",
            " Layer (type)                Output Shape              Param #   \n",
            "=================================================================\n",
            " dense (Dense)               (None, 512)               401920    \n",
            "                                                                 \n",
            " dense_1 (Dense)             (None, 512)               262656    \n",
            "                                                                 \n",
            " dense_2 (Dense)             (None, 10)                5130      \n",
            "                                                                 \n",
            "=================================================================\n",
            "Total params: 669706 (2.55 MB)\n",
            "Trainable params: 669706 (2.55 MB)\n",
            "Non-trainable params: 0 (0.00 Byte)\n",
            "_________________________________________________________________\n"
          ]
        }
      ],
      "source": [
        "model.compile(optimizer=\"adam\",loss='categorical_crossentropy',metrics=[\"accuracy\"])\n",
        "model.summary()"
      ]
    },
    {
      "cell_type": "code",
      "execution_count": null,
      "id": "d642a71d",
      "metadata": {
        "id": "d642a71d",
        "outputId": "eed5a589-3cb1-4f8c-c809-8eb1207de9f2"
      },
      "outputs": [
        {
          "name": "stdout",
          "output_type": "stream",
          "text": [
            "Epoch 1/30\n",
            "1875/1875 [==============================] - 23s 11ms/step - loss: 0.1868 - accuracy: 0.9424 - val_loss: 0.0974 - val_accuracy: 0.9679\n",
            "Epoch 2/30\n",
            "1875/1875 [==============================] - 21s 11ms/step - loss: 0.0788 - accuracy: 0.9752 - val_loss: 0.0867 - val_accuracy: 0.9725\n",
            "Epoch 3/30\n",
            "1875/1875 [==============================] - 20s 11ms/step - loss: 0.0555 - accuracy: 0.9822 - val_loss: 0.0796 - val_accuracy: 0.9778\n",
            "Epoch 4/30\n",
            "1875/1875 [==============================] - 22s 12ms/step - loss: 0.0428 - accuracy: 0.9864 - val_loss: 0.0761 - val_accuracy: 0.9787\n",
            "Epoch 5/30\n",
            "1875/1875 [==============================] - 20s 11ms/step - loss: 0.0347 - accuracy: 0.9892 - val_loss: 0.0869 - val_accuracy: 0.9760\n",
            "Epoch 6/30\n",
            "1875/1875 [==============================] - 21s 11ms/step - loss: 0.0284 - accuracy: 0.9905 - val_loss: 0.1005 - val_accuracy: 0.9770\n",
            "Epoch 7/30\n",
            "1875/1875 [==============================] - 22s 12ms/step - loss: 0.0253 - accuracy: 0.9921 - val_loss: 0.0880 - val_accuracy: 0.9797\n",
            "Epoch 8/30\n",
            "1875/1875 [==============================] - 22s 12ms/step - loss: 0.0229 - accuracy: 0.9931 - val_loss: 0.0930 - val_accuracy: 0.9790\n",
            "Epoch 9/30\n",
            "1875/1875 [==============================] - 22s 12ms/step - loss: 0.0213 - accuracy: 0.9937 - val_loss: 0.0977 - val_accuracy: 0.9786\n",
            "Epoch 10/30\n",
            "1875/1875 [==============================] - 23s 12ms/step - loss: 0.0169 - accuracy: 0.9948 - val_loss: 0.1068 - val_accuracy: 0.9799\n",
            "Epoch 11/30\n",
            "1875/1875 [==============================] - 22s 12ms/step - loss: 0.0177 - accuracy: 0.9949 - val_loss: 0.0973 - val_accuracy: 0.9804\n",
            "Epoch 12/30\n",
            "1875/1875 [==============================] - 22s 12ms/step - loss: 0.0164 - accuracy: 0.9949 - val_loss: 0.1125 - val_accuracy: 0.9812\n",
            "Epoch 13/30\n",
            "1875/1875 [==============================] - 22s 12ms/step - loss: 0.0153 - accuracy: 0.9955 - val_loss: 0.1056 - val_accuracy: 0.9810\n",
            "Epoch 14/30\n",
            "1875/1875 [==============================] - 24s 13ms/step - loss: 0.0147 - accuracy: 0.9957 - val_loss: 0.1058 - val_accuracy: 0.9816\n",
            "Epoch 15/30\n",
            "1875/1875 [==============================] - 24s 13ms/step - loss: 0.0151 - accuracy: 0.9958 - val_loss: 0.1438 - val_accuracy: 0.9775\n",
            "Epoch 16/30\n",
            "1875/1875 [==============================] - 20s 11ms/step - loss: 0.0165 - accuracy: 0.9956 - val_loss: 0.1140 - val_accuracy: 0.9812\n",
            "Epoch 17/30\n",
            "1875/1875 [==============================] - 20s 11ms/step - loss: 0.0137 - accuracy: 0.9965 - val_loss: 0.1220 - val_accuracy: 0.9817\n",
            "Epoch 18/30\n",
            "1875/1875 [==============================] - 20s 11ms/step - loss: 0.0116 - accuracy: 0.9969 - val_loss: 0.1321 - val_accuracy: 0.9823\n",
            "Epoch 19/30\n",
            "1875/1875 [==============================] - 20s 11ms/step - loss: 0.0148 - accuracy: 0.9962 - val_loss: 0.1146 - val_accuracy: 0.9827\n",
            "Epoch 20/30\n",
            "1875/1875 [==============================] - 20s 11ms/step - loss: 0.0141 - accuracy: 0.9966 - val_loss: 0.1207 - val_accuracy: 0.9806\n",
            "Epoch 21/30\n",
            "1875/1875 [==============================] - 20s 10ms/step - loss: 0.0136 - accuracy: 0.9967 - val_loss: 0.1160 - val_accuracy: 0.9820\n",
            "Epoch 22/30\n",
            "1875/1875 [==============================] - 20s 11ms/step - loss: 0.0098 - accuracy: 0.9974 - val_loss: 0.1389 - val_accuracy: 0.9821\n",
            "Epoch 23/30\n",
            "1875/1875 [==============================] - 21s 11ms/step - loss: 0.0104 - accuracy: 0.9974 - val_loss: 0.1280 - val_accuracy: 0.9822\n",
            "Epoch 24/30\n",
            "1875/1875 [==============================] - 20s 11ms/step - loss: 0.0108 - accuracy: 0.9973 - val_loss: 0.1384 - val_accuracy: 0.9828\n",
            "Epoch 25/30\n",
            "1875/1875 [==============================] - 20s 11ms/step - loss: 0.0128 - accuracy: 0.9972 - val_loss: 0.1265 - val_accuracy: 0.9828\n",
            "Epoch 26/30\n",
            "1875/1875 [==============================] - 20s 11ms/step - loss: 0.0075 - accuracy: 0.9979 - val_loss: 0.1817 - val_accuracy: 0.9790\n",
            "Epoch 27/30\n",
            "1875/1875 [==============================] - 20s 11ms/step - loss: 0.0135 - accuracy: 0.9966 - val_loss: 0.1574 - val_accuracy: 0.9814\n",
            "Epoch 28/30\n",
            "1875/1875 [==============================] - 20s 11ms/step - loss: 0.0085 - accuracy: 0.9982 - val_loss: 0.1840 - val_accuracy: 0.9805\n",
            "Epoch 29/30\n",
            "1875/1875 [==============================] - 16s 8ms/step - loss: 0.0109 - accuracy: 0.9979 - val_loss: 0.1859 - val_accuracy: 0.9820\n",
            "Epoch 30/30\n",
            "1875/1875 [==============================] - 11s 6ms/step - loss: 0.0142 - accuracy: 0.9976 - val_loss: 0.1779 - val_accuracy: 0.9814\n"
          ]
        }
      ],
      "source": [
        "history= model.fit(X_train, y_train, epochs=30, validation_data=(X_test, y_test))"
      ]
    },
    {
      "cell_type": "code",
      "execution_count": null,
      "id": "084f0a2c",
      "metadata": {
        "id": "084f0a2c",
        "outputId": "d25e7b2c-43ed-4405-d67c-cbda2ebd1744"
      },
      "outputs": [
        {
          "data": {
            "text/plain": [
              "[<matplotlib.lines.Line2D at 0x13657c6ddf0>]"
            ]
          },
          "execution_count": 45,
          "metadata": {},
          "output_type": "execute_result"
        },
        {
          "data": {
            "image/png": "[encoded data removed]",
            "text/plain": [
              "<Figure size 432x288 with 1 Axes>"
            ]
          },
          "metadata": {
            "needs_background": "light"
          },
          "output_type": "display_data"
        }
      ],
      "source": [
        "plt.plot(history.history['accuracy'])"
      ]
    },
    {
      "cell_type": "code",
      "execution_count": null,
      "id": "79f8fb54",
      "metadata": {
        "id": "79f8fb54",
        "outputId": "ff7e641c-50de-4298-ddaa-99c627a80578"
      },
      "outputs": [
        {
          "name": "stdout",
          "output_type": "stream",
          "text": [
            "313/313 [==============================] - 1s 2ms/step - loss: 0.1779 - accuracy: 0.9814\n"
          ]
        }
      ],
      "source": [
        "score= model.evaluate(X_test, y_test)"
      ]
    },
    {
      "cell_type": "markdown",
      "id": "7e7b850b",
      "metadata": {
        "id": "7e7b850b"
      },
      "source": [
        "In neural networks we only have fully connected layer, otherwise known as dense layer. With Convolutional neural networks, we have more operations such as the convolution operation, max pooling, flattening and also a fully connected layer."
      ]
    },
    {
      "cell_type": "code",
      "execution_count": null,
      "id": "3223b813",
      "metadata": {
        "id": "3223b813"
      },
      "outputs": [],
      "source": [
        "from keras.layers import Conv2D, MaxPooling2D,Flatten,Dense\n",
        "from keras.models import Sequential\n",
        "from keras.datasets import mnist\n",
        "from tensorflow.keras.utils import to_categorical"
      ]
    },
    {
      "cell_type": "code",
      "execution_count": null,
      "id": "8327070c",
      "metadata": {
        "id": "8327070c"
      },
      "outputs": [],
      "source": [
        "(X_train, y_train),(X_test, y_test)=mnist.load_data()"
      ]
    },
    {
      "cell_type": "code",
      "execution_count": null,
      "id": "54e3e81d",
      "metadata": {
        "id": "54e3e81d",
        "outputId": "a638c7ec-c2d8-47b8-b912-98c74218b3ca"
      },
      "outputs": [
        {
          "name": "stdout",
          "output_type": "stream",
          "text": [
            "(60000, 28, 28)\n",
            "(60000,)\n",
            "(10000, 28, 28)\n",
            "(10000,)\n"
          ]
        }
      ],
      "source": [
        "print(X_train.shape)\n",
        "print(y_train.shape)\n",
        "print(X_test.shape)\n",
        "print(y_test.shape)"
      ]
    },
    {
      "cell_type": "code",
      "execution_count": null,
      "id": "4335abe6",
      "metadata": {
        "id": "4335abe6"
      },
      "outputs": [],
      "source": [
        "X_train=X_train.reshape(60000,28,28,1)\n",
        "X_test=X_test.reshape(10000,28,28,1)"
      ]
    },
    {
      "cell_type": "code",
      "execution_count": null,
      "id": "c715330a",
      "metadata": {
        "id": "c715330a"
      },
      "outputs": [],
      "source": [
        "X_train=X_train.astype('float32')\n",
        "X_test=X_test.astype('float32')"
      ]
    },
    {
      "cell_type": "code",
      "execution_count": null,
      "id": "2c76617c",
      "metadata": {
        "id": "2c76617c"
      },
      "outputs": [],
      "source": [
        "X_train/=255.0\n",
        "X_test/=255.0"
      ]
    },
    {
      "cell_type": "code",
      "execution_count": null,
      "id": "2c39fc53",
      "metadata": {
        "id": "2c39fc53"
      },
      "outputs": [],
      "source": [
        "y_train=to_categorical(y_train,10)\n",
        "y_test=to_categorical(y_test,10)"
      ]
    },
    {
      "cell_type": "code",
      "execution_count": null,
      "id": "ece08d9e",
      "metadata": {
        "id": "ece08d9e",
        "outputId": "36279a14-9190-45d0-c953-b33f36026fac"
      },
      "outputs": [
        {
          "name": "stdout",
          "output_type": "stream",
          "text": [
            "(60000, 28, 28, 1)\n",
            "(60000, 10)\n",
            "(10000, 28, 28, 1)\n",
            "(10000, 10)\n"
          ]
        }
      ],
      "source": [
        "print(X_train.shape)\n",
        "print(y_train.shape)\n",
        "print(X_test.shape)\n",
        "print(y_test.shape)"
      ]
    },
    {
      "cell_type": "markdown",
      "id": "e6dc0c11",
      "metadata": {
        "id": "e6dc0c11"
      },
      "source": [
        "CNN Model Development"
      ]
    },
    {
      "cell_type": "code",
      "execution_count": null,
      "id": "3bf02e4d",
      "metadata": {
        "id": "3bf02e4d",
        "outputId": "d972c577-b31d-4382-dcfa-e4dcf933642d"
      },
      "outputs": [
        {
          "name": "stdout",
          "output_type": "stream",
          "text": [
            "WARNING:tensorflow:From C:\\Users\\Mohit Tripathi\\AppData\\Roaming\\Python\\Python39\\site-packages\\keras\\src\\layers\\pooling\\max_pooling2d.py:161: The name tf.nn.max_pool is deprecated. Please use tf.nn.max_pool2d instead.\n",
            "\n"
          ]
        },
        {
          "name": "stderr",
          "output_type": "stream",
          "text": [
            "WARNING:tensorflow:From C:\\Users\\Mohit Tripathi\\AppData\\Roaming\\Python\\Python39\\site-packages\\keras\\src\\layers\\pooling\\max_pooling2d.py:161: The name tf.nn.max_pool is deprecated. Please use tf.nn.max_pool2d instead.\n",
            "\n"
          ]
        },
        {
          "name": "stdout",
          "output_type": "stream",
          "text": [
            "Model: \"sequential_3\"\n",
            "_________________________________________________________________\n",
            " Layer (type)                Output Shape              Param #   \n",
            "=================================================================\n",
            " conv2d (Conv2D)             (None, 28, 28, 32)        320       \n",
            "                                                                 \n",
            " max_pooling2d (MaxPooling2  (None, 14, 14, 32)        0         \n",
            " D)                                                              \n",
            "                                                                 \n",
            " conv2d_1 (Conv2D)           (None, 14, 14, 32)        9248      \n",
            "                                                                 \n",
            " max_pooling2d_1 (MaxPoolin  (None, 7, 7, 32)          0         \n",
            " g2D)                                                            \n",
            "                                                                 \n",
            " flatten (Flatten)           (None, 1568)              0         \n",
            "                                                                 \n",
            " dense_3 (Dense)             (None, 64)                100416    \n",
            "                                                                 \n",
            " dense_4 (Dense)             (None, 10)                650       \n",
            "                                                                 \n",
            "=================================================================\n",
            "Total params: 110634 (432.16 KB)\n",
            "Trainable params: 110634 (432.16 KB)\n",
            "Non-trainable params: 0 (0.00 Byte)\n",
            "_________________________________________________________________\n",
            "None\n"
          ]
        }
      ],
      "source": [
        "cnn=Sequential()\n",
        "cnn.add(Conv2D(32, kernel_size=(3,3),input_shape=(28,28,1),padding='same',activation='relu'))\n",
        "cnn.add(MaxPooling2D())\n",
        "cnn.add(Conv2D(32,kernel_size=(3,3),padding='same',activation='relu'))\n",
        "cnn.add(MaxPooling2D())\n",
        "cnn.add(Flatten())\n",
        "cnn.add(Dense(64, activation='relu'))\n",
        "cnn.add(Dense(10,activation='softmax'))\n",
        "cnn.compile(optimizer='adam',loss='categorical_crossentropy',metrics=['accuracy'])\n",
        "print(cnn.summary())"
      ]
    },
    {
      "cell_type": "code",
      "execution_count": null,
      "id": "eeb4ac8e",
      "metadata": {
        "id": "eeb4ac8e",
        "outputId": "c9ce68aa-a687-4a6f-d3a0-d2117a0d55b0"
      },
      "outputs": [
        {
          "name": "stdout",
          "output_type": "stream",
          "text": [
            "Epoch 1/20\n",
            "1875/1875 [==============================] - 17s 9ms/step - loss: 0.1476 - accuracy: 0.9540 - val_loss: 0.0611 - val_accuracy: 0.9808\n",
            "Epoch 2/20\n",
            "1875/1875 [==============================] - 18s 10ms/step - loss: 0.0479 - accuracy: 0.9855 - val_loss: 0.0294 - val_accuracy: 0.9906\n",
            "Epoch 3/20\n",
            "1875/1875 [==============================] - 18s 10ms/step - loss: 0.0336 - accuracy: 0.9892 - val_loss: 0.0220 - val_accuracy: 0.9930\n",
            "Epoch 4/20\n",
            "1875/1875 [==============================] - 20s 11ms/step - loss: 0.0252 - accuracy: 0.9919 - val_loss: 0.0227 - val_accuracy: 0.9929\n",
            "Epoch 5/20\n",
            "1875/1875 [==============================] - 18s 10ms/step - loss: 0.0190 - accuracy: 0.9935 - val_loss: 0.0137 - val_accuracy: 0.9958\n",
            "Epoch 6/20\n",
            "1875/1875 [==============================] - 18s 10ms/step - loss: 0.0145 - accuracy: 0.9953 - val_loss: 0.0120 - val_accuracy: 0.9961\n",
            "Epoch 7/20\n",
            "1875/1875 [==============================] - 19s 10ms/step - loss: 0.0127 - accuracy: 0.9959 - val_loss: 0.0108 - val_accuracy: 0.9965\n",
            "Epoch 8/20\n",
            "1875/1875 [==============================] - 20s 11ms/step - loss: 0.0105 - accuracy: 0.9965 - val_loss: 0.0087 - val_accuracy: 0.9971\n",
            "Epoch 9/20\n",
            "1875/1875 [==============================] - 19s 10ms/step - loss: 0.0095 - accuracy: 0.9968 - val_loss: 0.0052 - val_accuracy: 0.9982\n",
            "Epoch 10/20\n",
            "1875/1875 [==============================] - 19s 10ms/step - loss: 0.0065 - accuracy: 0.9975 - val_loss: 0.0051 - val_accuracy: 0.9980\n",
            "Epoch 11/20\n",
            "1875/1875 [==============================] - 19s 10ms/step - loss: 0.0074 - accuracy: 0.9975 - val_loss: 0.0089 - val_accuracy: 0.9970\n",
            "Epoch 12/20\n",
            "1875/1875 [==============================] - 19s 10ms/step - loss: 0.0065 - accuracy: 0.9977 - val_loss: 0.0105 - val_accuracy: 0.9967\n",
            "Epoch 13/20\n",
            "1875/1875 [==============================] - 19s 10ms/step - loss: 0.0057 - accuracy: 0.9980 - val_loss: 0.0106 - val_accuracy: 0.9963\n",
            "Epoch 14/20\n",
            "1875/1875 [==============================] - 19s 10ms/step - loss: 0.0045 - accuracy: 0.9986 - val_loss: 0.0022 - val_accuracy: 0.9993\n",
            "Epoch 15/20\n",
            "1875/1875 [==============================] - 19s 10ms/step - loss: 0.0046 - accuracy: 0.9985 - val_loss: 0.0022 - val_accuracy: 0.9992\n",
            "Epoch 16/20\n",
            "1875/1875 [==============================] - 19s 10ms/step - loss: 0.0055 - accuracy: 0.9981 - val_loss: 0.0026 - val_accuracy: 0.9991\n",
            "Epoch 17/20\n",
            "1875/1875 [==============================] - 19s 10ms/step - loss: 0.0040 - accuracy: 0.9986 - val_loss: 0.0109 - val_accuracy: 0.9963\n",
            "Epoch 18/20\n",
            "1875/1875 [==============================] - 25s 13ms/step - loss: 0.0044 - accuracy: 0.9986 - val_loss: 0.0016 - val_accuracy: 0.9994\n",
            "Epoch 19/20\n",
            "1875/1875 [==============================] - 19s 10ms/step - loss: 0.0032 - accuracy: 0.9990 - val_loss: 0.0011 - val_accuracy: 0.9996\n",
            "Epoch 20/20\n",
            "1875/1875 [==============================] - 19s 10ms/step - loss: 0.0041 - accuracy: 0.9987 - val_loss: 0.0035 - val_accuracy: 0.9988\n"
          ]
        }
      ],
      "source": [
        "history_cnn=cnn.fit(X_train, y_train, epochs=20, verbose=1, validation_data=(X_train, y_train))"
      ]
    },
    {
      "cell_type": "code",
      "execution_count": null,
      "id": "8fad9586",
      "metadata": {
        "id": "8fad9586",
        "outputId": "4bec60f0-2781-4856-850a-69333a43e745"
      },
      "outputs": [
        {
          "data": {
            "text/plain": [
              "[<matplotlib.lines.Line2D at 0x136563a5af0>]"
            ]
          },
          "execution_count": 57,
          "metadata": {},
          "output_type": "execute_result"
        },
        {
          "data": {
            "image/png": "[encoded data removed]",
            "text/plain": [
              "<Figure size 432x288 with 1 Axes>"
            ]
          },
          "metadata": {
            "needs_background": "light"
          },
          "output_type": "display_data"
        }
      ],
      "source": [
        "plt.plot(history_cnn.history['accuracy'])"
      ]
    },
    {
      "cell_type": "code",
      "execution_count": null,
      "id": "5c6cb25a",
      "metadata": {
        "id": "5c6cb25a",
        "outputId": "1f6d7de4-7e1e-4df6-c876-59b5026a5130"
      },
      "outputs": [
        {
          "data": {
            "text/plain": [
              "[<matplotlib.lines.Line2D at 0x1365640f550>]"
            ]
          },
          "execution_count": 58,
          "metadata": {},
          "output_type": "execute_result"
        },
        {
          "data": {
            "image/png": "[encoded data removed]",
            "text/plain": [
              "<Figure size 432x288 with 1 Axes>"
            ]
          },
          "metadata": {
            "needs_background": "light"
          },
          "output_type": "display_data"
        }
      ],
      "source": [
        "plt.plot(history_cnn.history['val_accuracy'])"
      ]
    },
    {
      "cell_type": "code",
      "execution_count": null,
      "id": "84eb55eb",
      "metadata": {
        "id": "84eb55eb"
      },
      "outputs": [],
      "source": []
    }
  ],
  "metadata": {
    "kernelspec": {
      "display_name": "Python 3 (ipykernel)",
      "language": "python",
      "name": "python3"
    },
    "language_info": {
      "codemirror_mode": {
        "name": "ipython",
        "version": 3
      },
      "file_extension": ".py",
      "mimetype": "text/x-python",
      "name": "python",
      "nbconvert_exporter": "python",
      "pygments_lexer": "ipython3",
      "version": "3.9.12"
    },
    "colab": {
      "provenance": []
    }
  },
  "nbformat": 4,
  "nbformat_minor": 5
}
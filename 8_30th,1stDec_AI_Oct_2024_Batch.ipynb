{
  "cells": [
    {
      "cell_type": "markdown",
      "id": "d0719025",
      "metadata": {
        "id": "d0719025"
      },
      "source": [
        "# Image Recognition using CNN on CIFAR-10 Dataset"
      ]
    },
    {
      "cell_type": "markdown",
      "id": "36f7f895",
      "metadata": {
        "id": "36f7f895"
      },
      "source": [
        "In this project we will be using CIFAR-10 dataset. This dataset includes thousands of pictures of 10 different kinds of objects like airplanes, automobiles, birds and so on.\n",
        "\n",
        "Each image in the dataset includes a matching label so we know what kind of image it is.\n",
        "\n",
        "The images in the CIFAR-10 dataset are only 32x32 pixels."
      ]
    },
    {
      "cell_type": "code",
      "execution_count": null,
      "id": "b473ec45",
      "metadata": {
        "id": "b473ec45",
        "outputId": "59d91f7f-63d3-4e86-c124-5352cab65d81"
      },
      "outputs": [
        {
          "name": "stderr",
          "output_type": "stream",
          "text": [
            "C:\\ProgramData\\Anaconda3\\lib\\site-packages\\scipy\\__init__.py:146: UserWarning: A NumPy version >=1.16.5 and <1.23.0 is required for this version of SciPy (detected version 1.26.4\n",
            "  warnings.warn(f\"A NumPy version >={np_minversion} and <{np_maxversion}\"\n"
          ]
        },
        {
          "name": "stdout",
          "output_type": "stream",
          "text": [
            "WARNING:tensorflow:From C:\\Users\\Mohit Tripathi\\AppData\\Roaming\\Python\\Python39\\site-packages\\keras\\src\\losses.py:2976: The name tf.losses.sparse_softmax_cross_entropy is deprecated. Please use tf.compat.v1.losses.sparse_softmax_cross_entropy instead.\n",
            "\n"
          ]
        }
      ],
      "source": [
        "import keras\n",
        "from keras.datasets import cifar10\n",
        "from keras.models import Sequential\n",
        "from keras.layers import Dense, Dropout, Flatten, Conv2D, MaxPooling2D\n",
        "from pathlib import Path\n",
        "from tensorflow.keras.utils import to_categorical"
      ]
    },
    {
      "cell_type": "markdown",
      "id": "45b0971d",
      "metadata": {
        "id": "45b0971d"
      },
      "source": [
        "Load the dataset"
      ]
    },
    {
      "cell_type": "code",
      "execution_count": null,
      "id": "e4f10785",
      "metadata": {
        "id": "e4f10785"
      },
      "outputs": [],
      "source": [
        "(X_train,y_train),(X_test, y_test)=cifar10.load_data()"
      ]
    },
    {
      "cell_type": "markdown",
      "id": "efbec5e5",
      "metadata": {
        "id": "efbec5e5"
      },
      "source": [
        "Normalize the data"
      ]
    },
    {
      "cell_type": "code",
      "execution_count": null,
      "id": "b84d7917",
      "metadata": {
        "id": "b84d7917"
      },
      "outputs": [],
      "source": [
        "X_train=X_train.astype('float32')\n",
        "X_test=X_test.astype('float32')\n",
        "X_train/=255.0\n",
        "X_test/=255.0"
      ]
    },
    {
      "cell_type": "markdown",
      "id": "74645635",
      "metadata": {
        "id": "74645635"
      },
      "source": [
        "Convert class vectors to binary class matrices"
      ]
    },
    {
      "cell_type": "code",
      "execution_count": null,
      "id": "46e440fc",
      "metadata": {
        "id": "46e440fc"
      },
      "outputs": [],
      "source": [
        "y_train=to_categorical(y_train,10)\n",
        "y_test=to_categorical(y_test,10)"
      ]
    },
    {
      "cell_type": "code",
      "execution_count": null,
      "id": "6bee49f6",
      "metadata": {
        "id": "6bee49f6",
        "outputId": "a91f6394-ad6b-4fc7-89b5-73dba08224cd"
      },
      "outputs": [
        {
          "name": "stdout",
          "output_type": "stream",
          "text": [
            "WARNING:tensorflow:From C:\\Users\\Mohit Tripathi\\AppData\\Roaming\\Python\\Python39\\site-packages\\keras\\src\\backend.py:873: The name tf.get_default_graph is deprecated. Please use tf.compat.v1.get_default_graph instead.\n",
            "\n",
            "WARNING:tensorflow:From C:\\Users\\Mohit Tripathi\\AppData\\Roaming\\Python\\Python39\\site-packages\\keras\\src\\layers\\pooling\\max_pooling2d.py:161: The name tf.nn.max_pool is deprecated. Please use tf.nn.max_pool2d instead.\n",
            "\n"
          ]
        }
      ],
      "source": [
        "model=Sequential()\n",
        "model.add(Conv2D(32,(3,3),padding='same',input_shape=(32,32,3),activation='relu'))\n",
        "model.add(Conv2D(32,(3,3),activation='relu'))\n",
        "model.add(MaxPooling2D(pool_size=(2,2)))\n",
        "model.add(Dropout(0.25))\n",
        "\n",
        "model.add(Conv2D(64,(3,3),padding='same',activation='relu'))\n",
        "model.add(Conv2D(32,(3,3),activation='relu'))\n",
        "model.add(MaxPooling2D(pool_size=(2,2)))\n",
        "model.add(Dropout(0.25))\n",
        "\n",
        "model.add(Flatten())\n",
        "model.add(Dense(512, activation='relu'))\n",
        "model.add(Dropout(0.5))\n",
        "model.add(Dense(10,activation='softmax'))"
      ]
    },
    {
      "cell_type": "markdown",
      "id": "551b942d",
      "metadata": {
        "id": "551b942d"
      },
      "source": [
        "Compile the model"
      ]
    },
    {
      "cell_type": "code",
      "execution_count": null,
      "id": "377cb83e",
      "metadata": {
        "id": "377cb83e",
        "outputId": "9e6499a0-90f6-4477-ce46-5695b576eb6e"
      },
      "outputs": [
        {
          "name": "stdout",
          "output_type": "stream",
          "text": [
            "WARNING:tensorflow:From C:\\Users\\Mohit Tripathi\\AppData\\Roaming\\Python\\Python39\\site-packages\\keras\\src\\optimizers\\__init__.py:309: The name tf.train.Optimizer is deprecated. Please use tf.compat.v1.train.Optimizer instead.\n",
            "\n",
            "Model: \"sequential\"\n",
            "_________________________________________________________________\n",
            " Layer (type)                Output Shape              Param #   \n",
            "=================================================================\n",
            " conv2d (Conv2D)             (None, 32, 32, 32)        896       \n",
            "                                                                 \n",
            " conv2d_1 (Conv2D)           (None, 30, 30, 32)        9248      \n",
            "                                                                 \n",
            " max_pooling2d (MaxPooling2  (None, 15, 15, 32)        0         \n",
            " D)                                                              \n",
            "                                                                 \n",
            " dropout (Dropout)           (None, 15, 15, 32)        0         \n",
            "                                                                 \n",
            " conv2d_2 (Conv2D)           (None, 15, 15, 64)        18496     \n",
            "                                                                 \n",
            " conv2d_3 (Conv2D)           (None, 13, 13, 32)        18464     \n",
            "                                                                 \n",
            " max_pooling2d_1 (MaxPoolin  (None, 6, 6, 32)          0         \n",
            " g2D)                                                            \n",
            "                                                                 \n",
            " dropout_1 (Dropout)         (None, 6, 6, 32)          0         \n",
            "                                                                 \n",
            " flatten (Flatten)           (None, 1152)              0         \n",
            "                                                                 \n",
            " dense (Dense)               (None, 512)               590336    \n",
            "                                                                 \n",
            " dropout_2 (Dropout)         (None, 512)               0         \n",
            "                                                                 \n",
            " dense_1 (Dense)             (None, 10)                5130      \n",
            "                                                                 \n",
            "=================================================================\n",
            "Total params: 642570 (2.45 MB)\n",
            "Trainable params: 642570 (2.45 MB)\n",
            "Non-trainable params: 0 (0.00 Byte)\n",
            "_________________________________________________________________\n"
          ]
        }
      ],
      "source": [
        "model.compile(\n",
        "    loss='categorical_crossentropy',\n",
        "    optimizer='adam',\n",
        "    metrics=['accuracy'])\n",
        "\n",
        "model.summary()"
      ]
    },
    {
      "cell_type": "code",
      "execution_count": null,
      "id": "ce900646",
      "metadata": {
        "id": "ce900646",
        "outputId": "67855fb0-e74e-4697-b3f3-dd31e8aef4ea"
      },
      "outputs": [
        {
          "name": "stdout",
          "output_type": "stream",
          "text": [
            "Epoch 1/15\n",
            "WARNING:tensorflow:From C:\\Users\\Mohit Tripathi\\AppData\\Roaming\\Python\\Python39\\site-packages\\keras\\src\\utils\\tf_utils.py:492: The name tf.ragged.RaggedTensorValue is deprecated. Please use tf.compat.v1.ragged.RaggedTensorValue instead.\n",
            "\n",
            "WARNING:tensorflow:From C:\\Users\\Mohit Tripathi\\AppData\\Roaming\\Python\\Python39\\site-packages\\keras\\src\\engine\\base_layer_utils.py:384: The name tf.executing_eagerly_outside_functions is deprecated. Please use tf.compat.v1.executing_eagerly_outside_functions instead.\n",
            "\n",
            "1563/1563 [==============================] - 94s 57ms/step - loss: 1.5850 - accuracy: 0.4174 - val_loss: 1.2208 - val_accuracy: 0.5546\n",
            "Epoch 2/15\n",
            "1563/1563 [==============================] - 89s 57ms/step - loss: 1.2334 - accuracy: 0.5577 - val_loss: 1.0420 - val_accuracy: 0.6330\n",
            "Epoch 3/15\n",
            "1563/1563 [==============================] - 88s 56ms/step - loss: 1.0947 - accuracy: 0.6122 - val_loss: 0.9229 - val_accuracy: 0.6728\n",
            "Epoch 4/15\n",
            "1563/1563 [==============================] - 109s 70ms/step - loss: 0.9950 - accuracy: 0.6511 - val_loss: 0.8808 - val_accuracy: 0.6886\n",
            "Epoch 5/15\n",
            "1563/1563 [==============================] - 88s 56ms/step - loss: 0.9260 - accuracy: 0.6775 - val_loss: 0.8285 - val_accuracy: 0.7101\n",
            "Epoch 6/15\n",
            "1563/1563 [==============================] - 93s 60ms/step - loss: 0.8764 - accuracy: 0.6924 - val_loss: 0.7853 - val_accuracy: 0.7247\n",
            "Epoch 7/15\n",
            "1563/1563 [==============================] - 100s 64ms/step - loss: 0.8438 - accuracy: 0.7036 - val_loss: 0.7591 - val_accuracy: 0.7337\n",
            "Epoch 8/15\n",
            "1563/1563 [==============================] - 117s 75ms/step - loss: 0.8139 - accuracy: 0.7145 - val_loss: 0.7480 - val_accuracy: 0.7392\n",
            "Epoch 9/15\n",
            "1563/1563 [==============================] - 108s 69ms/step - loss: 0.7824 - accuracy: 0.7244 - val_loss: 0.7157 - val_accuracy: 0.7534\n",
            "Epoch 10/15\n",
            "1563/1563 [==============================] - 113s 72ms/step - loss: 0.7538 - accuracy: 0.7355 - val_loss: 0.7146 - val_accuracy: 0.7509\n",
            "Epoch 11/15\n",
            "1563/1563 [==============================] - 119s 76ms/step - loss: 0.7383 - accuracy: 0.7406 - val_loss: 0.7302 - val_accuracy: 0.7485\n",
            "Epoch 12/15\n",
            "1563/1563 [==============================] - 85s 54ms/step - loss: 0.7232 - accuracy: 0.7468 - val_loss: 0.7224 - val_accuracy: 0.7559\n",
            "Epoch 13/15\n",
            "1563/1563 [==============================] - 88s 56ms/step - loss: 0.7083 - accuracy: 0.7543 - val_loss: 0.6962 - val_accuracy: 0.7681\n",
            "Epoch 14/15\n",
            "1563/1563 [==============================] - 60s 38ms/step - loss: 0.6906 - accuracy: 0.7601 - val_loss: 0.6794 - val_accuracy: 0.7642\n",
            "Epoch 15/15\n",
            "1563/1563 [==============================] - 48s 31ms/step - loss: 0.6778 - accuracy: 0.7625 - val_loss: 0.6744 - val_accuracy: 0.7685\n"
          ]
        },
        {
          "data": {
            "text/plain": [
              "<keras.src.callbacks.History at 0x24617de2d90>"
            ]
          },
          "execution_count": 7,
          "metadata": {},
          "output_type": "execute_result"
        }
      ],
      "source": [
        "model.fit(\n",
        "    X_train,\n",
        "    y_train,\n",
        "    batch_size=32,\n",
        "    epochs=15,\n",
        "    validation_data=(X_test, y_test),\n",
        "    shuffle=True)"
      ]
    },
    {
      "cell_type": "markdown",
      "id": "b85916cd",
      "metadata": {
        "id": "b85916cd"
      },
      "source": [
        "Save the neural network architecture"
      ]
    },
    {
      "cell_type": "code",
      "execution_count": null,
      "id": "f5f26fac",
      "metadata": {
        "id": "f5f26fac",
        "outputId": "a3fa0e19-6215-4d60-fe87-83c96a619e81"
      },
      "outputs": [
        {
          "data": {
            "text/plain": [
              "6342"
            ]
          },
          "execution_count": 8,
          "metadata": {},
          "output_type": "execute_result"
        }
      ],
      "source": [
        "model_structure=model.to_json()\n",
        "f=Path(\"model_structure.json\")\n",
        "f.write_text(model_structure)"
      ]
    },
    {
      "cell_type": "markdown",
      "id": "d9e4c566",
      "metadata": {
        "id": "d9e4c566"
      },
      "source": [
        "Save the trained neural network weights"
      ]
    },
    {
      "cell_type": "code",
      "execution_count": null,
      "id": "239e44bb",
      "metadata": {
        "id": "239e44bb"
      },
      "outputs": [],
      "source": [
        "model.save_weights(\"model_weight.h5\")"
      ]
    },
    {
      "cell_type": "markdown",
      "id": "79948eb7",
      "metadata": {
        "id": "79948eb7"
      },
      "source": [
        "Making Predictions on the images"
      ]
    },
    {
      "cell_type": "code",
      "execution_count": null,
      "id": "ac8c2361",
      "metadata": {
        "id": "ac8c2361"
      },
      "outputs": [],
      "source": [
        "from keras.models import model_from_json\n",
        "from pathlib import Path\n",
        "from keras.preprocessing import image\n",
        "import numpy as np"
      ]
    },
    {
      "cell_type": "code",
      "execution_count": null,
      "id": "fb0a679f",
      "metadata": {
        "id": "fb0a679f"
      },
      "outputs": [],
      "source": [
        "class_labels=[\n",
        "    \"Planes\",\n",
        "    \"car\",\n",
        "    \"Bird\",\n",
        "    \"Cat\",\n",
        "    \"Deer\",\n",
        "    \"Dog\",\n",
        "    \"Frog\",\n",
        "    \"Horse\",\n",
        "    \"Boat\",\n",
        "    \"Truck\"\n",
        "]"
      ]
    },
    {
      "cell_type": "markdown",
      "id": "7321a270",
      "metadata": {
        "id": "7321a270"
      },
      "source": [
        "load the json file that contains the mdoel structure"
      ]
    },
    {
      "cell_type": "code",
      "execution_count": null,
      "id": "734e4412",
      "metadata": {
        "id": "734e4412"
      },
      "outputs": [],
      "source": [
        "f=Path(\"model_structure.json\")\n",
        "model_structure=f.read_text()"
      ]
    },
    {
      "cell_type": "markdown",
      "id": "97916569",
      "metadata": {
        "id": "97916569"
      },
      "source": [
        "Recreate the keras modeel bject from the json data"
      ]
    },
    {
      "cell_type": "code",
      "execution_count": null,
      "id": "4c394d00",
      "metadata": {
        "id": "4c394d00"
      },
      "outputs": [],
      "source": [
        "model=model_from_json(model_structure)"
      ]
    },
    {
      "cell_type": "markdown",
      "id": "5c4bb980",
      "metadata": {
        "id": "5c4bb980"
      },
      "source": [
        "reload the model training weights"
      ]
    },
    {
      "cell_type": "code",
      "execution_count": null,
      "id": "687cb424",
      "metadata": {
        "id": "687cb424"
      },
      "outputs": [],
      "source": [
        "model.load_weights(\"model_weight.h5\")"
      ]
    },
    {
      "cell_type": "markdown",
      "id": "c4e74a76",
      "metadata": {
        "id": "c4e74a76"
      },
      "source": [
        "Load an image file to test"
      ]
    },
    {
      "cell_type": "code",
      "execution_count": null,
      "id": "a2db9d06",
      "metadata": {
        "id": "a2db9d06",
        "outputId": "91faa289-3227-41b0-a110-aa09be16f3be"
      },
      "outputs": [
        {
          "data": {
            "text/plain": [
              "<matplotlib.image.AxesImage at 0x2461a1597c0>"
            ]
          },
          "execution_count": 15,
          "metadata": {},
          "output_type": "execute_result"
        },
        {
          "data": {
            "image/png": "[encoded data removed]",
            "text/plain": [
              "<Figure size 432x288 with 1 Axes>"
            ]
          },
          "metadata": {
            "needs_background": "light"
          },
          "output_type": "display_data"
        }
      ],
      "source": [
        "import matplotlib.pyplot as plt\n",
        "from tensorflow.keras.utils import load_img, img_to_array\n",
        "img=load_img(\"dog.png\",target_size=(32,32))\n",
        "plt.imshow(img)"
      ]
    },
    {
      "cell_type": "markdown",
      "id": "50927d4d",
      "metadata": {
        "id": "50927d4d"
      },
      "source": [
        "Convert the image to a numpy array"
      ]
    },
    {
      "cell_type": "code",
      "execution_count": null,
      "id": "2fb78a06",
      "metadata": {
        "id": "2fb78a06"
      },
      "outputs": [],
      "source": [
        "from tensorflow.keras.utils import img_to_array\n",
        "image_to_test=img_to_array(img)"
      ]
    },
    {
      "cell_type": "code",
      "execution_count": null,
      "id": "bed3f5f0",
      "metadata": {
        "id": "bed3f5f0"
      },
      "outputs": [],
      "source": [
        "list_of_images=np.expand_dims(image_to_test,axis=0)"
      ]
    },
    {
      "cell_type": "markdown",
      "id": "ffae0cb9",
      "metadata": {
        "id": "ffae0cb9"
      },
      "source": [
        "make predictions using the model"
      ]
    },
    {
      "cell_type": "code",
      "execution_count": null,
      "id": "d446c4f1",
      "metadata": {
        "id": "d446c4f1",
        "outputId": "741cf6cf-6bbd-48dd-d165-871f6b76f1ab"
      },
      "outputs": [
        {
          "name": "stdout",
          "output_type": "stream",
          "text": [
            "1/1 [==============================] - 0s 202ms/step\n"
          ]
        }
      ],
      "source": [
        "results=model.predict(list_of_images)"
      ]
    },
    {
      "cell_type": "markdown",
      "id": "6f2133ac",
      "metadata": {
        "id": "6f2133ac"
      },
      "source": [
        "since we are only testing one image, we only need to check the first result"
      ]
    },
    {
      "cell_type": "code",
      "execution_count": null,
      "id": "44a42c96",
      "metadata": {
        "id": "44a42c96"
      },
      "outputs": [],
      "source": [
        "single_result=results[0]"
      ]
    },
    {
      "cell_type": "markdown",
      "id": "c60f7ba6",
      "metadata": {
        "id": "c60f7ba6"
      },
      "source": [
        "We will get a likeliood score for all 10 possible classes. Find out which class has the highest score"
      ]
    },
    {
      "cell_type": "code",
      "execution_count": null,
      "id": "10779292",
      "metadata": {
        "id": "10779292"
      },
      "outputs": [],
      "source": [
        "most_likely_class_index=int(np.argmax(single_result))\n",
        "class_likelihood=single_result[most_likely_class_index]"
      ]
    },
    {
      "cell_type": "markdown",
      "id": "cc36e25f",
      "metadata": {
        "id": "cc36e25f"
      },
      "source": [
        "Get the name of the most likely class"
      ]
    },
    {
      "cell_type": "code",
      "execution_count": null,
      "id": "1bb2f4b6",
      "metadata": {
        "id": "1bb2f4b6"
      },
      "outputs": [],
      "source": [
        "class_label=class_labels[most_likely_class_index]"
      ]
    },
    {
      "cell_type": "code",
      "execution_count": null,
      "id": "24e85335",
      "metadata": {
        "id": "24e85335",
        "outputId": "87a742a6-4ccf-4415-8c96-7b851bb057a9"
      },
      "outputs": [
        {
          "name": "stdout",
          "output_type": "stream",
          "text": [
            "This is a image is a Dog likelihood: 1.000000\n"
          ]
        }
      ],
      "source": [
        "print(\"This is a image is a {} likelihood: {:2f}\".format(class_label, class_likelihood))"
      ]
    },
    {
      "cell_type": "markdown",
      "id": "5f979727",
      "metadata": {
        "id": "5f979727"
      },
      "source": [
        "# Sentiment Classification using NLP and Classification Algorithm"
      ]
    },
    {
      "cell_type": "markdown",
      "id": "c1520765",
      "metadata": {
        "id": "c1520765"
      },
      "source": [
        "Sentiment Analysis is a means to identofy the view or emotion behind a situation.\n",
        "\n",
        "It basically means to analyse and find the emotion or intent behind a piece of text or speech or any model of communication.\n",
        "\n",
        "This burger has a very bad taste- negative review\n",
        "\n",
        "I ordered this pizza today- nutral sentiment/review\n",
        "\n",
        "I love this cheese sandwich, its so delicious- positive review"
      ]
    },
    {
      "cell_type": "code",
      "execution_count": null,
      "id": "d468a882",
      "metadata": {
        "id": "d468a882"
      },
      "outputs": [],
      "source": [
        "import pandas as pd\n",
        "import matplotlib.pyplot as plt\n",
        "import seaborn as sns\n",
        "import re"
      ]
    },
    {
      "cell_type": "code",
      "execution_count": null,
      "id": "08fe6da2",
      "metadata": {
        "id": "08fe6da2"
      },
      "outputs": [],
      "source": [
        "import nltk\n",
        "from nltk.corpus import stopwords\n",
        "from nltk.stem import WordNetLemmatizer"
      ]
    },
    {
      "cell_type": "code",
      "execution_count": null,
      "id": "9a3541c8",
      "metadata": {
        "id": "9a3541c8"
      },
      "outputs": [],
      "source": [
        "from sklearn.feature_extraction.text import CountVectorizer\n",
        "from sklearn.model_selection import GridSearchCV\n",
        "from sklearn.ensemble import RandomForestClassifier"
      ]
    },
    {
      "cell_type": "code",
      "execution_count": null,
      "id": "42a1df61",
      "metadata": {
        "id": "42a1df61"
      },
      "outputs": [],
      "source": [
        "from sklearn.metrics import accuracy_score, precision_score, recall_score, confusion_matrix, roc_curve\n",
        "from sklearn.metrics import classification_report, plot_confusion_matrix"
      ]
    },
    {
      "cell_type": "code",
      "execution_count": null,
      "id": "ec66505e",
      "metadata": {
        "id": "ec66505e"
      },
      "outputs": [],
      "source": [
        "df_train=pd.read_csv(\"train.txt\",delimiter=\";\",names=['text','label'])\n",
        "df_val=pd.read_csv(\"val.txt\",delimiter=\";\",names=['text','label'])"
      ]
    },
    {
      "cell_type": "code",
      "execution_count": null,
      "id": "e0f2be76",
      "metadata": {
        "id": "e0f2be76"
      },
      "outputs": [],
      "source": [
        "df=pd.concat([df_train, df_val])\n",
        "df.reset_index(inplace=True, drop=True)"
      ]
    },
    {
      "cell_type": "code",
      "execution_count": null,
      "id": "018bba82",
      "metadata": {
        "id": "018bba82",
        "outputId": "a25b09c8-31dd-4a40-ffae-15d1858f2228"
      },
      "outputs": [
        {
          "name": "stdout",
          "output_type": "stream",
          "text": [
            "Shape of the dataframe:  (18000, 2)\n"
          ]
        },
        {
          "data": {
            "text/html": [
              "<div>\n",
              "<style scoped>\n",
              "    .dataframe tbody tr th:only-of-type {\n",
              "        vertical-align: middle;\n",
              "    }\n",
              "\n",
              "    .dataframe tbody tr th {\n",
              "        vertical-align: top;\n",
              "    }\n",
              "\n",
              "    .dataframe thead th {\n",
              "        text-align: right;\n",
              "    }\n",
              "</style>\n",
              "<table border=\"1\" class=\"dataframe\">\n",
              "  <thead>\n",
              "    <tr style=\"text-align: right;\">\n",
              "      <th></th>\n",
              "      <th>text</th>\n",
              "      <th>label</th>\n",
              "    </tr>\n",
              "  </thead>\n",
              "  <tbody>\n",
              "    <tr>\n",
              "      <th>10049</th>\n",
              "      <td>i feel pissed my friend didnt offer me a soda</td>\n",
              "      <td>anger</td>\n",
              "    </tr>\n",
              "    <tr>\n",
              "      <th>8874</th>\n",
              "      <td>i don t have the longevity or experience in th...</td>\n",
              "      <td>surprise</td>\n",
              "    </tr>\n",
              "    <tr>\n",
              "      <th>938</th>\n",
              "      <td>i feel like this shows the change that many co...</td>\n",
              "      <td>joy</td>\n",
              "    </tr>\n",
              "    <tr>\n",
              "      <th>3614</th>\n",
              "      <td>im honest i had already began to feel that i l...</td>\n",
              "      <td>love</td>\n",
              "    </tr>\n",
              "    <tr>\n",
              "      <th>11859</th>\n",
              "      <td>i wonder if he feels like i dont care about hi...</td>\n",
              "      <td>love</td>\n",
              "    </tr>\n",
              "  </tbody>\n",
              "</table>\n",
              "</div>"
            ],
            "text/plain": [
              "                                                    text     label\n",
              "10049      i feel pissed my friend didnt offer me a soda     anger\n",
              "8874   i don t have the longevity or experience in th...  surprise\n",
              "938    i feel like this shows the change that many co...       joy\n",
              "3614   im honest i had already began to feel that i l...      love\n",
              "11859  i wonder if he feels like i dont care about hi...      love"
            ]
          },
          "execution_count": 40,
          "metadata": {},
          "output_type": "execute_result"
        }
      ],
      "source": [
        "print(\"Shape of the dataframe: \",df.shape)\n",
        "df.sample(5)"
      ]
    },
    {
      "cell_type": "code",
      "execution_count": null,
      "id": "f8d593a0",
      "metadata": {
        "id": "f8d593a0",
        "outputId": "7a5f6d5c-04d0-4f6a-827b-67449034a6ca"
      },
      "outputs": [
        {
          "data": {
            "text/plain": [
              "<AxesSubplot:xlabel='label', ylabel='count'>"
            ]
          },
          "execution_count": 41,
          "metadata": {},
          "output_type": "execute_result"
        },
        {
          "data": {
            "image/png": "[encoded data removed]",
            "text/plain": [
              "<Figure size 432x288 with 1 Axes>"
            ]
          },
          "metadata": {
            "needs_background": "light"
          },
          "output_type": "display_data"
        }
      ],
      "source": [
        "import warnings\n",
        "warnings.filterwarnings(\"ignore\")\n",
        "\n",
        "sns.countplot(df.label)"
      ]
    },
    {
      "cell_type": "markdown",
      "id": "7b731f5c",
      "metadata": {
        "id": "7b731f5c"
      },
      "source": [
        "Positve Sentiment- joy, love, surprise\n",
        "\n",
        "Negative sentiment- anger, sadness, fear\n",
        "\n",
        "Now we will create a custom encoder to convert categorical target labels to numerical i.e 0 and 1"
      ]
    },
    {
      "cell_type": "code",
      "execution_count": null,
      "id": "72c04dd0",
      "metadata": {
        "id": "72c04dd0"
      },
      "outputs": [],
      "source": [
        "def custom_encoder(df):\n",
        "    df.replace(to_replace=\"surprise\",value=1, inplace=True)\n",
        "    df.replace(to_replace=\"love\",value=1, inplace=True)\n",
        "    df.replace(to_replace=\"joy\",value=1, inplace=True)\n",
        "    df.replace(to_replace=\"fear\",value=0, inplace=True)\n",
        "    df.replace(to_replace=\"anger\",value=0, inplace=True)\n",
        "    df.replace(to_replace=\"sadness\",value=0, inplace=True)"
      ]
    },
    {
      "cell_type": "code",
      "execution_count": null,
      "id": "aa4f0712",
      "metadata": {
        "id": "aa4f0712"
      },
      "outputs": [],
      "source": [
        "custom_encoder(df['label'])"
      ]
    },
    {
      "cell_type": "code",
      "execution_count": null,
      "id": "c00d718b",
      "metadata": {
        "id": "c00d718b",
        "outputId": "3c4055ad-d086-4029-d8e4-2bb162a0bf22"
      },
      "outputs": [
        {
          "data": {
            "text/plain": [
              "<AxesSubplot:xlabel='label', ylabel='count'>"
            ]
          },
          "execution_count": 44,
          "metadata": {},
          "output_type": "execute_result"
        },
        {
          "data": {
            "image/png": "[encoded data removed]",
            "text/plain": [
              "<Figure size 432x288 with 1 Axes>"
            ]
          },
          "metadata": {
            "needs_background": "light"
          },
          "output_type": "display_data"
        }
      ],
      "source": [
        "sns.countplot(df.label)"
      ]
    },
    {
      "cell_type": "markdown",
      "id": "4e9fbd82",
      "metadata": {
        "id": "4e9fbd82"
      },
      "source": [
        "Preprocessing Steps\n",
        "\n",
        "Get rid of any characters apart from alphabets\n",
        "\n",
        "Convert the string to lowercase because Python is case-sensitive\n",
        "\n",
        "Check and remove the stopwords\n",
        "\n",
        "Perform lemmatization"
      ]
    },
    {
      "cell_type": "code",
      "execution_count": null,
      "id": "f92577c7",
      "metadata": {
        "id": "f92577c7"
      },
      "outputs": [],
      "source": [
        "lm=WordNetLemmatizer()"
      ]
    },
    {
      "cell_type": "code",
      "execution_count": null,
      "id": "3f348860",
      "metadata": {
        "id": "3f348860"
      },
      "outputs": [],
      "source": [
        "def text_transformation(df_col):\n",
        "    corpus=[]\n",
        "    for item in df_col:\n",
        "        new_item=re.sub('[^a-zA-Z]',' ',str(item))\n",
        "        new_item=new_item.lower()\n",
        "        new_item=new_item.split()\n",
        "        new_item=[lm.lemmatize(word) for word in new_item if word not in set(stopwords.words('english'))]\n",
        "        corpus.append(' '.join(str(x) for x in new_item))\n",
        "    return corpus"
      ]
    },
    {
      "cell_type": "code",
      "execution_count": null,
      "id": "e906eec6",
      "metadata": {
        "id": "e906eec6"
      },
      "outputs": [],
      "source": [
        "corpus=text_transformation(df['text'])"
      ]
    },
    {
      "cell_type": "code",
      "execution_count": null,
      "id": "440429f9",
      "metadata": {
        "id": "440429f9"
      },
      "outputs": [],
      "source": [
        "cv=CountVectorizer(ngram_range=(1,2))\n",
        "traindata=cv.fit_transform(corpus)\n",
        "X=traindata\n",
        "y=df.label"
      ]
    },
    {
      "cell_type": "markdown",
      "id": "4abf168e",
      "metadata": {
        "id": "4abf168e"
      },
      "source": [
        "Now we will fit the data into gri search and view the best parameters using the best_params attribute"
      ]
    },
    {
      "cell_type": "code",
      "execution_count": null,
      "id": "ef636fa0",
      "metadata": {
        "id": "ef636fa0"
      },
      "outputs": [],
      "source": [
        "parameters={'max_features':('auto','sqrt'),\n",
        "            'n_estimators':[5,10],\n",
        "            'max_depth':[10,None],\n",
        "            'min_samples_split':[5],\n",
        "            'min_samples_leaf':[1],\n",
        "            'bootstrap':[True]\n",
        "           }"
      ]
    },
    {
      "cell_type": "code",
      "execution_count": null,
      "id": "33d86fc3",
      "metadata": {
        "id": "33d86fc3",
        "outputId": "45788a73-97cc-4d41-f9b7-822709a87241"
      },
      "outputs": [
        {
          "data": {
            "text/plain": [
              "{'bootstrap': True,\n",
              " 'max_depth': None,\n",
              " 'max_features': 'sqrt',\n",
              " 'min_samples_leaf': 1,\n",
              " 'min_samples_split': 5,\n",
              " 'n_estimators': 10}"
            ]
          },
          "execution_count": 50,
          "metadata": {},
          "output_type": "execute_result"
        }
      ],
      "source": [
        "grid_search=GridSearchCV(RandomForestClassifier(), parameters, cv=5, return_train_score=True,n_jobs=-1)\n",
        "grid_search.fit(X,y)\n",
        "grid_search.best_params_"
      ]
    },
    {
      "cell_type": "markdown",
      "id": "7d63778f",
      "metadata": {
        "id": "7d63778f"
      },
      "source": [
        "We can view all the models and their respective parameters, mean test score and rank as GridSearch CV"
      ]
    },
    {
      "cell_type": "code",
      "execution_count": null,
      "id": "bdf4e5e6",
      "metadata": {
        "id": "bdf4e5e6",
        "outputId": "5663e7b8-4309-4ca3-f480-8a16ff45c9e1"
      },
      "outputs": [
        {
          "name": "stdout",
          "output_type": "stream",
          "text": [
            "Parameters:  {'bootstrap': True, 'max_depth': 10, 'max_features': 'auto', 'min_samples_leaf': 1, 'min_samples_split': 5, 'n_estimators': 5}\n",
            "Mean test Score:  0.6022222222222222\n",
            "Rank:  [7 6 8 5 4 2 3 1]\n",
            "Parameters:  {'bootstrap': True, 'max_depth': 10, 'max_features': 'auto', 'min_samples_leaf': 1, 'min_samples_split': 5, 'n_estimators': 10}\n",
            "Mean test Score:  0.6168888888888889\n",
            "Rank:  [7 6 8 5 4 2 3 1]\n",
            "Parameters:  {'bootstrap': True, 'max_depth': 10, 'max_features': 'sqrt', 'min_samples_leaf': 1, 'min_samples_split': 5, 'n_estimators': 5}\n",
            "Mean test Score:  0.5995555555555556\n",
            "Rank:  [7 6 8 5 4 2 3 1]\n",
            "Parameters:  {'bootstrap': True, 'max_depth': 10, 'max_features': 'sqrt', 'min_samples_leaf': 1, 'min_samples_split': 5, 'n_estimators': 10}\n",
            "Mean test Score:  0.6213888888888889\n",
            "Rank:  [7 6 8 5 4 2 3 1]\n",
            "Parameters:  {'bootstrap': True, 'max_depth': None, 'max_features': 'auto', 'min_samples_leaf': 1, 'min_samples_split': 5, 'n_estimators': 5}\n",
            "Mean test Score:  0.9111111111111111\n",
            "Rank:  [7 6 8 5 4 2 3 1]\n",
            "Parameters:  {'bootstrap': True, 'max_depth': None, 'max_features': 'auto', 'min_samples_leaf': 1, 'min_samples_split': 5, 'n_estimators': 10}\n",
            "Mean test Score:  0.9383333333333332\n",
            "Rank:  [7 6 8 5 4 2 3 1]\n",
            "Parameters:  {'bootstrap': True, 'max_depth': None, 'max_features': 'sqrt', 'min_samples_leaf': 1, 'min_samples_split': 5, 'n_estimators': 5}\n",
            "Mean test Score:  0.9186111111111112\n",
            "Rank:  [7 6 8 5 4 2 3 1]\n",
            "Parameters:  {'bootstrap': True, 'max_depth': None, 'max_features': 'sqrt', 'min_samples_leaf': 1, 'min_samples_split': 5, 'n_estimators': 10}\n",
            "Mean test Score:  0.9400000000000001\n",
            "Rank:  [7 6 8 5 4 2 3 1]\n"
          ]
        }
      ],
      "source": [
        "for i in range(8):\n",
        "    print('Parameters: ', grid_search.cv_results_['params'][i])\n",
        "    print('Mean test Score: ',grid_search.cv_results_['mean_test_score'][i])\n",
        "    print(\"Rank: \",grid_search.cv_results_['rank_test_score'])"
      ]
    },
    {
      "cell_type": "markdown",
      "id": "d8fd6fad",
      "metadata": {
        "id": "d8fd6fad"
      },
      "source": [
        "Now we will choose the best parameter obtained from GridSearchCV and create a final random forest classifier model and then train our model."
      ]
    },
    {
      "cell_type": "code",
      "execution_count": null,
      "id": "5a3ff17f",
      "metadata": {
        "id": "5a3ff17f",
        "outputId": "bffc462c-56f2-4a4d-b5db-e00f3e7e23d1"
      },
      "outputs": [
        {
          "data": {
            "text/plain": [
              "RandomForestClassifier(max_features='sqrt', min_samples_split=5,\n",
              "                       n_estimators=10)"
            ]
          },
          "execution_count": 52,
          "metadata": {},
          "output_type": "execute_result"
        }
      ],
      "source": [
        "rfc= RandomForestClassifier(max_features=grid_search.best_params_['max_features'],\n",
        "                           max_depth=grid_search.best_params_['max_depth'],\n",
        "                           n_estimators=grid_search.best_params_['n_estimators'],\n",
        "                           min_samples_split=grid_search.best_params_['min_samples_split'],\n",
        "                           min_samples_leaf=grid_search.best_params_['min_samples_leaf'],\n",
        "                           bootstrap=grid_search.best_params_['bootstrap'])\n",
        "\n",
        "rfc.fit(X,y)"
      ]
    },
    {
      "cell_type": "markdown",
      "id": "4814cdb9",
      "metadata": {
        "id": "4814cdb9"
      },
      "source": [
        "Test Data Transformation"
      ]
    },
    {
      "cell_type": "code",
      "execution_count": null,
      "id": "aa1acb84",
      "metadata": {
        "id": "aa1acb84"
      },
      "outputs": [],
      "source": [
        "test_df=pd.read_csv('test.txt',delimiter=';',names=['text','label'])"
      ]
    },
    {
      "cell_type": "code",
      "execution_count": null,
      "id": "0251f90c",
      "metadata": {
        "id": "0251f90c"
      },
      "outputs": [],
      "source": [
        "X_test, y_test=test_df.text, test_df.label\n",
        "\n",
        "# encode the labels into two classes 0 and 1\n",
        "test_df= custom_encoder(y_test)\n",
        "\n",
        "# preprocessing of text\n",
        "test_corpus=text_transformation(X_test)\n",
        "\n",
        "# convert the text data into vectors\n",
        "testdata=cv.transform(test_corpus)\n",
        "\n",
        "#predict the target\n",
        "predictions=rfc.predict(testdata)"
      ]
    },
    {
      "cell_type": "markdown",
      "id": "8274a35f",
      "metadata": {
        "id": "8274a35f"
      },
      "source": [
        "Model Evaluation\n",
        "\n",
        "We will evaluate our model using various metrics such as accuracy score, precision score, recall score confusion matrix."
      ]
    },
    {
      "cell_type": "code",
      "execution_count": null,
      "id": "351c59be",
      "metadata": {
        "id": "351c59be",
        "outputId": "0dec9d63-abf6-4f4a-ba5e-f0e83a7380a3"
      },
      "outputs": [
        {
          "name": "stdout",
          "output_type": "stream",
          "text": [
            "Accuracy Score: 0.951\n",
            "Precision Score: 0.9516483516483516\n",
            "Recall Score 0.941304347826087\n",
            "--------------------------------------------------\n",
            "              precision    recall  f1-score   support\n",
            "\n",
            "           0       0.95      0.96      0.95      1080\n",
            "           1       0.95      0.94      0.95       920\n",
            "\n",
            "    accuracy                           0.95      2000\n",
            "   macro avg       0.95      0.95      0.95      2000\n",
            "weighted avg       0.95      0.95      0.95      2000\n",
            "\n"
          ]
        }
      ],
      "source": [
        "acc_score= accuracy_score(y_test, predictions)\n",
        "pre_score= precision_score(y_test, predictions)\n",
        "rec_score=recall_score(y_test, predictions)\n",
        "\n",
        "print('Accuracy Score:',acc_score)\n",
        "print(\"Precision Score:\",pre_score)\n",
        "print('Recall Score',rec_score)\n",
        "\n",
        "print(\"-\"*50)\n",
        "\n",
        "cr=classification_report(y_test, predictions)\n",
        "print(cr)"
      ]
    },
    {
      "cell_type": "markdown",
      "id": "4e49a1cd",
      "metadata": {
        "id": "4e49a1cd"
      },
      "source": [
        "ROC Curve- We will plot probability of the class using the predict_proba() method of random forest classifier and then we will plot the cureve"
      ]
    },
    {
      "cell_type": "code",
      "execution_count": null,
      "id": "d7ca1d45",
      "metadata": {
        "id": "d7ca1d45",
        "outputId": "2af7b671-c09a-4afb-a0f6-19454925d4f0"
      },
      "outputs": [
        {
          "data": {
            "image/png": "[encoded data removed]",
            "text/plain": [
              "<Figure size 432x288 with 1 Axes>"
            ]
          },
          "metadata": {
            "needs_background": "light"
          },
          "output_type": "display_data"
        }
      ],
      "source": [
        "predictions_probability= rfc.predict_proba(testdata)\n",
        "fpr,tpr,thresholds=roc_curve(y_test, predictions_probability[:,1])\n",
        "\n",
        "plt.plot(fpr,tpr)\n",
        "plt.plot([0,1])\n",
        "plt.title('ROC Curve')\n",
        "plt.xlabel('False Positive Rate')\n",
        "plt.ylabel('True Positive Rate')\n",
        "plt.show()"
      ]
    },
    {
      "cell_type": "markdown",
      "id": "cc2b951b",
      "metadata": {
        "id": "cc2b951b"
      },
      "source": [
        "As we cna see that our model performed very well in classifying the sentiments, with an accuracy score, precision score and recall score of approx 96%.\n",
        "\n",
        "Now we will check for custom input as well and let our model identify the sentiment of the input statement."
      ]
    },
    {
      "cell_type": "code",
      "execution_count": null,
      "id": "48ac9a93",
      "metadata": {
        "id": "48ac9a93"
      },
      "outputs": [],
      "source": [
        "def expression_check(prediction_input):\n",
        "    if prediction_input==0:\n",
        "        print(\"Input statement has negative sentiment\")\n",
        "    elif prediction_input==1:\n",
        "        print(\"Input statement has positive sentiment\")\n",
        "    else:\n",
        "        print(\"Invalid Statement\")"
      ]
    },
    {
      "cell_type": "markdown",
      "id": "12cc1e76",
      "metadata": {
        "id": "12cc1e76"
      },
      "source": [
        "Function to take the input statement and performs the same transformation as we did earlier"
      ]
    },
    {
      "cell_type": "code",
      "execution_count": null,
      "id": "e521f68a",
      "metadata": {
        "id": "e521f68a"
      },
      "outputs": [],
      "source": [
        "def sentiment_predictor(input):\n",
        "    input=text_transformation(input)\n",
        "    transformed_input=cv.transform(input)\n",
        "    prediction=rfc.predict(transformed_input)\n",
        "    expression_check(prediction)"
      ]
    },
    {
      "cell_type": "code",
      "execution_count": null,
      "id": "19cd2886",
      "metadata": {
        "id": "19cd2886"
      },
      "outputs": [],
      "source": [
        "input1=[\"Sometimes I just don't want to go out\"]\n",
        "input2=[\"I bought a new phone and it's so good\"]"
      ]
    },
    {
      "cell_type": "code",
      "execution_count": null,
      "id": "2fa3b3c2",
      "metadata": {
        "id": "2fa3b3c2",
        "outputId": "2596f9bd-f03b-46b3-e448-b14d61686d66"
      },
      "outputs": [
        {
          "name": "stdout",
          "output_type": "stream",
          "text": [
            "Input statement has negative sentiment\n",
            "Input statement has positive sentiment\n"
          ]
        }
      ],
      "source": [
        "sentiment_predictor(input1)\n",
        "sentiment_predictor(input2)"
      ]
    },
    {
      "cell_type": "markdown",
      "id": "4fea166a",
      "metadata": {
        "id": "4fea166a"
      },
      "source": [
        "# Chatbot using NLP and Neural Networks in Python"
      ]
    },
    {
      "cell_type": "markdown",
      "id": "51688169",
      "metadata": {
        "id": "51688169"
      },
      "source": [
        "Tag means classes\n",
        "\n",
        "Patterns means what user is going to ask\n",
        "\n",
        "Response is chatbot response"
      ]
    },
    {
      "cell_type": "code",
      "execution_count": null,
      "id": "807ba0ff",
      "metadata": {
        "id": "807ba0ff"
      },
      "outputs": [],
      "source": [
        "data={\"intents\":[\n",
        "    {\"tag\":\"greeting\",\n",
        "     \"patterns\":[\"Hello\",\"How are you?\",\"Hi There\",\"Hi\",\"What's up\"],\n",
        "     \"responses\":[\"Howdy Partner!\",\"Hello\",\"How are you doing?\",\"Greetings!\",\"How do you do\"]\n",
        "        },\n",
        "    {\"tag\":\"age\",\n",
        "     \"patterns\":[\"how old are you\",\"when is your birthday\",\"when was you born\"],\n",
        "     \"responses\":[\"I am 24 years old\",\"I was born in 1966\",\"My birthday is July 3rd and I was born in 1996\",\"03/07/1996\"]\n",
        "        },\n",
        "    {\"tag\":\"date\",\n",
        "     \"patterns\":[\"what are you doing this weekend\",\n",
        "                \"do you want to hangout sometime?\",\"what are your plans for this week\"],\n",
        "     \"responses\":[\"I am available this week\",\"I don't have any plans\",\"I am not busy\"]\n",
        "        },\n",
        "      {\"tag\":\"name\",\n",
        "      \"patterns\":[\"what's your name\",\"what are you called\",\"who are you\"],\n",
        "      \"responses\":[\"My name is Kippi\",\"I'm Kippi\",\"Kippi\"]\n",
        "          },\n",
        "      {\"tag\":\"goodbye\",\n",
        "      \"patterns\":[\"bye\",\"g2g\",\"see ya\",\"adios\",\"cya\"],\n",
        "      \"responses\":[\"It was nice speaking to you\",\"See you later\",\"Speak Soon\"]\n",
        "          },\n",
        "  ]}"
      ]
    },
    {
      "cell_type": "markdown",
      "id": "b49b83cf",
      "metadata": {
        "id": "b49b83cf"
      },
      "source": [
        "For each tag we created, we would specify patterns. Essentially this defines the different ways of how a user may pose a query to the chatbot.\n",
        "\n",
        "The chatbot would then take these patterns and use them as training data to determine what someone is asking and the chatbot response would be relevant to that qustion."
      ]
    },
    {
      "cell_type": "code",
      "execution_count": null,
      "id": "80a5df54",
      "metadata": {
        "id": "80a5df54",
        "outputId": "b1594ed5-09fc-4ac0-c887-8769b34c3cbb"
      },
      "outputs": [
        {
          "name": "stderr",
          "output_type": "stream",
          "text": [
            "[nltk_data] Downloading package punkt to C:\\Users\\Mohit\n",
            "[nltk_data]     Tripathi\\AppData\\Roaming\\nltk_data...\n",
            "[nltk_data]   Package punkt is already up-to-date!\n",
            "[nltk_data] Downloading package wordnet to C:\\Users\\Mohit\n",
            "[nltk_data]     Tripathi\\AppData\\Roaming\\nltk_data...\n",
            "[nltk_data]   Package wordnet is already up-to-date!\n"
          ]
        },
        {
          "data": {
            "text/plain": [
              "True"
            ]
          },
          "execution_count": 63,
          "metadata": {},
          "output_type": "execute_result"
        }
      ],
      "source": [
        "import json\n",
        "import string\n",
        "import random\n",
        "\n",
        "import nltk\n",
        "import numpy as np\n",
        "from nltk.stem import WordNetLemmatizer\n",
        "\n",
        "import tensorflow as tf\n",
        "from tensorflow.keras import Sequential\n",
        "from tensorflow.keras.layers import Dense,Dropout\n",
        "\n",
        "nltk.download(\"punkt\")\n",
        "nltk.download(\"wordnet\")"
      ]
    },
    {
      "cell_type": "markdown",
      "id": "b808bbe3",
      "metadata": {
        "id": "b808bbe3"
      },
      "source": [
        "In order to create our training data below steps to be followed\n",
        "\n",
        "Create a vocabulary of all the words used in the patterns\n",
        "\n",
        "Create a list of the classes- tage of ach intent\n",
        "\n",
        "Create a list of all the patterns within the intents file\n",
        "\n",
        "Create a list of all the associated tags to go with each patterns in the intents file."
      ]
    },
    {
      "cell_type": "markdown",
      "id": "c2ec9316",
      "metadata": {
        "id": "c2ec9316"
      },
      "source": [
        "Initialising lemmatier to get stem of words"
      ]
    },
    {
      "cell_type": "code",
      "execution_count": null,
      "id": "de2cd01e",
      "metadata": {
        "id": "de2cd01e"
      },
      "outputs": [],
      "source": [
        "lemmatizer=WordNetLemmatizer()\n",
        "\n",
        "words=[]\n",
        "classes=[]\n",
        "doc_x=[]\n",
        "doc_y=[]"
      ]
    },
    {
      "cell_type": "markdown",
      "id": "e1688bf1",
      "metadata": {
        "id": "e1688bf1"
      },
      "source": [
        "Loop through all the intents\n",
        "\n",
        "Tokenize each patter and append token to words, the patterns and the associated tag to their associated list"
      ]
    },
    {
      "cell_type": "code",
      "execution_count": null,
      "id": "1a450238",
      "metadata": {
        "id": "1a450238"
      },
      "outputs": [],
      "source": [
        "for intent in data[\"intents\"]:\n",
        "    for pattern in intent[\"patterns\"]:\n",
        "        tokens=nltk.word_tokenize(pattern)\n",
        "        words.extend(tokens)\n",
        "        doc_x.append(pattern)\n",
        "        doc_y.append(intent[\"tag\"])\n",
        "    if intent[\"tag\"] not in classes:\n",
        "        classes.append(intent[\"tag\"])"
      ]
    },
    {
      "cell_type": "markdown",
      "id": "510f070a",
      "metadata": {
        "id": "510f070a"
      },
      "source": [
        "Lemmatize all the words in the vocab and convert them to lowercase"
      ]
    },
    {
      "cell_type": "code",
      "execution_count": null,
      "id": "8ccf5305",
      "metadata": {
        "id": "8ccf5305"
      },
      "outputs": [],
      "source": [
        "words=[lemmatizer.lemmatize(word.lower()) for word in words if word not in string.punctuation]"
      ]
    },
    {
      "cell_type": "markdown",
      "id": "7745d3a3",
      "metadata": {
        "id": "7745d3a3"
      },
      "source": [
        "Sorting the vocab and classes in alphabeical order and taking the set to ensure no duplicates occur"
      ]
    },
    {
      "cell_type": "code",
      "execution_count": null,
      "id": "68f1bdc9",
      "metadata": {
        "id": "68f1bdc9"
      },
      "outputs": [],
      "source": [
        "words=sorted(set(words))\n",
        "classes=sorted(set(classes))"
      ]
    },
    {
      "cell_type": "code",
      "execution_count": null,
      "id": "63a2b05e",
      "metadata": {
        "id": "63a2b05e",
        "outputId": "2f6eb671-c268-4687-9533-f79fa956da1f"
      },
      "outputs": [
        {
          "name": "stdout",
          "output_type": "stream",
          "text": [
            "[\"'s\", 'adios', 'are', 'birthday', 'born', 'bye', 'called', 'cya', 'do', 'doing', 'for', 'g2g', 'hangout', 'hello', 'hi', 'how', 'is', 'name', 'old', 'plan', 'see', 'sometime', 'there', 'this', 'to', 'up', 'wa', 'want', 'week', 'weekend', 'what', 'when', 'who', 'ya', 'you', 'your']\n"
          ]
        }
      ],
      "source": [
        "print(words)"
      ]
    },
    {
      "cell_type": "code",
      "execution_count": null,
      "id": "c4406408",
      "metadata": {
        "id": "c4406408",
        "outputId": "1f4d92bb-1241-4285-a72b-e79f3ce5a239"
      },
      "outputs": [
        {
          "name": "stdout",
          "output_type": "stream",
          "text": [
            "['age', 'date', 'goodbye', 'greeting', 'name']\n"
          ]
        }
      ],
      "source": [
        "print(classes)"
      ]
    },
    {
      "cell_type": "code",
      "execution_count": null,
      "id": "a9087dda",
      "metadata": {
        "id": "a9087dda",
        "outputId": "585ba98d-0f89-440e-b4a3-e544204cddd9"
      },
      "outputs": [
        {
          "name": "stdout",
          "output_type": "stream",
          "text": [
            "['Hello', 'How are you?', 'Hi There', 'Hi', \"What's up\", 'how old are you', 'when is your birthday', 'when was you born', 'what are you doing this weekend', 'do you want to hangout sometime?', 'what are your plans for this week', \"what's your name\", 'what are you called', 'who are you', 'bye', 'g2g', 'see ya', 'adios', 'cya']\n"
          ]
        }
      ],
      "source": [
        "print(doc_x)"
      ]
    },
    {
      "cell_type": "code",
      "execution_count": null,
      "id": "5b8cd34f",
      "metadata": {
        "id": "5b8cd34f",
        "outputId": "5e2a1b40-5439-457e-e0d2-1656a7647203"
      },
      "outputs": [
        {
          "name": "stdout",
          "output_type": "stream",
          "text": [
            "['greeting', 'greeting', 'greeting', 'greeting', 'greeting', 'age', 'age', 'age', 'date', 'date', 'date', 'name', 'name', 'name', 'goodbye', 'goodbye', 'goodbye', 'goodbye', 'goodbye']\n"
          ]
        }
      ],
      "source": [
        "print(doc_y)"
      ]
    },
    {
      "cell_type": "markdown",
      "id": "082b1a63",
      "metadata": {
        "id": "082b1a63"
      },
      "source": [
        "List for training data"
      ]
    },
    {
      "cell_type": "code",
      "execution_count": null,
      "id": "102bde70",
      "metadata": {
        "id": "102bde70"
      },
      "outputs": [],
      "source": [
        "training=[]\n",
        "out_empty=[0]*len(classes)\n",
        "\n",
        "# creating a bag of words model\n",
        "\n",
        "for idx, doc in enumerate(doc_x):\n",
        "    bow=[]\n",
        "    text=lemmatizer.lemmatize(doc.lower())\n",
        "    for word in words:\n",
        "        bow.append(1) if word in text else bow.append(0)\n",
        "    output_row=list(out_empty)\n",
        "    output_row[classes.index(doc_y[idx])]=1\n",
        "\n",
        "    training.append([bow, output_row])\n",
        "\n",
        "random.shuffle(training)\n",
        "\n",
        "training=np.array(training,dtype=object)\n",
        "\n",
        "train_X=np.array(list(training[:,0]))\n",
        "train_y=np.array(list(training[:,1]))"
      ]
    },
    {
      "cell_type": "markdown",
      "id": "4928eeb9",
      "metadata": {
        "id": "4928eeb9"
      },
      "source": [
        "The model will look at the features and predict the tagasscoiated with the features and then will select an appropiate message/response from the tag."
      ]
    },
    {
      "cell_type": "code",
      "execution_count": null,
      "id": "3dd197f0",
      "metadata": {
        "id": "3dd197f0"
      },
      "outputs": [],
      "source": [
        "input_shape=(len(train_X[0]),)\n",
        "output_shape=len(train_y[0])\n",
        "\n",
        "epochs=500"
      ]
    },
    {
      "cell_type": "code",
      "execution_count": null,
      "id": "eb73c7d9",
      "metadata": {
        "id": "eb73c7d9",
        "outputId": "bed78df2-5b4b-4cf8-9535-767b77faefe2"
      },
      "outputs": [
        {
          "name": "stdout",
          "output_type": "stream",
          "text": [
            "Model: \"sequential_1\"\n",
            "_________________________________________________________________\n",
            " Layer (type)                Output Shape              Param #   \n",
            "=================================================================\n",
            " dense_2 (Dense)             (None, 128)               4736      \n",
            "                                                                 \n",
            " dropout_3 (Dropout)         (None, 128)               0         \n",
            "                                                                 \n",
            " dense_3 (Dense)             (None, 64)                8256      \n",
            "                                                                 \n",
            " dropout_4 (Dropout)         (None, 64)                0         \n",
            "                                                                 \n",
            " dense_4 (Dense)             (None, 5)                 325       \n",
            "                                                                 \n",
            "=================================================================\n",
            "Total params: 13317 (52.02 KB)\n",
            "Trainable params: 13317 (52.02 KB)\n",
            "Non-trainable params: 0 (0.00 Byte)\n",
            "_________________________________________________________________\n",
            "None\n"
          ]
        }
      ],
      "source": [
        "from tensorflow.keras.models import Sequential\n",
        "from tensorflow.keras.layers import Dense, Dropout\n",
        "\n",
        "# Create a Sequential model\n",
        "model = Sequential()\n",
        "model.add(Dense(128, input_shape=input_shape, activation='relu'))\n",
        "model.add(Dropout(0.5))\n",
        "model.add(Dense(64, activation='relu'))\n",
        "model.add(Dropout(0.3))\n",
        "model.add(Dense(output_shape, activation='softmax'))\n",
        "\n",
        "# Create the Adam optimizer with a specified learning rate\n",
        "adam = tf.keras.optimizers.Adam(learning_rate=0.01)\n",
        "\n",
        "# Compile the model using the Adam optimizer\n",
        "model.compile(loss='categorical_crossentropy',\n",
        "              optimizer=adam,\n",
        "              metrics=['accuracy'])\n",
        "\n",
        "print(model.summary())"
      ]
    },
    {
      "cell_type": "code",
      "execution_count": null,
      "id": "4de327c3",
      "metadata": {
        "id": "4de327c3",
        "outputId": "a24675c2-9f5b-48e3-f269-f769bb34eae5"
      },
      "outputs": [
        {
          "name": "stdout",
          "output_type": "stream",
          "text": [
            "Epoch 1/500\n",
            "1/1 [==============================] - 2s 2s/step - loss: 1.7068 - accuracy: 0.2632\n",
            "Epoch 2/500\n",
            "1/1 [==============================] - 0s 12ms/step - loss: 1.5181 - accuracy: 0.3158\n",
            "Epoch 3/500\n",
            "1/1 [==============================] - 0s 11ms/step - loss: 1.4423 - accuracy: 0.5789\n",
            "Epoch 4/500\n",
            "1/1 [==============================] - 0s 11ms/step - loss: 1.4102 - accuracy: 0.5263\n",
            "Epoch 5/500\n",
            "1/1 [==============================] - 0s 15ms/step - loss: 1.2233 - accuracy: 0.6842\n",
            "Epoch 6/500\n",
            "1/1 [==============================] - 0s 14ms/step - loss: 1.2141 - accuracy: 0.7368\n",
            "Epoch 7/500\n",
            "1/1 [==============================] - 0s 10ms/step - loss: 1.0845 - accuracy: 0.8421\n",
            "Epoch 8/500\n",
            "1/1 [==============================] - 0s 9ms/step - loss: 0.9961 - accuracy: 0.7895\n",
            "Epoch 9/500\n",
            "1/1 [==============================] - 0s 13ms/step - loss: 0.8605 - accuracy: 0.9474\n",
            "Epoch 10/500\n",
            "1/1 [==============================] - 0s 11ms/step - loss: 0.7713 - accuracy: 0.9474\n",
            "Epoch 11/500\n",
            "1/1 [==============================] - 0s 36ms/step - loss: 0.5389 - accuracy: 0.8421\n",
            "Epoch 12/500\n",
            "1/1 [==============================] - 0s 15ms/step - loss: 0.4138 - accuracy: 0.9474\n",
            "Epoch 13/500\n",
            "1/1 [==============================] - 0s 14ms/step - loss: 0.3620 - accuracy: 0.9474\n",
            "Epoch 14/500\n",
            "1/1 [==============================] - 0s 15ms/step - loss: 0.3125 - accuracy: 1.0000\n",
            "Epoch 15/500\n",
            "1/1 [==============================] - 0s 18ms/step - loss: 0.2365 - accuracy: 0.9474\n",
            "Epoch 16/500\n",
            "1/1 [==============================] - 0s 10ms/step - loss: 0.2217 - accuracy: 1.0000\n",
            "Epoch 17/500\n",
            "1/1 [==============================] - 0s 10ms/step - loss: 0.1929 - accuracy: 1.0000\n",
            "Epoch 18/500\n",
            "1/1 [==============================] - 0s 12ms/step - loss: 0.1090 - accuracy: 1.0000\n",
            "Epoch 19/500\n",
            "1/1 [==============================] - 0s 13ms/step - loss: 0.1514 - accuracy: 0.8947\n",
            "Epoch 20/500\n",
            "1/1 [==============================] - 0s 17ms/step - loss: 0.1325 - accuracy: 1.0000\n",
            "Epoch 21/500\n",
            "1/1 [==============================] - 0s 16ms/step - loss: 0.1540 - accuracy: 0.9474\n",
            "Epoch 22/500\n",
            "1/1 [==============================] - 0s 15ms/step - loss: 0.2212 - accuracy: 0.9474\n",
            "Epoch 23/500\n",
            "1/1 [==============================] - 0s 13ms/step - loss: 0.0983 - accuracy: 0.9474\n",
            "Epoch 24/500\n",
            "1/1 [==============================] - 0s 15ms/step - loss: 0.0662 - accuracy: 1.0000\n",
            "Epoch 25/500\n",
            "1/1 [==============================] - 0s 14ms/step - loss: 0.0407 - accuracy: 1.0000\n",
            "Epoch 26/500\n",
            "1/1 [==============================] - 0s 13ms/step - loss: 0.0133 - accuracy: 1.0000\n",
            "Epoch 27/500\n",
            "1/1 [==============================] - 0s 16ms/step - loss: 0.0106 - accuracy: 1.0000\n",
            "Epoch 28/500\n",
            "1/1 [==============================] - 0s 14ms/step - loss: 0.0299 - accuracy: 1.0000\n",
            "Epoch 29/500\n",
            "1/1 [==============================] - 0s 14ms/step - loss: 0.0540 - accuracy: 1.0000\n",
            "Epoch 30/500\n",
            "1/1 [==============================] - 0s 13ms/step - loss: 0.0087 - accuracy: 1.0000\n",
            "Epoch 31/500\n",
            "1/1 [==============================] - 0s 13ms/step - loss: 0.0064 - accuracy: 1.0000\n",
            "Epoch 32/500\n",
            "1/1 [==============================] - 0s 12ms/step - loss: 0.0129 - accuracy: 1.0000\n",
            "Epoch 33/500\n",
            "1/1 [==============================] - 0s 19ms/step - loss: 0.0183 - accuracy: 1.0000\n",
            "Epoch 34/500\n",
            "1/1 [==============================] - 0s 16ms/step - loss: 0.0883 - accuracy: 0.9474\n",
            "Epoch 35/500\n",
            "1/1 [==============================] - 0s 15ms/step - loss: 0.0023 - accuracy: 1.0000\n",
            "Epoch 36/500\n",
            "1/1 [==============================] - 0s 16ms/step - loss: 0.0275 - accuracy: 1.0000\n",
            "Epoch 37/500\n",
            "1/1 [==============================] - 0s 21ms/step - loss: 0.0208 - accuracy: 1.0000\n",
            "Epoch 38/500\n",
            "1/1 [==============================] - 0s 21ms/step - loss: 0.0017 - accuracy: 1.0000\n",
            "Epoch 39/500\n",
            "1/1 [==============================] - 0s 25ms/step - loss: 0.0111 - accuracy: 1.0000\n",
            "Epoch 40/500\n",
            "1/1 [==============================] - 0s 11ms/step - loss: 0.0127 - accuracy: 1.0000\n",
            "Epoch 41/500\n",
            "1/1 [==============================] - 0s 27ms/step - loss: 0.0036 - accuracy: 1.0000\n",
            "Epoch 42/500\n",
            "1/1 [==============================] - 0s 20ms/step - loss: 0.0037 - accuracy: 1.0000\n",
            "Epoch 43/500\n",
            "1/1 [==============================] - 0s 16ms/step - loss: 0.0013 - accuracy: 1.0000\n",
            "Epoch 44/500\n",
            "1/1 [==============================] - 0s 15ms/step - loss: 0.0028 - accuracy: 1.0000\n",
            "Epoch 45/500\n",
            "1/1 [==============================] - 0s 14ms/step - loss: 0.0040 - accuracy: 1.0000\n",
            "Epoch 46/500\n",
            "1/1 [==============================] - 0s 15ms/step - loss: 0.0011 - accuracy: 1.0000\n",
            "Epoch 47/500\n",
            "1/1 [==============================] - 0s 15ms/step - loss: 3.1905e-04 - accuracy: 1.0000\n",
            "Epoch 48/500\n",
            "1/1 [==============================] - 0s 15ms/step - loss: 0.0253 - accuracy: 1.0000\n",
            "Epoch 49/500\n",
            "1/1 [==============================] - 0s 20ms/step - loss: 6.0431e-04 - accuracy: 1.0000\n",
            "Epoch 50/500\n",
            "1/1 [==============================] - 0s 22ms/step - loss: 0.0025 - accuracy: 1.0000\n",
            "Epoch 51/500\n",
            "1/1 [==============================] - 0s 28ms/step - loss: 3.4962e-04 - accuracy: 1.0000\n",
            "Epoch 52/500\n",
            "1/1 [==============================] - 0s 21ms/step - loss: 0.0068 - accuracy: 1.0000\n",
            "Epoch 53/500\n",
            "1/1 [==============================] - 0s 20ms/step - loss: 0.0010 - accuracy: 1.0000\n",
            "Epoch 54/500\n",
            "1/1 [==============================] - 0s 27ms/step - loss: 7.1710e-04 - accuracy: 1.0000\n",
            "Epoch 55/500\n",
            "1/1 [==============================] - 0s 26ms/step - loss: 0.1167 - accuracy: 0.9474\n",
            "Epoch 56/500\n",
            "1/1 [==============================] - 0s 18ms/step - loss: 4.1170e-04 - accuracy: 1.0000\n",
            "Epoch 57/500\n",
            "1/1 [==============================] - 0s 20ms/step - loss: 0.0165 - accuracy: 1.0000\n",
            "Epoch 58/500\n",
            "1/1 [==============================] - 0s 16ms/step - loss: 0.0071 - accuracy: 1.0000\n",
            "Epoch 59/500\n",
            "1/1 [==============================] - 0s 16ms/step - loss: 0.0013 - accuracy: 1.0000\n",
            "Epoch 60/500\n",
            "1/1 [==============================] - 0s 21ms/step - loss: 2.1067e-04 - accuracy: 1.0000\n",
            "Epoch 61/500\n",
            "1/1 [==============================] - 0s 18ms/step - loss: 0.0458 - accuracy: 0.9474\n",
            "Epoch 62/500\n",
            "1/1 [==============================] - 0s 17ms/step - loss: 0.0096 - accuracy: 1.0000\n",
            "Epoch 63/500\n",
            "1/1 [==============================] - 0s 21ms/step - loss: 0.0031 - accuracy: 1.0000\n",
            "Epoch 64/500\n",
            "1/1 [==============================] - 0s 18ms/step - loss: 0.0014 - accuracy: 1.0000\n",
            "Epoch 65/500\n",
            "1/1 [==============================] - 0s 31ms/step - loss: 0.0412 - accuracy: 1.0000\n",
            "Epoch 66/500\n",
            "1/1 [==============================] - 0s 8ms/step - loss: 0.0037 - accuracy: 1.0000\n",
            "Epoch 67/500\n",
            "1/1 [==============================] - 0s 11ms/step - loss: 0.0147 - accuracy: 1.0000\n",
            "Epoch 68/500\n",
            "1/1 [==============================] - 0s 10ms/step - loss: 0.0306 - accuracy: 1.0000\n",
            "Epoch 69/500\n",
            "1/1 [==============================] - 0s 50ms/step - loss: 0.0039 - accuracy: 1.0000\n",
            "Epoch 70/500\n",
            "1/1 [==============================] - 0s 22ms/step - loss: 7.6062e-04 - accuracy: 1.0000\n",
            "Epoch 71/500\n",
            "1/1 [==============================] - 0s 24ms/step - loss: 3.0002e-04 - accuracy: 1.0000\n",
            "Epoch 72/500\n",
            "1/1 [==============================] - 0s 22ms/step - loss: 0.0017 - accuracy: 1.0000\n",
            "Epoch 73/500\n",
            "1/1 [==============================] - 0s 22ms/step - loss: 0.0019 - accuracy: 1.0000\n",
            "Epoch 74/500\n",
            "1/1 [==============================] - 0s 19ms/step - loss: 8.8185e-04 - accuracy: 1.0000\n",
            "Epoch 75/500\n",
            "1/1 [==============================] - 0s 18ms/step - loss: 0.0103 - accuracy: 1.0000\n",
            "Epoch 76/500\n",
            "1/1 [==============================] - 0s 17ms/step - loss: 0.0014 - accuracy: 1.0000\n",
            "Epoch 77/500\n",
            "1/1 [==============================] - 0s 16ms/step - loss: 0.0032 - accuracy: 1.0000\n",
            "Epoch 78/500\n",
            "1/1 [==============================] - 0s 16ms/step - loss: 4.6505e-04 - accuracy: 1.0000\n",
            "Epoch 79/500\n",
            "1/1 [==============================] - 0s 15ms/step - loss: 0.0109 - accuracy: 1.0000\n",
            "Epoch 80/500\n",
            "1/1 [==============================] - 0s 17ms/step - loss: 8.0039e-05 - accuracy: 1.0000\n",
            "Epoch 81/500\n",
            "1/1 [==============================] - 0s 19ms/step - loss: 0.0050 - accuracy: 1.0000\n",
            "Epoch 82/500\n",
            "1/1 [==============================] - 0s 16ms/step - loss: 6.8309e-04 - accuracy: 1.0000\n",
            "Epoch 83/500\n"
          ]
        },
        {
          "name": "stdout",
          "output_type": "stream",
          "text": [
            "1/1 [==============================] - 0s 14ms/step - loss: 0.0011 - accuracy: 1.0000\n",
            "Epoch 84/500\n",
            "1/1 [==============================] - 0s 18ms/step - loss: 0.0011 - accuracy: 1.0000\n",
            "Epoch 85/500\n",
            "1/1 [==============================] - 0s 19ms/step - loss: 1.5909e-04 - accuracy: 1.0000\n",
            "Epoch 86/500\n",
            "1/1 [==============================] - 0s 21ms/step - loss: 2.5284e-04 - accuracy: 1.0000\n",
            "Epoch 87/500\n",
            "1/1 [==============================] - 0s 15ms/step - loss: 0.0742 - accuracy: 0.9474\n",
            "Epoch 88/500\n",
            "1/1 [==============================] - 0s 22ms/step - loss: 0.0032 - accuracy: 1.0000\n",
            "Epoch 89/500\n",
            "1/1 [==============================] - 0s 18ms/step - loss: 0.0162 - accuracy: 1.0000\n",
            "Epoch 90/500\n",
            "1/1 [==============================] - 0s 20ms/step - loss: 0.0088 - accuracy: 1.0000\n",
            "Epoch 91/500\n",
            "1/1 [==============================] - 0s 18ms/step - loss: 0.0165 - accuracy: 1.0000\n",
            "Epoch 92/500\n",
            "1/1 [==============================] - 0s 16ms/step - loss: 3.4380e-04 - accuracy: 1.0000\n",
            "Epoch 93/500\n",
            "1/1 [==============================] - 0s 19ms/step - loss: 3.7825e-04 - accuracy: 1.0000\n",
            "Epoch 94/500\n",
            "1/1 [==============================] - 0s 18ms/step - loss: 3.7722e-04 - accuracy: 1.0000\n",
            "Epoch 95/500\n",
            "1/1 [==============================] - 0s 16ms/step - loss: 0.0015 - accuracy: 1.0000\n",
            "Epoch 96/500\n",
            "1/1 [==============================] - 0s 16ms/step - loss: 7.4812e-04 - accuracy: 1.0000\n",
            "Epoch 97/500\n",
            "1/1 [==============================] - 0s 19ms/step - loss: 3.1495e-04 - accuracy: 1.0000\n",
            "Epoch 98/500\n",
            "1/1 [==============================] - 0s 15ms/step - loss: 0.0015 - accuracy: 1.0000\n",
            "Epoch 99/500\n",
            "1/1 [==============================] - 0s 14ms/step - loss: 0.0016 - accuracy: 1.0000\n",
            "Epoch 100/500\n",
            "1/1 [==============================] - 0s 17ms/step - loss: 0.0029 - accuracy: 1.0000\n",
            "Epoch 101/500\n",
            "1/1 [==============================] - 0s 16ms/step - loss: 2.7167e-06 - accuracy: 1.0000\n",
            "Epoch 102/500\n",
            "1/1 [==============================] - 0s 20ms/step - loss: 0.0012 - accuracy: 1.0000\n",
            "Epoch 103/500\n",
            "1/1 [==============================] - 0s 14ms/step - loss: 0.0046 - accuracy: 1.0000\n",
            "Epoch 104/500\n",
            "1/1 [==============================] - 0s 19ms/step - loss: 1.0127e-04 - accuracy: 1.0000\n",
            "Epoch 105/500\n",
            "1/1 [==============================] - 0s 14ms/step - loss: 0.0087 - accuracy: 1.0000\n",
            "Epoch 106/500\n",
            "1/1 [==============================] - 0s 10ms/step - loss: 5.7108e-04 - accuracy: 1.0000\n",
            "Epoch 107/500\n",
            "1/1 [==============================] - 0s 9ms/step - loss: 2.6275e-04 - accuracy: 1.0000\n",
            "Epoch 108/500\n",
            "1/1 [==============================] - 0s 74ms/step - loss: 0.0087 - accuracy: 1.0000\n",
            "Epoch 109/500\n",
            "1/1 [==============================] - 0s 22ms/step - loss: 0.0011 - accuracy: 1.0000\n",
            "Epoch 110/500\n",
            "1/1 [==============================] - 0s 25ms/step - loss: 2.5809e-04 - accuracy: 1.0000\n",
            "Epoch 111/500\n",
            "1/1 [==============================] - 0s 19ms/step - loss: 2.6506e-04 - accuracy: 1.0000\n",
            "Epoch 112/500\n",
            "1/1 [==============================] - 0s 16ms/step - loss: 3.2640e-04 - accuracy: 1.0000\n",
            "Epoch 113/500\n",
            "1/1 [==============================] - 0s 19ms/step - loss: 2.2053e-05 - accuracy: 1.0000\n",
            "Epoch 114/500\n",
            "1/1 [==============================] - 0s 14ms/step - loss: 8.2535e-05 - accuracy: 1.0000\n",
            "Epoch 115/500\n",
            "1/1 [==============================] - 0s 16ms/step - loss: 5.7942e-04 - accuracy: 1.0000\n",
            "Epoch 116/500\n",
            "1/1 [==============================] - 0s 18ms/step - loss: 2.7319e-04 - accuracy: 1.0000\n",
            "Epoch 117/500\n",
            "1/1 [==============================] - 0s 15ms/step - loss: 2.9673e-04 - accuracy: 1.0000\n",
            "Epoch 118/500\n",
            "1/1 [==============================] - 0s 17ms/step - loss: 0.0023 - accuracy: 1.0000\n",
            "Epoch 119/500\n",
            "1/1 [==============================] - 0s 16ms/step - loss: 1.5169e-04 - accuracy: 1.0000\n",
            "Epoch 120/500\n",
            "1/1 [==============================] - 0s 15ms/step - loss: 7.0544e-04 - accuracy: 1.0000\n",
            "Epoch 121/500\n",
            "1/1 [==============================] - 0s 17ms/step - loss: 1.6996e-04 - accuracy: 1.0000\n",
            "Epoch 122/500\n",
            "1/1 [==============================] - 0s 19ms/step - loss: 7.3832e-04 - accuracy: 1.0000\n",
            "Epoch 123/500\n",
            "1/1 [==============================] - 0s 20ms/step - loss: 0.0016 - accuracy: 1.0000\n",
            "Epoch 124/500\n",
            "1/1 [==============================] - 0s 15ms/step - loss: 1.5615e-04 - accuracy: 1.0000\n",
            "Epoch 125/500\n",
            "1/1 [==============================] - 0s 18ms/step - loss: 8.5201e-04 - accuracy: 1.0000\n",
            "Epoch 126/500\n",
            "1/1 [==============================] - 0s 19ms/step - loss: 7.1740e-05 - accuracy: 1.0000\n",
            "Epoch 127/500\n",
            "1/1 [==============================] - 0s 15ms/step - loss: 1.9152e-04 - accuracy: 1.0000\n",
            "Epoch 128/500\n",
            "1/1 [==============================] - 0s 15ms/step - loss: 0.0022 - accuracy: 1.0000\n",
            "Epoch 129/500\n",
            "1/1 [==============================] - 0s 14ms/step - loss: 7.1997e-04 - accuracy: 1.0000\n",
            "Epoch 130/500\n",
            "1/1 [==============================] - 0s 14ms/step - loss: 7.7342e-05 - accuracy: 1.0000\n",
            "Epoch 131/500\n",
            "1/1 [==============================] - 0s 20ms/step - loss: 1.7402e-04 - accuracy: 1.0000\n",
            "Epoch 132/500\n",
            "1/1 [==============================] - 0s 16ms/step - loss: 9.8880e-04 - accuracy: 1.0000\n",
            "Epoch 133/500\n",
            "1/1 [==============================] - 0s 18ms/step - loss: 3.8106e-04 - accuracy: 1.0000\n",
            "Epoch 134/500\n",
            "1/1 [==============================] - 0s 15ms/step - loss: 4.5357e-04 - accuracy: 1.0000\n",
            "Epoch 135/500\n",
            "1/1 [==============================] - 0s 16ms/step - loss: 1.7714e-04 - accuracy: 1.0000\n",
            "Epoch 136/500\n",
            "1/1 [==============================] - 0s 17ms/step - loss: 4.7201e-04 - accuracy: 1.0000\n",
            "Epoch 137/500\n",
            "1/1 [==============================] - 0s 15ms/step - loss: 3.4788e-05 - accuracy: 1.0000\n",
            "Epoch 138/500\n",
            "1/1 [==============================] - 0s 15ms/step - loss: 6.9867e-04 - accuracy: 1.0000\n",
            "Epoch 139/500\n",
            "1/1 [==============================] - 0s 15ms/step - loss: 6.0355e-04 - accuracy: 1.0000\n",
            "Epoch 140/500\n",
            "1/1 [==============================] - 0s 15ms/step - loss: 0.0629 - accuracy: 0.9474\n",
            "Epoch 141/500\n",
            "1/1 [==============================] - 0s 14ms/step - loss: 4.1129e-05 - accuracy: 1.0000\n",
            "Epoch 142/500\n",
            "1/1 [==============================] - 0s 15ms/step - loss: 2.6226e-06 - accuracy: 1.0000\n",
            "Epoch 143/500\n",
            "1/1 [==============================] - 0s 17ms/step - loss: 1.2813e-04 - accuracy: 1.0000\n",
            "Epoch 144/500\n",
            "1/1 [==============================] - 0s 17ms/step - loss: 1.6524e-05 - accuracy: 1.0000\n",
            "Epoch 145/500\n",
            "1/1 [==============================] - 0s 18ms/step - loss: 1.0107e-05 - accuracy: 1.0000\n",
            "Epoch 146/500\n",
            "1/1 [==============================] - 0s 19ms/step - loss: 0.0023 - accuracy: 1.0000\n",
            "Epoch 147/500\n",
            "1/1 [==============================] - 0s 22ms/step - loss: 6.6898e-05 - accuracy: 1.0000\n",
            "Epoch 148/500\n",
            "1/1 [==============================] - 0s 13ms/step - loss: 1.1824e-04 - accuracy: 1.0000\n",
            "Epoch 149/500\n",
            "1/1 [==============================] - 0s 14ms/step - loss: 0.0014 - accuracy: 1.0000\n",
            "Epoch 150/500\n",
            "1/1 [==============================] - 0s 22ms/step - loss: 1.0609e-04 - accuracy: 1.0000\n",
            "Epoch 151/500\n",
            "1/1 [==============================] - 0s 17ms/step - loss: 0.0014 - accuracy: 1.0000\n",
            "Epoch 152/500\n",
            "1/1 [==============================] - 0s 17ms/step - loss: 4.5835e-04 - accuracy: 1.0000\n",
            "Epoch 153/500\n",
            "1/1 [==============================] - 0s 16ms/step - loss: 2.6581e-04 - accuracy: 1.0000\n",
            "Epoch 154/500\n",
            "1/1 [==============================] - 0s 20ms/step - loss: 1.9774e-04 - accuracy: 1.0000\n",
            "Epoch 155/500\n",
            "1/1 [==============================] - 0s 17ms/step - loss: 0.0031 - accuracy: 1.0000\n",
            "Epoch 156/500\n",
            "1/1 [==============================] - 0s 18ms/step - loss: 2.2937e-04 - accuracy: 1.0000\n",
            "Epoch 157/500\n",
            "1/1 [==============================] - 0s 21ms/step - loss: 2.8305e-04 - accuracy: 1.0000\n",
            "Epoch 158/500\n",
            "1/1 [==============================] - 0s 17ms/step - loss: 0.0012 - accuracy: 1.0000\n",
            "Epoch 159/500\n",
            "1/1 [==============================] - 0s 20ms/step - loss: 5.9148e-05 - accuracy: 1.0000\n",
            "Epoch 160/500\n",
            "1/1 [==============================] - 0s 16ms/step - loss: 5.6011e-05 - accuracy: 1.0000\n",
            "Epoch 161/500\n",
            "1/1 [==============================] - 0s 15ms/step - loss: 6.9286e-04 - accuracy: 1.0000\n",
            "Epoch 162/500\n",
            "1/1 [==============================] - 0s 17ms/step - loss: 5.3990e-04 - accuracy: 1.0000\n",
            "Epoch 163/500\n"
          ]
        },
        {
          "name": "stdout",
          "output_type": "stream",
          "text": [
            "1/1 [==============================] - 0s 14ms/step - loss: 4.8592e-04 - accuracy: 1.0000\n",
            "Epoch 164/500\n",
            "1/1 [==============================] - 0s 14ms/step - loss: 0.0331 - accuracy: 1.0000\n",
            "Epoch 165/500\n",
            "1/1 [==============================] - 0s 17ms/step - loss: 0.0015 - accuracy: 1.0000\n",
            "Epoch 166/500\n",
            "1/1 [==============================] - 0s 15ms/step - loss: 0.0039 - accuracy: 1.0000\n",
            "Epoch 167/500\n",
            "1/1 [==============================] - 0s 18ms/step - loss: 4.6902e-04 - accuracy: 1.0000\n",
            "Epoch 168/500\n",
            "1/1 [==============================] - 0s 15ms/step - loss: 0.0019 - accuracy: 1.0000\n",
            "Epoch 169/500\n",
            "1/1 [==============================] - 0s 11ms/step - loss: 2.8487e-04 - accuracy: 1.0000\n",
            "Epoch 170/500\n",
            "1/1 [==============================] - 0s 14ms/step - loss: 0.0048 - accuracy: 1.0000\n",
            "Epoch 171/500\n",
            "1/1 [==============================] - 0s 16ms/step - loss: 2.9157e-04 - accuracy: 1.0000\n",
            "Epoch 172/500\n",
            "1/1 [==============================] - 0s 13ms/step - loss: 0.0010 - accuracy: 1.0000\n",
            "Epoch 173/500\n",
            "1/1 [==============================] - 0s 15ms/step - loss: 9.1793e-04 - accuracy: 1.0000\n",
            "Epoch 174/500\n",
            "1/1 [==============================] - 0s 15ms/step - loss: 8.4467e-04 - accuracy: 1.0000\n",
            "Epoch 175/500\n",
            "1/1 [==============================] - 0s 15ms/step - loss: 7.8426e-05 - accuracy: 1.0000\n",
            "Epoch 176/500\n",
            "1/1 [==============================] - 0s 17ms/step - loss: 8.3383e-05 - accuracy: 1.0000\n",
            "Epoch 177/500\n",
            "1/1 [==============================] - 0s 17ms/step - loss: 4.1883e-04 - accuracy: 1.0000\n",
            "Epoch 178/500\n",
            "1/1 [==============================] - 0s 13ms/step - loss: 3.6324e-04 - accuracy: 1.0000\n",
            "Epoch 179/500\n",
            "1/1 [==============================] - 0s 13ms/step - loss: 0.0020 - accuracy: 1.0000\n",
            "Epoch 180/500\n",
            "1/1 [==============================] - 0s 13ms/step - loss: 1.3469e-04 - accuracy: 1.0000\n",
            "Epoch 181/500\n",
            "1/1 [==============================] - 0s 15ms/step - loss: 4.5090e-04 - accuracy: 1.0000\n",
            "Epoch 182/500\n",
            "1/1 [==============================] - 0s 14ms/step - loss: 1.5333e-05 - accuracy: 1.0000\n",
            "Epoch 183/500\n",
            "1/1 [==============================] - 0s 14ms/step - loss: 0.0044 - accuracy: 1.0000\n",
            "Epoch 184/500\n",
            "1/1 [==============================] - 0s 14ms/step - loss: 0.0027 - accuracy: 1.0000\n",
            "Epoch 185/500\n",
            "1/1 [==============================] - 0s 11ms/step - loss: 8.1057e-04 - accuracy: 1.0000\n",
            "Epoch 186/500\n",
            "1/1 [==============================] - 0s 12ms/step - loss: 1.2808e-04 - accuracy: 1.0000\n",
            "Epoch 187/500\n",
            "1/1 [==============================] - 0s 14ms/step - loss: 6.0963e-04 - accuracy: 1.0000\n",
            "Epoch 188/500\n",
            "1/1 [==============================] - 0s 16ms/step - loss: 7.3203e-05 - accuracy: 1.0000\n",
            "Epoch 189/500\n",
            "1/1 [==============================] - 0s 16ms/step - loss: 5.0457e-05 - accuracy: 1.0000\n",
            "Epoch 190/500\n",
            "1/1 [==============================] - 0s 15ms/step - loss: 0.0057 - accuracy: 1.0000\n",
            "Epoch 191/500\n",
            "1/1 [==============================] - 0s 14ms/step - loss: 2.4497e-04 - accuracy: 1.0000\n",
            "Epoch 192/500\n",
            "1/1 [==============================] - 0s 17ms/step - loss: 6.0220e-05 - accuracy: 1.0000\n",
            "Epoch 193/500\n",
            "1/1 [==============================] - 0s 12ms/step - loss: 3.5417e-04 - accuracy: 1.0000\n",
            "Epoch 194/500\n",
            "1/1 [==============================] - 0s 15ms/step - loss: 3.2446e-04 - accuracy: 1.0000\n",
            "Epoch 195/500\n",
            "1/1 [==============================] - 0s 12ms/step - loss: 2.2723e-04 - accuracy: 1.0000\n",
            "Epoch 196/500\n",
            "1/1 [==============================] - 0s 12ms/step - loss: 1.0710e-04 - accuracy: 1.0000\n",
            "Epoch 197/500\n",
            "1/1 [==============================] - 0s 14ms/step - loss: 1.6732e-04 - accuracy: 1.0000\n",
            "Epoch 198/500\n",
            "1/1 [==============================] - 0s 12ms/step - loss: 6.7574e-04 - accuracy: 1.0000\n",
            "Epoch 199/500\n",
            "1/1 [==============================] - 0s 12ms/step - loss: 6.3623e-04 - accuracy: 1.0000\n",
            "Epoch 200/500\n",
            "1/1 [==============================] - 0s 12ms/step - loss: 2.6616e-04 - accuracy: 1.0000\n",
            "Epoch 201/500\n",
            "1/1 [==============================] - 0s 10ms/step - loss: 1.1698e-04 - accuracy: 1.0000\n",
            "Epoch 202/500\n",
            "1/1 [==============================] - 0s 7ms/step - loss: 4.2500e-04 - accuracy: 1.0000\n",
            "Epoch 203/500\n",
            "1/1 [==============================] - 0s 7ms/step - loss: 3.8599e-04 - accuracy: 1.0000\n",
            "Epoch 204/500\n",
            "1/1 [==============================] - 0s 7ms/step - loss: 0.0012 - accuracy: 1.0000\n",
            "Epoch 205/500\n",
            "1/1 [==============================] - 0s 8ms/step - loss: 3.9687e-04 - accuracy: 1.0000\n",
            "Epoch 206/500\n",
            "1/1 [==============================] - 0s 6ms/step - loss: 3.6677e-04 - accuracy: 1.0000\n",
            "Epoch 207/500\n",
            "1/1 [==============================] - 0s 6ms/step - loss: 3.6899e-05 - accuracy: 1.0000\n",
            "Epoch 208/500\n",
            "1/1 [==============================] - 0s 16ms/step - loss: 4.1499e-05 - accuracy: 1.0000\n",
            "Epoch 209/500\n",
            "1/1 [==============================] - 0s 14ms/step - loss: 8.4260e-06 - accuracy: 1.0000\n",
            "Epoch 210/500\n",
            "1/1 [==============================] - 0s 15ms/step - loss: 5.6612e-05 - accuracy: 1.0000\n",
            "Epoch 211/500\n",
            "1/1 [==============================] - 0s 23ms/step - loss: 0.0012 - accuracy: 1.0000\n",
            "Epoch 212/500\n",
            "1/1 [==============================] - 0s 21ms/step - loss: 4.0694e-05 - accuracy: 1.0000\n",
            "Epoch 213/500\n",
            "1/1 [==============================] - 0s 22ms/step - loss: 4.9414e-04 - accuracy: 1.0000\n",
            "Epoch 214/500\n",
            "1/1 [==============================] - 0s 14ms/step - loss: 3.4007e-04 - accuracy: 1.0000\n",
            "Epoch 215/500\n",
            "1/1 [==============================] - 0s 17ms/step - loss: 1.3128e-04 - accuracy: 1.0000\n",
            "Epoch 216/500\n",
            "1/1 [==============================] - 0s 18ms/step - loss: 4.2712e-04 - accuracy: 1.0000\n",
            "Epoch 217/500\n",
            "1/1 [==============================] - 0s 15ms/step - loss: 7.0089e-05 - accuracy: 1.0000\n",
            "Epoch 218/500\n",
            "1/1 [==============================] - 0s 12ms/step - loss: 2.9045e-04 - accuracy: 1.0000\n",
            "Epoch 219/500\n",
            "1/1 [==============================] - 0s 11ms/step - loss: 6.4940e-05 - accuracy: 1.0000\n",
            "Epoch 220/500\n",
            "1/1 [==============================] - 0s 17ms/step - loss: 1.0258e-04 - accuracy: 1.0000\n",
            "Epoch 221/500\n",
            "1/1 [==============================] - 0s 12ms/step - loss: 5.2827e-04 - accuracy: 1.0000\n",
            "Epoch 222/500\n",
            "1/1 [==============================] - 0s 11ms/step - loss: 0.0033 - accuracy: 1.0000\n",
            "Epoch 223/500\n",
            "1/1 [==============================] - 0s 13ms/step - loss: 2.8268e-04 - accuracy: 1.0000\n",
            "Epoch 224/500\n",
            "1/1 [==============================] - 0s 12ms/step - loss: 0.0281 - accuracy: 1.0000\n",
            "Epoch 225/500\n",
            "1/1 [==============================] - 0s 17ms/step - loss: 2.6494e-05 - accuracy: 1.0000\n",
            "Epoch 226/500\n",
            "1/1 [==============================] - 0s 14ms/step - loss: 5.6192e-05 - accuracy: 1.0000\n",
            "Epoch 227/500\n",
            "1/1 [==============================] - 0s 14ms/step - loss: 9.0416e-05 - accuracy: 1.0000\n",
            "Epoch 228/500\n",
            "1/1 [==============================] - 0s 15ms/step - loss: 3.8952e-05 - accuracy: 1.0000\n",
            "Epoch 229/500\n",
            "1/1 [==============================] - 0s 14ms/step - loss: 5.6906e-06 - accuracy: 1.0000\n",
            "Epoch 230/500\n",
            "1/1 [==============================] - 0s 16ms/step - loss: 2.3119e-04 - accuracy: 1.0000\n",
            "Epoch 231/500\n",
            "1/1 [==============================] - 0s 12ms/step - loss: 2.4436e-04 - accuracy: 1.0000\n",
            "Epoch 232/500\n",
            "1/1 [==============================] - 0s 17ms/step - loss: 0.0030 - accuracy: 1.0000\n",
            "Epoch 233/500\n",
            "1/1 [==============================] - 0s 14ms/step - loss: 9.6223e-04 - accuracy: 1.0000\n",
            "Epoch 234/500\n",
            "1/1 [==============================] - 0s 11ms/step - loss: 0.0077 - accuracy: 1.0000\n",
            "Epoch 235/500\n",
            "1/1 [==============================] - 0s 15ms/step - loss: 0.0031 - accuracy: 1.0000\n",
            "Epoch 236/500\n",
            "1/1 [==============================] - 0s 17ms/step - loss: 2.2891e-04 - accuracy: 1.0000\n",
            "Epoch 237/500\n",
            "1/1 [==============================] - 0s 17ms/step - loss: 0.0014 - accuracy: 1.0000\n",
            "Epoch 238/500\n",
            "1/1 [==============================] - 0s 14ms/step - loss: 1.8872e-05 - accuracy: 1.0000\n",
            "Epoch 239/500\n",
            "1/1 [==============================] - 0s 14ms/step - loss: 0.0101 - accuracy: 1.0000\n",
            "Epoch 240/500\n",
            "1/1 [==============================] - 0s 11ms/step - loss: 0.0099 - accuracy: 1.0000\n",
            "Epoch 241/500\n",
            "1/1 [==============================] - 0s 16ms/step - loss: 0.1348 - accuracy: 0.9474\n",
            "Epoch 242/500\n"
          ]
        },
        {
          "name": "stdout",
          "output_type": "stream",
          "text": [
            "1/1 [==============================] - 0s 12ms/step - loss: 0.0019 - accuracy: 1.0000\n",
            "Epoch 243/500\n",
            "1/1 [==============================] - 0s 11ms/step - loss: 0.0010 - accuracy: 1.0000\n",
            "Epoch 244/500\n",
            "1/1 [==============================] - 0s 14ms/step - loss: 0.0244 - accuracy: 1.0000\n",
            "Epoch 245/500\n",
            "1/1 [==============================] - 0s 11ms/step - loss: 5.3855e-05 - accuracy: 1.0000\n",
            "Epoch 246/500\n",
            "1/1 [==============================] - 0s 13ms/step - loss: 1.3238e-05 - accuracy: 1.0000\n",
            "Epoch 247/500\n",
            "1/1 [==============================] - 0s 17ms/step - loss: 2.8769e-04 - accuracy: 1.0000\n",
            "Epoch 248/500\n",
            "1/1 [==============================] - 0s 14ms/step - loss: 9.6845e-05 - accuracy: 1.0000\n",
            "Epoch 249/500\n",
            "1/1 [==============================] - 0s 12ms/step - loss: 8.8047e-05 - accuracy: 1.0000\n",
            "Epoch 250/500\n",
            "1/1 [==============================] - 0s 10ms/step - loss: 0.0031 - accuracy: 1.0000\n",
            "Epoch 251/500\n",
            "1/1 [==============================] - 0s 17ms/step - loss: 2.9207e-04 - accuracy: 1.0000\n",
            "Epoch 252/500\n",
            "1/1 [==============================] - 0s 11ms/step - loss: 1.2431e-04 - accuracy: 1.0000\n",
            "Epoch 253/500\n",
            "1/1 [==============================] - 0s 14ms/step - loss: 4.6343e-04 - accuracy: 1.0000\n",
            "Epoch 254/500\n",
            "1/1 [==============================] - 0s 12ms/step - loss: 7.8599e-04 - accuracy: 1.0000\n",
            "Epoch 255/500\n",
            "1/1 [==============================] - 0s 13ms/step - loss: 2.6996e-04 - accuracy: 1.0000\n",
            "Epoch 256/500\n",
            "1/1 [==============================] - 0s 11ms/step - loss: 0.0027 - accuracy: 1.0000\n",
            "Epoch 257/500\n",
            "1/1 [==============================] - 0s 8ms/step - loss: 0.0033 - accuracy: 1.0000\n",
            "Epoch 258/500\n",
            "1/1 [==============================] - 0s 9ms/step - loss: 8.5212e-04 - accuracy: 1.0000\n",
            "Epoch 259/500\n",
            "1/1 [==============================] - 0s 10ms/step - loss: 1.2395e-04 - accuracy: 1.0000\n",
            "Epoch 260/500\n",
            "1/1 [==============================] - 0s 9ms/step - loss: 4.2601e-05 - accuracy: 1.0000\n",
            "Epoch 261/500\n",
            "1/1 [==============================] - 0s 13ms/step - loss: 3.2790e-04 - accuracy: 1.0000\n",
            "Epoch 262/500\n",
            "1/1 [==============================] - 0s 9ms/step - loss: 6.6750e-05 - accuracy: 1.0000\n",
            "Epoch 263/500\n",
            "1/1 [==============================] - 0s 11ms/step - loss: 0.0103 - accuracy: 1.0000\n",
            "Epoch 264/500\n",
            "1/1 [==============================] - 0s 12ms/step - loss: 0.1138 - accuracy: 0.9474\n",
            "Epoch 265/500\n",
            "1/1 [==============================] - 0s 10ms/step - loss: 1.2979e-04 - accuracy: 1.0000\n",
            "Epoch 266/500\n",
            "1/1 [==============================] - 0s 10ms/step - loss: 6.4875e-05 - accuracy: 1.0000\n",
            "Epoch 267/500\n",
            "1/1 [==============================] - 0s 9ms/step - loss: 2.3454e-04 - accuracy: 1.0000\n",
            "Epoch 268/500\n",
            "1/1 [==============================] - 0s 13ms/step - loss: 7.7373e-04 - accuracy: 1.0000\n",
            "Epoch 269/500\n",
            "1/1 [==============================] - 0s 10ms/step - loss: 0.0012 - accuracy: 1.0000\n",
            "Epoch 270/500\n",
            "1/1 [==============================] - 0s 14ms/step - loss: 7.2639e-05 - accuracy: 1.0000\n",
            "Epoch 271/500\n",
            "1/1 [==============================] - 0s 18ms/step - loss: 0.0080 - accuracy: 1.0000\n",
            "Epoch 272/500\n",
            "1/1 [==============================] - 0s 14ms/step - loss: 2.3596e-04 - accuracy: 1.0000\n",
            "Epoch 273/500\n",
            "1/1 [==============================] - 0s 11ms/step - loss: 6.1704e-05 - accuracy: 1.0000\n",
            "Epoch 274/500\n",
            "1/1 [==============================] - 0s 13ms/step - loss: 1.1290e-04 - accuracy: 1.0000\n",
            "Epoch 275/500\n",
            "1/1 [==============================] - 0s 10ms/step - loss: 5.1071e-06 - accuracy: 1.0000\n",
            "Epoch 276/500\n",
            "1/1 [==============================] - 0s 12ms/step - loss: 1.0990e-04 - accuracy: 1.0000\n",
            "Epoch 277/500\n",
            "1/1 [==============================] - 0s 8ms/step - loss: 4.0308e-04 - accuracy: 1.0000\n",
            "Epoch 278/500\n",
            "1/1 [==============================] - 0s 8ms/step - loss: 2.1185e-04 - accuracy: 1.0000\n",
            "Epoch 279/500\n",
            "1/1 [==============================] - 0s 10ms/step - loss: 0.0011 - accuracy: 1.0000\n",
            "Epoch 280/500\n",
            "1/1 [==============================] - 0s 8ms/step - loss: 0.0371 - accuracy: 1.0000\n",
            "Epoch 281/500\n",
            "1/1 [==============================] - 0s 10ms/step - loss: 1.2042e-04 - accuracy: 1.0000\n",
            "Epoch 282/500\n",
            "1/1 [==============================] - 0s 10ms/step - loss: 0.0010 - accuracy: 1.0000\n",
            "Epoch 283/500\n",
            "1/1 [==============================] - 0s 10ms/step - loss: 2.0752e-04 - accuracy: 1.0000\n",
            "Epoch 284/500\n",
            "1/1 [==============================] - 0s 10ms/step - loss: 0.0012 - accuracy: 1.0000\n",
            "Epoch 285/500\n",
            "1/1 [==============================] - 0s 10ms/step - loss: 0.0108 - accuracy: 1.0000\n",
            "Epoch 286/500\n",
            "1/1 [==============================] - 0s 12ms/step - loss: 5.1133e-06 - accuracy: 1.0000\n",
            "Epoch 287/500\n",
            "1/1 [==============================] - 0s 12ms/step - loss: 9.7760e-04 - accuracy: 1.0000\n",
            "Epoch 288/500\n",
            "1/1 [==============================] - 0s 10ms/step - loss: 0.0015 - accuracy: 1.0000\n",
            "Epoch 289/500\n",
            "1/1 [==============================] - 0s 9ms/step - loss: 5.3119e-04 - accuracy: 1.0000\n",
            "Epoch 290/500\n",
            "1/1 [==============================] - 0s 10ms/step - loss: 1.6450e-05 - accuracy: 1.0000\n",
            "Epoch 291/500\n",
            "1/1 [==============================] - 0s 14ms/step - loss: 1.4411e-05 - accuracy: 1.0000\n",
            "Epoch 292/500\n",
            "1/1 [==============================] - 0s 13ms/step - loss: 2.2496e-05 - accuracy: 1.0000\n",
            "Epoch 293/500\n",
            "1/1 [==============================] - 0s 11ms/step - loss: 2.0527e-05 - accuracy: 1.0000\n",
            "Epoch 294/500\n",
            "1/1 [==============================] - 0s 14ms/step - loss: 0.0017 - accuracy: 1.0000\n",
            "Epoch 295/500\n",
            "1/1 [==============================] - 0s 9ms/step - loss: 5.4597e-05 - accuracy: 1.0000\n",
            "Epoch 296/500\n",
            "1/1 [==============================] - 0s 11ms/step - loss: 4.7871e-06 - accuracy: 1.0000\n",
            "Epoch 297/500\n",
            "1/1 [==============================] - 0s 11ms/step - loss: 9.0969e-06 - accuracy: 1.0000\n",
            "Epoch 298/500\n",
            "1/1 [==============================] - 0s 11ms/step - loss: 2.5644e-05 - accuracy: 1.0000\n",
            "Epoch 299/500\n",
            "1/1 [==============================] - 0s 14ms/step - loss: 7.2607e-05 - accuracy: 1.0000\n",
            "Epoch 300/500\n",
            "1/1 [==============================] - 0s 13ms/step - loss: 6.3749e-04 - accuracy: 1.0000\n",
            "Epoch 301/500\n",
            "1/1 [==============================] - 0s 12ms/step - loss: 0.0479 - accuracy: 0.9474\n",
            "Epoch 302/500\n",
            "1/1 [==============================] - 0s 11ms/step - loss: 1.8777e-04 - accuracy: 1.0000\n",
            "Epoch 303/500\n",
            "1/1 [==============================] - 0s 11ms/step - loss: 0.0099 - accuracy: 1.0000\n",
            "Epoch 304/500\n",
            "1/1 [==============================] - 0s 9ms/step - loss: 0.0020 - accuracy: 1.0000\n",
            "Epoch 305/500\n",
            "1/1 [==============================] - 0s 8ms/step - loss: 0.0088 - accuracy: 1.0000\n",
            "Epoch 306/500\n",
            "1/1 [==============================] - 0s 9ms/step - loss: 3.9289e-04 - accuracy: 1.0000\n",
            "Epoch 307/500\n",
            "1/1 [==============================] - 0s 12ms/step - loss: 0.0012 - accuracy: 1.0000\n",
            "Epoch 308/500\n",
            "1/1 [==============================] - 0s 10ms/step - loss: 4.9562e-05 - accuracy: 1.0000\n",
            "Epoch 309/500\n",
            "1/1 [==============================] - 0s 12ms/step - loss: 0.1364 - accuracy: 0.9474\n",
            "Epoch 310/500\n",
            "1/1 [==============================] - 0s 13ms/step - loss: 4.5299e-06 - accuracy: 1.0000\n",
            "Epoch 311/500\n",
            "1/1 [==============================] - 0s 10ms/step - loss: 4.7351e-05 - accuracy: 1.0000\n",
            "Epoch 312/500\n",
            "1/1 [==============================] - 0s 10ms/step - loss: 1.0897e-04 - accuracy: 1.0000\n",
            "Epoch 313/500\n",
            "1/1 [==============================] - 0s 10ms/step - loss: 4.7671e-04 - accuracy: 1.0000\n",
            "Epoch 314/500\n",
            "1/1 [==============================] - 0s 11ms/step - loss: 2.0549e-04 - accuracy: 1.0000\n",
            "Epoch 315/500\n",
            "1/1 [==============================] - 0s 9ms/step - loss: 7.8612e-06 - accuracy: 1.0000\n",
            "Epoch 316/500\n",
            "1/1 [==============================] - 0s 8ms/step - loss: 0.0019 - accuracy: 1.0000\n",
            "Epoch 317/500\n",
            "1/1 [==============================] - 0s 8ms/step - loss: 4.8693e-05 - accuracy: 1.0000\n",
            "Epoch 318/500\n",
            "1/1 [==============================] - 0s 10ms/step - loss: 2.0666e-05 - accuracy: 1.0000\n",
            "Epoch 319/500\n",
            "1/1 [==============================] - 0s 12ms/step - loss: 1.4163e-04 - accuracy: 1.0000\n",
            "Epoch 320/500\n",
            "1/1 [==============================] - 0s 11ms/step - loss: 0.0569 - accuracy: 0.9474\n",
            "Epoch 321/500\n",
            "1/1 [==============================] - 0s 8ms/step - loss: 1.7861e-05 - accuracy: 1.0000\n",
            "Epoch 322/500\n"
          ]
        },
        {
          "name": "stdout",
          "output_type": "stream",
          "text": [
            "1/1 [==============================] - 0s 9ms/step - loss: 0.0205 - accuracy: 1.0000\n",
            "Epoch 323/500\n",
            "1/1 [==============================] - 0s 10ms/step - loss: 4.1093e-05 - accuracy: 1.0000\n",
            "Epoch 324/500\n",
            "1/1 [==============================] - 0s 10ms/step - loss: 2.4179e-05 - accuracy: 1.0000\n",
            "Epoch 325/500\n",
            "1/1 [==============================] - 0s 9ms/step - loss: 4.7558e-06 - accuracy: 1.0000\n",
            "Epoch 326/500\n",
            "1/1 [==============================] - 0s 12ms/step - loss: 7.2001e-05 - accuracy: 1.0000\n",
            "Epoch 327/500\n",
            "1/1 [==============================] - 0s 7ms/step - loss: 0.0013 - accuracy: 1.0000\n",
            "Epoch 328/500\n",
            "1/1 [==============================] - 0s 10ms/step - loss: 0.0011 - accuracy: 1.0000\n",
            "Epoch 329/500\n",
            "1/1 [==============================] - 0s 11ms/step - loss: 2.6137e-05 - accuracy: 1.0000\n",
            "Epoch 330/500\n",
            "1/1 [==============================] - 0s 9ms/step - loss: 4.4043e-06 - accuracy: 1.0000\n",
            "Epoch 331/500\n",
            "1/1 [==============================] - 0s 10ms/step - loss: 2.2882e-04 - accuracy: 1.0000\n",
            "Epoch 332/500\n",
            "1/1 [==============================] - 0s 12ms/step - loss: 3.0297e-04 - accuracy: 1.0000\n",
            "Epoch 333/500\n",
            "1/1 [==============================] - 0s 8ms/step - loss: 3.8312e-04 - accuracy: 1.0000\n",
            "Epoch 334/500\n",
            "1/1 [==============================] - 0s 9ms/step - loss: 2.7796e-04 - accuracy: 1.0000\n",
            "Epoch 335/500\n",
            "1/1 [==============================] - 0s 9ms/step - loss: 9.4674e-06 - accuracy: 1.0000\n",
            "Epoch 336/500\n",
            "1/1 [==============================] - 0s 10ms/step - loss: 3.7249e-05 - accuracy: 1.0000\n",
            "Epoch 337/500\n",
            "1/1 [==============================] - 0s 10ms/step - loss: 7.1627e-04 - accuracy: 1.0000\n",
            "Epoch 338/500\n",
            "1/1 [==============================] - 0s 12ms/step - loss: 4.8905e-05 - accuracy: 1.0000\n",
            "Epoch 339/500\n",
            "1/1 [==============================] - 0s 16ms/step - loss: 5.1492e-04 - accuracy: 1.0000\n",
            "Epoch 340/500\n",
            "1/1 [==============================] - 0s 13ms/step - loss: 1.6177e-04 - accuracy: 1.0000\n",
            "Epoch 341/500\n",
            "1/1 [==============================] - 0s 14ms/step - loss: 0.0095 - accuracy: 1.0000\n",
            "Epoch 342/500\n",
            "1/1 [==============================] - 0s 13ms/step - loss: 0.0012 - accuracy: 1.0000\n",
            "Epoch 343/500\n",
            "1/1 [==============================] - 0s 10ms/step - loss: 2.6284e-04 - accuracy: 1.0000\n",
            "Epoch 344/500\n",
            "1/1 [==============================] - 0s 11ms/step - loss: 3.7542e-04 - accuracy: 1.0000\n",
            "Epoch 345/500\n",
            "1/1 [==============================] - 0s 9ms/step - loss: 2.1669e-05 - accuracy: 1.0000\n",
            "Epoch 346/500\n",
            "1/1 [==============================] - 0s 10ms/step - loss: 6.8760e-04 - accuracy: 1.0000\n",
            "Epoch 347/500\n",
            "1/1 [==============================] - 0s 9ms/step - loss: 3.1038e-05 - accuracy: 1.0000\n",
            "Epoch 348/500\n",
            "1/1 [==============================] - 0s 9ms/step - loss: 4.2827e-05 - accuracy: 1.0000\n",
            "Epoch 349/500\n",
            "1/1 [==============================] - 0s 8ms/step - loss: 4.5953e-05 - accuracy: 1.0000\n",
            "Epoch 350/500\n",
            "1/1 [==============================] - 0s 7ms/step - loss: 7.6053e-05 - accuracy: 1.0000\n",
            "Epoch 351/500\n",
            "1/1 [==============================] - 0s 9ms/step - loss: 3.1691e-04 - accuracy: 1.0000\n",
            "Epoch 352/500\n",
            "1/1 [==============================] - 0s 6ms/step - loss: 0.0095 - accuracy: 1.0000\n",
            "Epoch 353/500\n",
            "1/1 [==============================] - 0s 12ms/step - loss: 6.9445e-04 - accuracy: 1.0000\n",
            "Epoch 354/500\n",
            "1/1 [==============================] - 0s 8ms/step - loss: 0.0013 - accuracy: 1.0000\n",
            "Epoch 355/500\n",
            "1/1 [==============================] - 0s 9ms/step - loss: 4.2198e-04 - accuracy: 1.0000\n",
            "Epoch 356/500\n",
            "1/1 [==============================] - 0s 8ms/step - loss: 4.0087e-05 - accuracy: 1.0000\n",
            "Epoch 357/500\n",
            "1/1 [==============================] - 0s 8ms/step - loss: 1.3156e-05 - accuracy: 1.0000\n",
            "Epoch 358/500\n",
            "1/1 [==============================] - 0s 11ms/step - loss: 1.3095e-04 - accuracy: 1.0000\n",
            "Epoch 359/500\n",
            "1/1 [==============================] - 0s 8ms/step - loss: 2.1153e-05 - accuracy: 1.0000\n",
            "Epoch 360/500\n",
            "1/1 [==============================] - 0s 10ms/step - loss: 4.5733e-04 - accuracy: 1.0000\n",
            "Epoch 361/500\n",
            "1/1 [==============================] - 0s 12ms/step - loss: 7.2061e-05 - accuracy: 1.0000\n",
            "Epoch 362/500\n",
            "1/1 [==============================] - 0s 11ms/step - loss: 9.2539e-06 - accuracy: 1.0000\n",
            "Epoch 363/500\n",
            "1/1 [==============================] - 0s 9ms/step - loss: 5.1134e-06 - accuracy: 1.0000\n",
            "Epoch 364/500\n",
            "1/1 [==============================] - 0s 8ms/step - loss: 0.0012 - accuracy: 1.0000\n",
            "Epoch 365/500\n",
            "1/1 [==============================] - 0s 7ms/step - loss: 0.0011 - accuracy: 1.0000\n",
            "Epoch 366/500\n",
            "1/1 [==============================] - 0s 10ms/step - loss: 0.0104 - accuracy: 1.0000\n",
            "Epoch 367/500\n",
            "1/1 [==============================] - 0s 7ms/step - loss: 0.0013 - accuracy: 1.0000\n",
            "Epoch 368/500\n",
            "1/1 [==============================] - 0s 10ms/step - loss: 0.0067 - accuracy: 1.0000\n",
            "Epoch 369/500\n",
            "1/1 [==============================] - 0s 7ms/step - loss: 1.3080e-05 - accuracy: 1.0000\n",
            "Epoch 370/500\n",
            "1/1 [==============================] - 0s 8ms/step - loss: 8.4074e-07 - accuracy: 1.0000\n",
            "Epoch 371/500\n",
            "1/1 [==============================] - 0s 9ms/step - loss: 0.0031 - accuracy: 1.0000\n",
            "Epoch 372/500\n",
            "1/1 [==============================] - 0s 11ms/step - loss: 0.0015 - accuracy: 1.0000\n",
            "Epoch 373/500\n",
            "1/1 [==============================] - 0s 7ms/step - loss: 4.8915e-05 - accuracy: 1.0000\n",
            "Epoch 374/500\n",
            "1/1 [==============================] - 0s 8ms/step - loss: 2.4860e-05 - accuracy: 1.0000\n",
            "Epoch 375/500\n",
            "1/1 [==============================] - 0s 12ms/step - loss: 6.7783e-04 - accuracy: 1.0000\n",
            "Epoch 376/500\n",
            "1/1 [==============================] - 0s 10ms/step - loss: 8.4697e-06 - accuracy: 1.0000\n",
            "Epoch 377/500\n",
            "1/1 [==============================] - 0s 9ms/step - loss: 7.5218e-05 - accuracy: 1.0000\n",
            "Epoch 378/500\n",
            "1/1 [==============================] - 0s 8ms/step - loss: 3.1200e-04 - accuracy: 1.0000\n",
            "Epoch 379/500\n",
            "1/1 [==============================] - 0s 10ms/step - loss: 3.1054e-05 - accuracy: 1.0000\n",
            "Epoch 380/500\n",
            "1/1 [==============================] - 0s 12ms/step - loss: 8.7385e-05 - accuracy: 1.0000\n",
            "Epoch 381/500\n",
            "1/1 [==============================] - 0s 10ms/step - loss: 3.1001e-05 - accuracy: 1.0000\n",
            "Epoch 382/500\n",
            "1/1 [==============================] - 0s 9ms/step - loss: 8.9530e-06 - accuracy: 1.0000\n",
            "Epoch 383/500\n",
            "1/1 [==============================] - 0s 7ms/step - loss: 3.0513e-04 - accuracy: 1.0000\n",
            "Epoch 384/500\n",
            "1/1 [==============================] - 0s 8ms/step - loss: 3.3352e-04 - accuracy: 1.0000\n",
            "Epoch 385/500\n",
            "1/1 [==============================] - 0s 7ms/step - loss: 2.6052e-05 - accuracy: 1.0000\n",
            "Epoch 386/500\n",
            "1/1 [==============================] - 0s 10ms/step - loss: 0.0479 - accuracy: 0.9474\n",
            "Epoch 387/500\n",
            "1/1 [==============================] - 0s 9ms/step - loss: 1.8700e-05 - accuracy: 1.0000\n",
            "Epoch 388/500\n",
            "1/1 [==============================] - 0s 9ms/step - loss: 5.8210e-04 - accuracy: 1.0000\n",
            "Epoch 389/500\n",
            "1/1 [==============================] - 0s 11ms/step - loss: 1.8533e-04 - accuracy: 1.0000\n",
            "Epoch 390/500\n",
            "1/1 [==============================] - 0s 10ms/step - loss: 4.1539e-04 - accuracy: 1.0000\n",
            "Epoch 391/500\n",
            "1/1 [==============================] - 0s 9ms/step - loss: 1.5645e-04 - accuracy: 1.0000\n",
            "Epoch 392/500\n",
            "1/1 [==============================] - 0s 7ms/step - loss: 0.0368 - accuracy: 0.9474\n",
            "Epoch 393/500\n",
            "1/1 [==============================] - 0s 11ms/step - loss: 4.5156e-04 - accuracy: 1.0000\n",
            "Epoch 394/500\n",
            "1/1 [==============================] - 0s 10ms/step - loss: 3.6717e-05 - accuracy: 1.0000\n",
            "Epoch 395/500\n",
            "1/1 [==============================] - 0s 7ms/step - loss: 3.7027e-05 - accuracy: 1.0000\n",
            "Epoch 396/500\n",
            "1/1 [==============================] - 0s 9ms/step - loss: 5.6173e-04 - accuracy: 1.0000\n",
            "Epoch 397/500\n",
            "1/1 [==============================] - 0s 9ms/step - loss: 5.7052e-05 - accuracy: 1.0000\n",
            "Epoch 398/500\n",
            "1/1 [==============================] - 0s 7ms/step - loss: 5.8726e-06 - accuracy: 1.0000\n",
            "Epoch 399/500\n",
            "1/1 [==============================] - 0s 10ms/step - loss: 4.7432e-06 - accuracy: 1.0000\n",
            "Epoch 400/500\n",
            "1/1 [==============================] - 0s 5ms/step - loss: 1.0088e-05 - accuracy: 1.0000\n",
            "Epoch 401/500\n"
          ]
        },
        {
          "name": "stdout",
          "output_type": "stream",
          "text": [
            "1/1 [==============================] - 0s 8ms/step - loss: 3.7770e-06 - accuracy: 1.0000\n",
            "Epoch 402/500\n",
            "1/1 [==============================] - 0s 9ms/step - loss: 3.4509e-05 - accuracy: 1.0000\n",
            "Epoch 403/500\n",
            "1/1 [==============================] - 0s 7ms/step - loss: 3.8272e-07 - accuracy: 1.0000\n",
            "Epoch 404/500\n",
            "1/1 [==============================] - 0s 7ms/step - loss: 1.9146e-05 - accuracy: 1.0000\n",
            "Epoch 405/500\n",
            "1/1 [==============================] - 0s 9ms/step - loss: 7.8427e-07 - accuracy: 1.0000\n",
            "Epoch 406/500\n",
            "1/1 [==============================] - 0s 10ms/step - loss: 0.0025 - accuracy: 1.0000\n",
            "Epoch 407/500\n",
            "1/1 [==============================] - 0s 13ms/step - loss: 1.6085e-05 - accuracy: 1.0000\n",
            "Epoch 408/500\n",
            "1/1 [==============================] - 0s 12ms/step - loss: 3.7407e-05 - accuracy: 1.0000\n",
            "Epoch 409/500\n",
            "1/1 [==============================] - 0s 11ms/step - loss: 2.4469e-06 - accuracy: 1.0000\n",
            "Epoch 410/500\n",
            "1/1 [==============================] - 0s 8ms/step - loss: 4.8133e-05 - accuracy: 1.0000\n",
            "Epoch 411/500\n",
            "1/1 [==============================] - 0s 10ms/step - loss: 0.0121 - accuracy: 1.0000\n",
            "Epoch 412/500\n",
            "1/1 [==============================] - 0s 8ms/step - loss: 5.3769e-05 - accuracy: 1.0000\n",
            "Epoch 413/500\n",
            "1/1 [==============================] - 0s 7ms/step - loss: 3.4546e-04 - accuracy: 1.0000\n",
            "Epoch 414/500\n",
            "1/1 [==============================] - 0s 9ms/step - loss: 2.8655e-05 - accuracy: 1.0000\n",
            "Epoch 415/500\n",
            "1/1 [==============================] - 0s 10ms/step - loss: 5.6968e-06 - accuracy: 1.0000\n",
            "Epoch 416/500\n",
            "1/1 [==============================] - 0s 8ms/step - loss: 8.0243e-06 - accuracy: 1.0000\n",
            "Epoch 417/500\n",
            "1/1 [==============================] - 0s 10ms/step - loss: 0.0101 - accuracy: 1.0000\n",
            "Epoch 418/500\n",
            "1/1 [==============================] - 0s 13ms/step - loss: 2.5439e-05 - accuracy: 1.0000\n",
            "Epoch 419/500\n",
            "1/1 [==============================] - 0s 11ms/step - loss: 5.4884e-05 - accuracy: 1.0000\n",
            "Epoch 420/500\n",
            "1/1 [==============================] - 0s 12ms/step - loss: 3.3174e-05 - accuracy: 1.0000\n",
            "Epoch 421/500\n",
            "1/1 [==============================] - 0s 10ms/step - loss: 0.0240 - accuracy: 1.0000\n",
            "Epoch 422/500\n",
            "1/1 [==============================] - 0s 10ms/step - loss: 1.0684e-05 - accuracy: 1.0000\n",
            "Epoch 423/500\n",
            "1/1 [==============================] - 0s 12ms/step - loss: 1.6940e-06 - accuracy: 1.0000\n",
            "Epoch 424/500\n",
            "1/1 [==============================] - 0s 9ms/step - loss: 6.6164e-04 - accuracy: 1.0000\n",
            "Epoch 425/500\n",
            "1/1 [==============================] - 0s 9ms/step - loss: 1.2358e-04 - accuracy: 1.0000\n",
            "Epoch 426/500\n",
            "1/1 [==============================] - 0s 6ms/step - loss: 4.6397e-04 - accuracy: 1.0000\n",
            "Epoch 427/500\n",
            "1/1 [==============================] - 0s 6ms/step - loss: 2.3318e-04 - accuracy: 1.0000\n",
            "Epoch 428/500\n",
            "1/1 [==============================] - 0s 7ms/step - loss: 3.5278e-04 - accuracy: 1.0000\n",
            "Epoch 429/500\n",
            "1/1 [==============================] - 0s 6ms/step - loss: 0.0017 - accuracy: 1.0000\n",
            "Epoch 430/500\n",
            "1/1 [==============================] - 0s 7ms/step - loss: 3.5600e-05 - accuracy: 1.0000\n",
            "Epoch 431/500\n",
            "1/1 [==============================] - 0s 8ms/step - loss: 4.0155e-07 - accuracy: 1.0000\n",
            "Epoch 432/500\n",
            "1/1 [==============================] - 0s 7ms/step - loss: 5.9649e-04 - accuracy: 1.0000\n",
            "Epoch 433/500\n",
            "1/1 [==============================] - 0s 8ms/step - loss: 0.0019 - accuracy: 1.0000\n",
            "Epoch 434/500\n",
            "1/1 [==============================] - 0s 10ms/step - loss: 6.9665e-05 - accuracy: 1.0000\n",
            "Epoch 435/500\n",
            "1/1 [==============================] - 0s 9ms/step - loss: 5.2979e-05 - accuracy: 1.0000\n",
            "Epoch 436/500\n",
            "1/1 [==============================] - 0s 11ms/step - loss: 9.7435e-06 - accuracy: 1.0000\n",
            "Epoch 437/500\n",
            "1/1 [==============================] - 0s 9ms/step - loss: 1.0559e-05 - accuracy: 1.0000\n",
            "Epoch 438/500\n",
            "1/1 [==============================] - 0s 7ms/step - loss: 6.9259e-05 - accuracy: 1.0000\n",
            "Epoch 439/500\n",
            "1/1 [==============================] - 0s 8ms/step - loss: 8.0622e-06 - accuracy: 1.0000\n",
            "Epoch 440/500\n",
            "1/1 [==============================] - 0s 10ms/step - loss: 0.0028 - accuracy: 1.0000\n",
            "Epoch 441/500\n",
            "1/1 [==============================] - 0s 9ms/step - loss: 2.6540e-06 - accuracy: 1.0000\n",
            "Epoch 442/500\n",
            "1/1 [==============================] - 0s 6ms/step - loss: 2.4343e-06 - accuracy: 1.0000\n",
            "Epoch 443/500\n",
            "1/1 [==============================] - 0s 7ms/step - loss: 4.2636e-04 - accuracy: 1.0000\n",
            "Epoch 444/500\n",
            "1/1 [==============================] - 0s 11ms/step - loss: 3.9013e-05 - accuracy: 1.0000\n",
            "Epoch 445/500\n",
            "1/1 [==============================] - 0s 10ms/step - loss: 0.0031 - accuracy: 1.0000\n",
            "Epoch 446/500\n",
            "1/1 [==============================] - 0s 9ms/step - loss: 0.0022 - accuracy: 1.0000\n",
            "Epoch 447/500\n",
            "1/1 [==============================] - 0s 10ms/step - loss: 0.0373 - accuracy: 0.9474\n",
            "Epoch 448/500\n",
            "1/1 [==============================] - 0s 10ms/step - loss: 8.0051e-04 - accuracy: 1.0000\n",
            "Epoch 449/500\n",
            "1/1 [==============================] - 0s 12ms/step - loss: 8.0937e-07 - accuracy: 1.0000\n",
            "Epoch 450/500\n",
            "1/1 [==============================] - 0s 7ms/step - loss: 7.0045e-05 - accuracy: 1.0000\n",
            "Epoch 451/500\n",
            "1/1 [==============================] - 0s 11ms/step - loss: 3.3871e-05 - accuracy: 1.0000\n",
            "Epoch 452/500\n",
            "1/1 [==============================] - 0s 9ms/step - loss: 1.2817e-05 - accuracy: 1.0000\n",
            "Epoch 453/500\n",
            "1/1 [==============================] - 0s 8ms/step - loss: 7.0271e-07 - accuracy: 1.0000\n",
            "Epoch 454/500\n",
            "1/1 [==============================] - 0s 6ms/step - loss: 1.1443e-05 - accuracy: 1.0000\n",
            "Epoch 455/500\n",
            "1/1 [==============================] - 0s 6ms/step - loss: 1.4881e-05 - accuracy: 1.0000\n",
            "Epoch 456/500\n",
            "1/1 [==============================] - 0s 9ms/step - loss: 9.0533e-06 - accuracy: 1.0000\n",
            "Epoch 457/500\n",
            "1/1 [==============================] - 0s 7ms/step - loss: 1.0290e-06 - accuracy: 1.0000\n",
            "Epoch 458/500\n",
            "1/1 [==============================] - 0s 8ms/step - loss: 4.9566e-07 - accuracy: 1.0000\n",
            "Epoch 459/500\n",
            "1/1 [==============================] - 0s 8ms/step - loss: 7.6918e-06 - accuracy: 1.0000\n",
            "Epoch 460/500\n",
            "1/1 [==============================] - 0s 10ms/step - loss: 1.2157e-04 - accuracy: 1.0000\n",
            "Epoch 461/500\n",
            "1/1 [==============================] - 0s 10ms/step - loss: 0.0016 - accuracy: 1.0000\n",
            "Epoch 462/500\n",
            "1/1 [==============================] - 0s 11ms/step - loss: 4.0887e-04 - accuracy: 1.0000\n",
            "Epoch 463/500\n",
            "1/1 [==============================] - 0s 10ms/step - loss: 8.0946e-04 - accuracy: 1.0000\n",
            "Epoch 464/500\n",
            "1/1 [==============================] - 0s 12ms/step - loss: 0.0089 - accuracy: 1.0000\n",
            "Epoch 465/500\n",
            "1/1 [==============================] - 0s 11ms/step - loss: 0.0148 - accuracy: 1.0000\n",
            "Epoch 466/500\n",
            "1/1 [==============================] - 0s 7ms/step - loss: 7.2964e-06 - accuracy: 1.0000\n",
            "Epoch 467/500\n",
            "1/1 [==============================] - 0s 8ms/step - loss: 6.1870e-05 - accuracy: 1.0000\n",
            "Epoch 468/500\n",
            "1/1 [==============================] - 0s 8ms/step - loss: 4.2253e-05 - accuracy: 1.0000\n",
            "Epoch 469/500\n",
            "1/1 [==============================] - 0s 7ms/step - loss: 2.8484e-06 - accuracy: 1.0000\n",
            "Epoch 470/500\n",
            "1/1 [==============================] - 0s 10ms/step - loss: 2.8735e-06 - accuracy: 1.0000\n",
            "Epoch 471/500\n",
            "1/1 [==============================] - 0s 9ms/step - loss: 2.7230e-06 - accuracy: 1.0000\n",
            "Epoch 472/500\n",
            "1/1 [==============================] - 0s 10ms/step - loss: 2.9489e-07 - accuracy: 1.0000\n",
            "Epoch 473/500\n",
            "1/1 [==============================] - 0s 9ms/step - loss: 2.3068e-05 - accuracy: 1.0000\n",
            "Epoch 474/500\n",
            "1/1 [==============================] - 0s 9ms/step - loss: 5.0821e-07 - accuracy: 1.0000\n",
            "Epoch 475/500\n",
            "1/1 [==============================] - 0s 8ms/step - loss: 0.0023 - accuracy: 1.0000\n",
            "Epoch 476/500\n",
            "1/1 [==============================] - 0s 8ms/step - loss: 0.0023 - accuracy: 1.0000\n",
            "Epoch 477/500\n",
            "1/1 [==============================] - 0s 9ms/step - loss: 7.9804e-05 - accuracy: 1.0000\n",
            "Epoch 478/500\n",
            "1/1 [==============================] - 0s 10ms/step - loss: 9.5877e-04 - accuracy: 1.0000\n",
            "Epoch 479/500\n",
            "1/1 [==============================] - 0s 12ms/step - loss: 1.5497e-06 - accuracy: 1.0000\n",
            "Epoch 480/500\n"
          ]
        },
        {
          "name": "stdout",
          "output_type": "stream",
          "text": [
            "1/1 [==============================] - 0s 10ms/step - loss: 5.9866e-05 - accuracy: 1.0000\n",
            "Epoch 481/500\n",
            "1/1 [==============================] - 0s 9ms/step - loss: 9.2809e-05 - accuracy: 1.0000\n",
            "Epoch 482/500\n",
            "1/1 [==============================] - 0s 10ms/step - loss: 1.5276e-05 - accuracy: 1.0000\n",
            "Epoch 483/500\n",
            "1/1 [==============================] - 0s 10ms/step - loss: 7.4515e-05 - accuracy: 1.0000\n",
            "Epoch 484/500\n",
            "1/1 [==============================] - 0s 11ms/step - loss: 2.3430e-05 - accuracy: 1.0000\n",
            "Epoch 485/500\n",
            "1/1 [==============================] - 0s 7ms/step - loss: 0.0087 - accuracy: 1.0000\n",
            "Epoch 486/500\n",
            "1/1 [==============================] - 0s 9ms/step - loss: 9.8032e-05 - accuracy: 1.0000\n",
            "Epoch 487/500\n",
            "1/1 [==============================] - 0s 11ms/step - loss: 0.0021 - accuracy: 1.0000\n",
            "Epoch 488/500\n",
            "1/1 [==============================] - 0s 10ms/step - loss: 2.0895e-04 - accuracy: 1.0000\n",
            "Epoch 489/500\n",
            "1/1 [==============================] - 0s 11ms/step - loss: 7.0268e-06 - accuracy: 1.0000\n",
            "Epoch 490/500\n",
            "1/1 [==============================] - 0s 9ms/step - loss: 4.6476e-05 - accuracy: 1.0000\n",
            "Epoch 491/500\n",
            "1/1 [==============================] - 0s 11ms/step - loss: 4.1408e-06 - accuracy: 1.0000\n",
            "Epoch 492/500\n",
            "1/1 [==============================] - 0s 9ms/step - loss: 1.0791e-06 - accuracy: 1.0000\n",
            "Epoch 493/500\n",
            "1/1 [==============================] - 0s 13ms/step - loss: 1.7190e-04 - accuracy: 1.0000\n",
            "Epoch 494/500\n",
            "1/1 [==============================] - 0s 12ms/step - loss: 2.5343e-05 - accuracy: 1.0000\n",
            "Epoch 495/500\n",
            "1/1 [==============================] - 0s 11ms/step - loss: 4.5577e-05 - accuracy: 1.0000\n",
            "Epoch 496/500\n",
            "1/1 [==============================] - 0s 11ms/step - loss: 4.6437e-04 - accuracy: 1.0000\n",
            "Epoch 497/500\n",
            "1/1 [==============================] - 0s 10ms/step - loss: 2.0538e-05 - accuracy: 1.0000\n",
            "Epoch 498/500\n",
            "1/1 [==============================] - 0s 11ms/step - loss: 6.9423e-05 - accuracy: 1.0000\n",
            "Epoch 499/500\n",
            "1/1 [==============================] - 0s 9ms/step - loss: 0.0067 - accuracy: 1.0000\n",
            "Epoch 500/500\n",
            "1/1 [==============================] - 0s 7ms/step - loss: 6.0906e-05 - accuracy: 1.0000\n"
          ]
        },
        {
          "data": {
            "text/plain": [
              "<keras.src.callbacks.History at 0x2464b570cd0>"
            ]
          },
          "execution_count": 75,
          "metadata": {},
          "output_type": "execute_result"
        }
      ],
      "source": [
        "model.fit(x=train_X, y=train_y, epochs=500, verbose=1)"
      ]
    },
    {
      "cell_type": "code",
      "execution_count": null,
      "id": "d9531074",
      "metadata": {
        "id": "d9531074"
      },
      "outputs": [],
      "source": [
        "def clean_text(text):\n",
        "    tokens=nltk.word_tokenize(text)\n",
        "    tokens=[lemmatizer.lemmatize(word) for word in tokens]\n",
        "    return tokens\n",
        "\n",
        "def bag_of_words(text,vocab):\n",
        "    tokens=clean_text(text)\n",
        "    bow=[0]*len(vocab)\n",
        "    for w in tokens:\n",
        "        for idx, word in enumerate(vocab):\n",
        "            if word==w:\n",
        "                bow[idx]=1\n",
        "    return np.array(bow)"
      ]
    },
    {
      "cell_type": "code",
      "execution_count": null,
      "id": "5fcce4db",
      "metadata": {
        "id": "5fcce4db"
      },
      "outputs": [],
      "source": [
        "def pred_class(text, vocab,labels):\n",
        "    bow=bag_of_words(text, vocab)\n",
        "    result=model.predict(np.array([bow]))[0]\n",
        "    thresh=0.2\n",
        "    y_pred=[[idx,res] for idx, res in enumerate(result) if res>thresh]\n",
        "\n",
        "    y_pred.sort(key=lambda x:x[1], reverse=True)\n",
        "    return_list=[]\n",
        "    for r in y_pred:\n",
        "        return_list.append(labels[r[0]])\n",
        "    return return_list\n",
        "\n",
        "def get_response(intents_list, intents_json):\n",
        "    tag=intents_list[0]\n",
        "    list_of_intents=intents_json[\"intents\"]\n",
        "    for i in list_of_intents:\n",
        "        if i[\"tag\"]==tag:\n",
        "            result=random.choice(i[\"responses\"])\n",
        "            break\n",
        "    return result"
      ]
    },
    {
      "cell_type": "markdown",
      "id": "aebac6c1",
      "metadata": {
        "id": "aebac6c1"
      },
      "source": [
        "Running the chatbot"
      ]
    },
    {
      "cell_type": "code",
      "execution_count": null,
      "id": "f96e6b35",
      "metadata": {
        "id": "f96e6b35",
        "outputId": "f2cabfa9-fc5c-40e0-b75c-a82de574dd13"
      },
      "outputs": [
        {
          "name": "stdout",
          "output_type": "stream",
          "text": [
            "hello\n",
            "1/1 [==============================] - 0s 105ms/step\n",
            "Hello\n",
            "what is your name\n",
            "1/1 [==============================] - 0s 38ms/step\n",
            "Kippi\n"
          ]
        },
        {
          "ename": "KeyboardInterrupt",
          "evalue": "Interrupted by user",
          "output_type": "error",
          "traceback": [
            "\u001b[1;31m---------------------------------------------------------------------------\u001b[0m",
            "\u001b[1;31mKeyboardInterrupt\u001b[0m                         Traceback (most recent call last)",
            "Input \u001b[1;32mIn [78]\u001b[0m, in \u001b[0;36m<cell line: 2>\u001b[1;34m()\u001b[0m\n\u001b[0;32m      1\u001b[0m \u001b[38;5;28;01mwhile\u001b[39;00m \u001b[38;5;28;01mTrue\u001b[39;00m:\n\u001b[1;32m----> 2\u001b[0m     message\u001b[38;5;241m=\u001b[39m\u001b[38;5;28;43minput\u001b[39;49m\u001b[43m(\u001b[49m\u001b[38;5;124;43m\"\u001b[39;49m\u001b[38;5;124;43m\"\u001b[39;49m\u001b[43m)\u001b[49m\n\u001b[0;32m      3\u001b[0m     intents\u001b[38;5;241m=\u001b[39mpred_class(message, words, classes)\n\u001b[0;32m      4\u001b[0m     result\u001b[38;5;241m=\u001b[39mget_response(intents,data)\n",
            "File \u001b[1;32mC:\\ProgramData\\Anaconda3\\lib\\site-packages\\ipykernel\\kernelbase.py:1075\u001b[0m, in \u001b[0;36mKernel.raw_input\u001b[1;34m(self, prompt)\u001b[0m\n\u001b[0;32m   1071\u001b[0m \u001b[38;5;28;01mif\u001b[39;00m \u001b[38;5;129;01mnot\u001b[39;00m \u001b[38;5;28mself\u001b[39m\u001b[38;5;241m.\u001b[39m_allow_stdin:\n\u001b[0;32m   1072\u001b[0m     \u001b[38;5;28;01mraise\u001b[39;00m StdinNotImplementedError(\n\u001b[0;32m   1073\u001b[0m         \u001b[38;5;124m\"\u001b[39m\u001b[38;5;124mraw_input was called, but this frontend does not support input requests.\u001b[39m\u001b[38;5;124m\"\u001b[39m\n\u001b[0;32m   1074\u001b[0m     )\n\u001b[1;32m-> 1075\u001b[0m \u001b[38;5;28;01mreturn\u001b[39;00m \u001b[38;5;28;43mself\u001b[39;49m\u001b[38;5;241;43m.\u001b[39;49m\u001b[43m_input_request\u001b[49m\u001b[43m(\u001b[49m\n\u001b[0;32m   1076\u001b[0m \u001b[43m    \u001b[49m\u001b[38;5;28;43mstr\u001b[39;49m\u001b[43m(\u001b[49m\u001b[43mprompt\u001b[49m\u001b[43m)\u001b[49m\u001b[43m,\u001b[49m\n\u001b[0;32m   1077\u001b[0m \u001b[43m    \u001b[49m\u001b[38;5;28;43mself\u001b[39;49m\u001b[38;5;241;43m.\u001b[39;49m\u001b[43m_parent_ident\u001b[49m\u001b[43m[\u001b[49m\u001b[38;5;124;43m\"\u001b[39;49m\u001b[38;5;124;43mshell\u001b[39;49m\u001b[38;5;124;43m\"\u001b[39;49m\u001b[43m]\u001b[49m\u001b[43m,\u001b[49m\n\u001b[0;32m   1078\u001b[0m \u001b[43m    \u001b[49m\u001b[38;5;28;43mself\u001b[39;49m\u001b[38;5;241;43m.\u001b[39;49m\u001b[43mget_parent\u001b[49m\u001b[43m(\u001b[49m\u001b[38;5;124;43m\"\u001b[39;49m\u001b[38;5;124;43mshell\u001b[39;49m\u001b[38;5;124;43m\"\u001b[39;49m\u001b[43m)\u001b[49m\u001b[43m,\u001b[49m\n\u001b[0;32m   1079\u001b[0m \u001b[43m    \u001b[49m\u001b[43mpassword\u001b[49m\u001b[38;5;241;43m=\u001b[39;49m\u001b[38;5;28;43;01mFalse\u001b[39;49;00m\u001b[43m,\u001b[49m\n\u001b[0;32m   1080\u001b[0m \u001b[43m\u001b[49m\u001b[43m)\u001b[49m\n",
            "File \u001b[1;32mC:\\ProgramData\\Anaconda3\\lib\\site-packages\\ipykernel\\kernelbase.py:1120\u001b[0m, in \u001b[0;36mKernel._input_request\u001b[1;34m(self, prompt, ident, parent, password)\u001b[0m\n\u001b[0;32m   1117\u001b[0m             \u001b[38;5;28;01mbreak\u001b[39;00m\n\u001b[0;32m   1118\u001b[0m \u001b[38;5;28;01mexcept\u001b[39;00m \u001b[38;5;167;01mKeyboardInterrupt\u001b[39;00m:\n\u001b[0;32m   1119\u001b[0m     \u001b[38;5;66;03m# re-raise KeyboardInterrupt, to truncate traceback\u001b[39;00m\n\u001b[1;32m-> 1120\u001b[0m     \u001b[38;5;28;01mraise\u001b[39;00m \u001b[38;5;167;01mKeyboardInterrupt\u001b[39;00m(\u001b[38;5;124m\"\u001b[39m\u001b[38;5;124mInterrupted by user\u001b[39m\u001b[38;5;124m\"\u001b[39m) \u001b[38;5;28;01mfrom\u001b[39;00m \u001b[38;5;28;01mNone\u001b[39;00m\n\u001b[0;32m   1121\u001b[0m \u001b[38;5;28;01mexcept\u001b[39;00m \u001b[38;5;167;01mException\u001b[39;00m:\n\u001b[0;32m   1122\u001b[0m     \u001b[38;5;28mself\u001b[39m\u001b[38;5;241m.\u001b[39mlog\u001b[38;5;241m.\u001b[39mwarning(\u001b[38;5;124m\"\u001b[39m\u001b[38;5;124mInvalid Message:\u001b[39m\u001b[38;5;124m\"\u001b[39m, exc_info\u001b[38;5;241m=\u001b[39m\u001b[38;5;28;01mTrue\u001b[39;00m)\n",
            "\u001b[1;31mKeyboardInterrupt\u001b[0m: Interrupted by user"
          ]
        }
      ],
      "source": [
        "while True:\n",
        "    message=input(\"\")\n",
        "    intents=pred_class(message, words, classes)\n",
        "    result=get_response(intents,data)\n",
        "    print(result)"
      ]
    },
    {
      "cell_type": "code",
      "execution_count": null,
      "id": "5ed90b34",
      "metadata": {
        "id": "5ed90b34"
      },
      "outputs": [],
      "source": []
    }
  ],
  "metadata": {
    "kernelspec": {
      "display_name": "Python 3 (ipykernel)",
      "language": "python",
      "name": "python3"
    },
    "language_info": {
      "codemirror_mode": {
        "name": "ipython",
        "version": 3
      },
      "file_extension": ".py",
      "mimetype": "text/x-python",
      "name": "python",
      "nbconvert_exporter": "python",
      "pygments_lexer": "ipython3",
      "version": "3.9.12"
    },
    "colab": {
      "provenance": []
    }
  },
  "nbformat": 4,
  "nbformat_minor": 5
}